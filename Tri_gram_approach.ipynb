{
  "nbformat": 4,
  "nbformat_minor": 0,
  "metadata": {
    "colab": {
      "name": "Tri gram approach.ipynb",
      "provenance": []
    },
    "kernelspec": {
      "name": "python3",
      "display_name": "Python 3"
    }
  },
  "cells": [
    {
      "cell_type": "markdown",
      "metadata": {
        "id": "4b6FcKbB0s99"
      },
      "source": [
        "**Import essential library**"
      ]
    },
    {
      "cell_type": "code",
      "metadata": {
        "id": "X1tTp_DZ0wel"
      },
      "source": [
        "import pandas as pd\n",
        "import numpy as np\n",
        "from sklearn.model_selection import train_test_split,GridSearchCV\n",
        "from sklearn.metrics import accuracy_score, confusion_matrix, roc_curve, roc_auc_score\n",
        "\n",
        "from sklearn.feature_extraction.text import TfidfVectorizer\n",
        "from sklearn.tree import DecisionTreeClassifier\n",
        "from sklearn.linear_model import LogisticRegression\n",
        "from sklearn.svm import SVC\n",
        "from sklearn.ensemble import RandomForestClassifier\n",
        "from sklearn.neighbors import KNeighborsClassifier\n",
        "from sklearn.naive_bayes import GaussianNB\n",
        "from sklearn.naive_bayes import MultinomialNB\n",
        "from sklearn.metrics import accuracy_score, classification_report, confusion_matrix\n",
        "from sklearn.model_selection import cross_val_score\n",
        "from sklearn.datasets import make_classification\n",
        "from sklearn.ensemble import GradientBoostingClassifier\n",
        "\n",
        "import sklearn\n",
        "from imblearn.combine import SMOTETomek\n",
        "from imblearn.under_sampling import NearMiss\n",
        "from imblearn.over_sampling import RandomOverSampler\n",
        "from sklearn.svm import SVC\n",
        "from sklearn.linear_model import LogisticRegression\n",
        "from sklearn import svm\n",
        "import warnings\n",
        "warnings.simplefilter(\"ignore\")"
      ],
      "execution_count": null,
      "outputs": []
    },
    {
      "cell_type": "markdown",
      "metadata": {
        "id": "Q6cFneK1039u"
      },
      "source": [
        "**Load dataset**"
      ]
    },
    {
      "cell_type": "code",
      "metadata": {
        "id": "WK19lvSo07NP",
        "outputId": "35cd246a-7d09-4f62-e979-673af34abedf",
        "colab": {
          "base_uri": "https://localhost:8080/",
          "height": 34
        }
      },
      "source": [
        "from google.colab import drive\n",
        "drive.mount('/gdrive', force_remount=True)"
      ],
      "execution_count": null,
      "outputs": [
        {
          "output_type": "stream",
          "text": [
            "Mounted at /gdrive\n"
          ],
          "name": "stdout"
        }
      ]
    },
    {
      "cell_type": "code",
      "metadata": {
        "id": "NdiAS9lQ1ePU"
      },
      "source": [
        "# Load dataset\n",
        "def load_data():\n",
        "    data =pd.read_csv(\"/content/drive/My Drive/Colab Notebooks/Data/processing_file2.csv\", engine='python')\n",
        "    return data"
      ],
      "execution_count": 2,
      "outputs": []
    },
    {
      "cell_type": "code",
      "metadata": {
        "id": "pEPYCg2E1mb1",
        "outputId": "ed670409-ac62-4b16-8cd3-ee0193c5e591",
        "colab": {
          "base_uri": "https://localhost:8080/",
          "height": 197
        }
      },
      "source": [
        "tweet_df = load_data()\n",
        "tweet_df.head()"
      ],
      "execution_count": 3,
      "outputs": [
        {
          "output_type": "execute_result",
          "data": {
            "text/html": [
              "<div>\n",
              "<style scoped>\n",
              "    .dataframe tbody tr th:only-of-type {\n",
              "        vertical-align: middle;\n",
              "    }\n",
              "\n",
              "    .dataframe tbody tr th {\n",
              "        vertical-align: top;\n",
              "    }\n",
              "\n",
              "    .dataframe thead th {\n",
              "        text-align: right;\n",
              "    }\n",
              "</style>\n",
              "<table border=\"1\" class=\"dataframe\">\n",
              "  <thead>\n",
              "    <tr style=\"text-align: right;\">\n",
              "      <th></th>\n",
              "      <th>Unnamed: 0</th>\n",
              "      <th>UserName</th>\n",
              "      <th>label</th>\n",
              "      <th>Tweet_stemmed</th>\n",
              "      <th>Tweet_lemmatized</th>\n",
              "    </tr>\n",
              "  </thead>\n",
              "  <tbody>\n",
              "    <tr>\n",
              "      <th>0</th>\n",
              "      <td>0</td>\n",
              "      <td>3799</td>\n",
              "      <td>0.0</td>\n",
              "      <td>['menyrbi', 'philgahan', 'chrisitv', 'httpstco...</td>\n",
              "      <td>['menyrbie', 'philgahan', 'chrisitv', 'httpstc...</td>\n",
              "    </tr>\n",
              "    <tr>\n",
              "      <th>1</th>\n",
              "      <td>1</td>\n",
              "      <td>3800</td>\n",
              "      <td>1.0</td>\n",
              "      <td>['advic', 'talk', 'neighbour', 'famili', 'exch...</td>\n",
              "      <td>['advice', 'talk', 'neighbour', 'family', 'exc...</td>\n",
              "    </tr>\n",
              "    <tr>\n",
              "      <th>2</th>\n",
              "      <td>2</td>\n",
              "      <td>3801</td>\n",
              "      <td>1.0</td>\n",
              "      <td>['coronaviru', 'australia', 'woolworth', 'give...</td>\n",
              "      <td>['coronavirus', 'australia', 'woolworth', 'giv...</td>\n",
              "    </tr>\n",
              "    <tr>\n",
              "      <th>3</th>\n",
              "      <td>3</td>\n",
              "      <td>3802</td>\n",
              "      <td>1.0</td>\n",
              "      <td>['food', 'stock', 'one', 'empti', 'pleas', 'do...</td>\n",
              "      <td>['food', 'stock', 'one', 'empty', 'please', 'd...</td>\n",
              "    </tr>\n",
              "    <tr>\n",
              "      <th>4</th>\n",
              "      <td>4</td>\n",
              "      <td>3803</td>\n",
              "      <td>3.0</td>\n",
              "      <td>['readi', 'go', 'supermarket', 'covid', 'outbr...</td>\n",
              "      <td>['ready', 'go', 'supermarket', 'covid', 'outbr...</td>\n",
              "    </tr>\n",
              "  </tbody>\n",
              "</table>\n",
              "</div>"
            ],
            "text/plain": [
              "   Unnamed: 0  ...                                   Tweet_lemmatized\n",
              "0           0  ...  ['menyrbie', 'philgahan', 'chrisitv', 'httpstc...\n",
              "1           1  ...  ['advice', 'talk', 'neighbour', 'family', 'exc...\n",
              "2           2  ...  ['coronavirus', 'australia', 'woolworth', 'giv...\n",
              "3           3  ...  ['food', 'stock', 'one', 'empty', 'please', 'd...\n",
              "4           4  ...  ['ready', 'go', 'supermarket', 'covid', 'outbr...\n",
              "\n",
              "[5 rows x 5 columns]"
            ]
          },
          "metadata": {
            "tags": []
          },
          "execution_count": 3
        }
      ]
    },
    {
      "cell_type": "code",
      "metadata": {
        "id": "VOo84aPR4HVO"
      },
      "source": [
        "tweet_df.drop('Unnamed: 0',inplace=True,axis = 1)"
      ],
      "execution_count": 4,
      "outputs": []
    },
    {
      "cell_type": "code",
      "metadata": {
        "id": "A_ekudCo4hC6",
        "outputId": "9fd94579-24a4-4fd2-d5e3-0e27708b1497",
        "colab": {
          "base_uri": "https://localhost:8080/",
          "height": 197
        }
      },
      "source": [
        "tweet_df.head()"
      ],
      "execution_count": 5,
      "outputs": [
        {
          "output_type": "execute_result",
          "data": {
            "text/html": [
              "<div>\n",
              "<style scoped>\n",
              "    .dataframe tbody tr th:only-of-type {\n",
              "        vertical-align: middle;\n",
              "    }\n",
              "\n",
              "    .dataframe tbody tr th {\n",
              "        vertical-align: top;\n",
              "    }\n",
              "\n",
              "    .dataframe thead th {\n",
              "        text-align: right;\n",
              "    }\n",
              "</style>\n",
              "<table border=\"1\" class=\"dataframe\">\n",
              "  <thead>\n",
              "    <tr style=\"text-align: right;\">\n",
              "      <th></th>\n",
              "      <th>UserName</th>\n",
              "      <th>label</th>\n",
              "      <th>Tweet_stemmed</th>\n",
              "      <th>Tweet_lemmatized</th>\n",
              "    </tr>\n",
              "  </thead>\n",
              "  <tbody>\n",
              "    <tr>\n",
              "      <th>0</th>\n",
              "      <td>3799</td>\n",
              "      <td>0.0</td>\n",
              "      <td>['menyrbi', 'philgahan', 'chrisitv', 'httpstco...</td>\n",
              "      <td>['menyrbie', 'philgahan', 'chrisitv', 'httpstc...</td>\n",
              "    </tr>\n",
              "    <tr>\n",
              "      <th>1</th>\n",
              "      <td>3800</td>\n",
              "      <td>1.0</td>\n",
              "      <td>['advic', 'talk', 'neighbour', 'famili', 'exch...</td>\n",
              "      <td>['advice', 'talk', 'neighbour', 'family', 'exc...</td>\n",
              "    </tr>\n",
              "    <tr>\n",
              "      <th>2</th>\n",
              "      <td>3801</td>\n",
              "      <td>1.0</td>\n",
              "      <td>['coronaviru', 'australia', 'woolworth', 'give...</td>\n",
              "      <td>['coronavirus', 'australia', 'woolworth', 'giv...</td>\n",
              "    </tr>\n",
              "    <tr>\n",
              "      <th>3</th>\n",
              "      <td>3802</td>\n",
              "      <td>1.0</td>\n",
              "      <td>['food', 'stock', 'one', 'empti', 'pleas', 'do...</td>\n",
              "      <td>['food', 'stock', 'one', 'empty', 'please', 'd...</td>\n",
              "    </tr>\n",
              "    <tr>\n",
              "      <th>4</th>\n",
              "      <td>3803</td>\n",
              "      <td>3.0</td>\n",
              "      <td>['readi', 'go', 'supermarket', 'covid', 'outbr...</td>\n",
              "      <td>['ready', 'go', 'supermarket', 'covid', 'outbr...</td>\n",
              "    </tr>\n",
              "  </tbody>\n",
              "</table>\n",
              "</div>"
            ],
            "text/plain": [
              "   UserName  ...                                   Tweet_lemmatized\n",
              "0      3799  ...  ['menyrbie', 'philgahan', 'chrisitv', 'httpstc...\n",
              "1      3800  ...  ['advice', 'talk', 'neighbour', 'family', 'exc...\n",
              "2      3801  ...  ['coronavirus', 'australia', 'woolworth', 'giv...\n",
              "3      3802  ...  ['food', 'stock', 'one', 'empty', 'please', 'd...\n",
              "4      3803  ...  ['ready', 'go', 'supermarket', 'covid', 'outbr...\n",
              "\n",
              "[5 rows x 4 columns]"
            ]
          },
          "metadata": {
            "tags": []
          },
          "execution_count": 5
        }
      ]
    },
    {
      "cell_type": "code",
      "metadata": {
        "id": "ZnZyezNj4pIH"
      },
      "source": [
        "tweet_df.drop('UserName',inplace=True,axis = 1)"
      ],
      "execution_count": 6,
      "outputs": []
    },
    {
      "cell_type": "code",
      "metadata": {
        "id": "unDQTdK34zR9",
        "outputId": "96aa5167-d4f9-483b-dfd5-3e0ae87266a0",
        "colab": {
          "base_uri": "https://localhost:8080/",
          "height": 197
        }
      },
      "source": [
        "tweet_df.head()"
      ],
      "execution_count": 7,
      "outputs": [
        {
          "output_type": "execute_result",
          "data": {
            "text/html": [
              "<div>\n",
              "<style scoped>\n",
              "    .dataframe tbody tr th:only-of-type {\n",
              "        vertical-align: middle;\n",
              "    }\n",
              "\n",
              "    .dataframe tbody tr th {\n",
              "        vertical-align: top;\n",
              "    }\n",
              "\n",
              "    .dataframe thead th {\n",
              "        text-align: right;\n",
              "    }\n",
              "</style>\n",
              "<table border=\"1\" class=\"dataframe\">\n",
              "  <thead>\n",
              "    <tr style=\"text-align: right;\">\n",
              "      <th></th>\n",
              "      <th>label</th>\n",
              "      <th>Tweet_stemmed</th>\n",
              "      <th>Tweet_lemmatized</th>\n",
              "    </tr>\n",
              "  </thead>\n",
              "  <tbody>\n",
              "    <tr>\n",
              "      <th>0</th>\n",
              "      <td>0.0</td>\n",
              "      <td>['menyrbi', 'philgahan', 'chrisitv', 'httpstco...</td>\n",
              "      <td>['menyrbie', 'philgahan', 'chrisitv', 'httpstc...</td>\n",
              "    </tr>\n",
              "    <tr>\n",
              "      <th>1</th>\n",
              "      <td>1.0</td>\n",
              "      <td>['advic', 'talk', 'neighbour', 'famili', 'exch...</td>\n",
              "      <td>['advice', 'talk', 'neighbour', 'family', 'exc...</td>\n",
              "    </tr>\n",
              "    <tr>\n",
              "      <th>2</th>\n",
              "      <td>1.0</td>\n",
              "      <td>['coronaviru', 'australia', 'woolworth', 'give...</td>\n",
              "      <td>['coronavirus', 'australia', 'woolworth', 'giv...</td>\n",
              "    </tr>\n",
              "    <tr>\n",
              "      <th>3</th>\n",
              "      <td>1.0</td>\n",
              "      <td>['food', 'stock', 'one', 'empti', 'pleas', 'do...</td>\n",
              "      <td>['food', 'stock', 'one', 'empty', 'please', 'd...</td>\n",
              "    </tr>\n",
              "    <tr>\n",
              "      <th>4</th>\n",
              "      <td>3.0</td>\n",
              "      <td>['readi', 'go', 'supermarket', 'covid', 'outbr...</td>\n",
              "      <td>['ready', 'go', 'supermarket', 'covid', 'outbr...</td>\n",
              "    </tr>\n",
              "  </tbody>\n",
              "</table>\n",
              "</div>"
            ],
            "text/plain": [
              "   label  ...                                   Tweet_lemmatized\n",
              "0    0.0  ...  ['menyrbie', 'philgahan', 'chrisitv', 'httpstc...\n",
              "1    1.0  ...  ['advice', 'talk', 'neighbour', 'family', 'exc...\n",
              "2    1.0  ...  ['coronavirus', 'australia', 'woolworth', 'giv...\n",
              "3    1.0  ...  ['food', 'stock', 'one', 'empty', 'please', 'd...\n",
              "4    3.0  ...  ['ready', 'go', 'supermarket', 'covid', 'outbr...\n",
              "\n",
              "[5 rows x 3 columns]"
            ]
          },
          "metadata": {
            "tags": []
          },
          "execution_count": 7
        }
      ]
    },
    {
      "cell_type": "code",
      "metadata": {
        "id": "kfjdsdGTfsHx",
        "outputId": "d6d25d3b-7527-4123-8554-9487e51b1487",
        "colab": {
          "base_uri": "https://localhost:8080/",
          "height": 87
        }
      },
      "source": [
        "tweet_df.isnull().sum()"
      ],
      "execution_count": 8,
      "outputs": [
        {
          "output_type": "execute_result",
          "data": {
            "text/plain": [
              "label               0\n",
              "Tweet_stemmed       0\n",
              "Tweet_lemmatized    0\n",
              "dtype: int64"
            ]
          },
          "metadata": {
            "tags": []
          },
          "execution_count": 8
        }
      ]
    },
    {
      "cell_type": "code",
      "metadata": {
        "id": "aU4P64fEfvit"
      },
      "source": [
        "messages= tweet_df.copy()"
      ],
      "execution_count": 9,
      "outputs": []
    },
    {
      "cell_type": "code",
      "metadata": {
        "id": "47QihyzIf0Wm",
        "outputId": "e1634252-9120-42ad-f932-f9890267ce28",
        "colab": {
          "base_uri": "https://localhost:8080/",
          "height": 406
        }
      },
      "source": [
        "messages.reset_index()"
      ],
      "execution_count": 10,
      "outputs": [
        {
          "output_type": "execute_result",
          "data": {
            "text/html": [
              "<div>\n",
              "<style scoped>\n",
              "    .dataframe tbody tr th:only-of-type {\n",
              "        vertical-align: middle;\n",
              "    }\n",
              "\n",
              "    .dataframe tbody tr th {\n",
              "        vertical-align: top;\n",
              "    }\n",
              "\n",
              "    .dataframe thead th {\n",
              "        text-align: right;\n",
              "    }\n",
              "</style>\n",
              "<table border=\"1\" class=\"dataframe\">\n",
              "  <thead>\n",
              "    <tr style=\"text-align: right;\">\n",
              "      <th></th>\n",
              "      <th>index</th>\n",
              "      <th>label</th>\n",
              "      <th>Tweet_stemmed</th>\n",
              "      <th>Tweet_lemmatized</th>\n",
              "    </tr>\n",
              "  </thead>\n",
              "  <tbody>\n",
              "    <tr>\n",
              "      <th>0</th>\n",
              "      <td>0</td>\n",
              "      <td>0.0</td>\n",
              "      <td>['menyrbi', 'philgahan', 'chrisitv', 'httpstco...</td>\n",
              "      <td>['menyrbie', 'philgahan', 'chrisitv', 'httpstc...</td>\n",
              "    </tr>\n",
              "    <tr>\n",
              "      <th>1</th>\n",
              "      <td>1</td>\n",
              "      <td>1.0</td>\n",
              "      <td>['advic', 'talk', 'neighbour', 'famili', 'exch...</td>\n",
              "      <td>['advice', 'talk', 'neighbour', 'family', 'exc...</td>\n",
              "    </tr>\n",
              "    <tr>\n",
              "      <th>2</th>\n",
              "      <td>2</td>\n",
              "      <td>1.0</td>\n",
              "      <td>['coronaviru', 'australia', 'woolworth', 'give...</td>\n",
              "      <td>['coronavirus', 'australia', 'woolworth', 'giv...</td>\n",
              "    </tr>\n",
              "    <tr>\n",
              "      <th>3</th>\n",
              "      <td>3</td>\n",
              "      <td>1.0</td>\n",
              "      <td>['food', 'stock', 'one', 'empti', 'pleas', 'do...</td>\n",
              "      <td>['food', 'stock', 'one', 'empty', 'please', 'd...</td>\n",
              "    </tr>\n",
              "    <tr>\n",
              "      <th>4</th>\n",
              "      <td>4</td>\n",
              "      <td>3.0</td>\n",
              "      <td>['readi', 'go', 'supermarket', 'covid', 'outbr...</td>\n",
              "      <td>['ready', 'go', 'supermarket', 'covid', 'outbr...</td>\n",
              "    </tr>\n",
              "    <tr>\n",
              "      <th>...</th>\n",
              "      <td>...</td>\n",
              "      <td>...</td>\n",
              "      <td>...</td>\n",
              "      <td>...</td>\n",
              "    </tr>\n",
              "    <tr>\n",
              "      <th>31231</th>\n",
              "      <td>31231</td>\n",
              "      <td>2.0</td>\n",
              "      <td>['mrsilverscott', 'definit', 'man', 'feel', 'l...</td>\n",
              "      <td>['mrsilverscott', 'definitely', 'man', 'feel',...</td>\n",
              "    </tr>\n",
              "    <tr>\n",
              "      <th>31232</th>\n",
              "      <td>31232</td>\n",
              "      <td>0.0</td>\n",
              "      <td>['airlin', 'pilot', 'offer', 'stock', 'superma...</td>\n",
              "      <td>['airline', 'pilot', 'offering', 'stock', 'sup...</td>\n",
              "    </tr>\n",
              "    <tr>\n",
              "      <th>31233</th>\n",
              "      <td>31233</td>\n",
              "      <td>3.0</td>\n",
              "      <td>['respons', 'complaint', 'provid', 'cite', 'co...</td>\n",
              "      <td>['response', 'complaint', 'provided', 'citing'...</td>\n",
              "    </tr>\n",
              "    <tr>\n",
              "      <th>31234</th>\n",
              "      <td>31234</td>\n",
              "      <td>1.0</td>\n",
              "      <td>['know', 'get', 'tough', 'kameronwild', 'ratio...</td>\n",
              "      <td>['know', 'getting', 'tough', 'kameronwilds', '...</td>\n",
              "    </tr>\n",
              "    <tr>\n",
              "      <th>31235</th>\n",
              "      <td>31235</td>\n",
              "      <td>0.0</td>\n",
              "      <td>['wrong', 'smell', 'hand', 'sanit', 'start', '...</td>\n",
              "      <td>['wrong', 'smell', 'hand', 'sanitizer', 'start...</td>\n",
              "    </tr>\n",
              "  </tbody>\n",
              "</table>\n",
              "<p>31236 rows × 4 columns</p>\n",
              "</div>"
            ],
            "text/plain": [
              "       index  ...                                   Tweet_lemmatized\n",
              "0          0  ...  ['menyrbie', 'philgahan', 'chrisitv', 'httpstc...\n",
              "1          1  ...  ['advice', 'talk', 'neighbour', 'family', 'exc...\n",
              "2          2  ...  ['coronavirus', 'australia', 'woolworth', 'giv...\n",
              "3          3  ...  ['food', 'stock', 'one', 'empty', 'please', 'd...\n",
              "4          4  ...  ['ready', 'go', 'supermarket', 'covid', 'outbr...\n",
              "...      ...  ...                                                ...\n",
              "31231  31231  ...  ['mrsilverscott', 'definitely', 'man', 'feel',...\n",
              "31232  31232  ...  ['airline', 'pilot', 'offering', 'stock', 'sup...\n",
              "31233  31233  ...  ['response', 'complaint', 'provided', 'citing'...\n",
              "31234  31234  ...  ['know', 'getting', 'tough', 'kameronwilds', '...\n",
              "31235  31235  ...  ['wrong', 'smell', 'hand', 'sanitizer', 'start...\n",
              "\n",
              "[31236 rows x 4 columns]"
            ]
          },
          "metadata": {
            "tags": []
          },
          "execution_count": 10
        }
      ]
    },
    {
      "cell_type": "code",
      "metadata": {
        "id": "VKmHghy_gBU3"
      },
      "source": [
        "# For triagram\n",
        "tfidf_triagram = TfidfVectorizer(sublinear_tf=True,\n",
        "                            analyzer='word',\n",
        "                            ngram_range=(3, 3),\n",
        "                            max_features=8000)"
      ],
      "execution_count": 11,
      "outputs": []
    },
    {
      "cell_type": "code",
      "metadata": {
        "id": "73_PuBVYk1FC"
      },
      "source": [
        ""
      ],
      "execution_count": null,
      "outputs": []
    },
    {
      "cell_type": "code",
      "metadata": {
        "id": "KZxB8v-dgNVl"
      },
      "source": [
        "X_tiagram = tfidf_triagram.fit_transform(messages['Tweet_lemmatized'])"
      ],
      "execution_count": 12,
      "outputs": []
    },
    {
      "cell_type": "code",
      "metadata": {
        "id": "Z3Xzn_6FgXpU"
      },
      "source": [
        "Y_tiagram = messages['label']"
      ],
      "execution_count": 13,
      "outputs": []
    },
    {
      "cell_type": "code",
      "metadata": {
        "id": "yr1yLc2ega9x"
      },
      "source": [
        "smk_tiagram = SMOTETomek(random_state=42)\n",
        "X_tiagram_v1,Y_tiagram_v1=smk_tiagram.fit_sample(X_tiagram,Y_tiagram)"
      ],
      "execution_count": 14,
      "outputs": []
    },
    {
      "cell_type": "code",
      "metadata": {
        "id": "4Mq0q6kegt8-",
        "outputId": "29b019c7-a5ef-4171-9a6d-19d4679780d6",
        "colab": {
          "base_uri": "https://localhost:8080/",
          "height": 52
        }
      },
      "source": [
        "from collections import Counter\n",
        "print('Original dataset shape {}'.format(Counter(Y_tiagram)))\n",
        "print('Resampled dataset shape {}'.format(Counter(Y_tiagram_v1)))"
      ],
      "execution_count": 15,
      "outputs": [
        {
          "output_type": "stream",
          "text": [
            "Original dataset shape Counter({1.0: 11421, 0.0: 7711, 2.0: 6624, 3.0: 5480})\n",
            "Resampled dataset shape Counter({3.0: 11253, 0.0: 11185, 2.0: 11178, 1.0: 11126})\n"
          ],
          "name": "stdout"
        }
      ]
    },
    {
      "cell_type": "code",
      "metadata": {
        "id": "muhe-hR1gzfg"
      },
      "source": [
        "# data Split\n",
        "# Biagram Model\n",
        "# let's see how well our model perform on this new data\n",
        "x_train_tiagram,x_test_tiagram,y_train_tiagram,y_test_tiagram = train_test_split(X_tiagram_v1,Y_tiagram_v1,test_size = 0.30, random_state= True)"
      ],
      "execution_count": 16,
      "outputs": []
    },
    {
      "cell_type": "code",
      "metadata": {
        "id": "J3ocvSIFg_tA"
      },
      "source": [
        "import matplotlib.pyplot as plt\n",
        "def plot_confusion_matrix(cm, classes,\n",
        "                          normalize=False,\n",
        "                          title='Confusion matrix',\n",
        "                          cmap=plt.cm.Blues):\n",
        "    \"\"\"\n",
        "    See full source and example: \n",
        "    http://scikit-learn.org/stable/auto_examples/model_selection/plot_confusion_matrix.html\n",
        "    \n",
        "    This function prints and plots the confusion matrix.\n",
        "    Normalization can be applied by setting `normalize=True`.\n",
        "    \"\"\"\n",
        "    plt.imshow(cm, interpolation='nearest', cmap=cmap)\n",
        "    plt.title(title)\n",
        "    plt.colorbar()\n",
        "    tick_marks = np.arange(len(classes))\n",
        "    plt.xticks(tick_marks, classes, rotation=45)\n",
        "    plt.yticks(tick_marks, classes)\n",
        "\n",
        "    if normalize:\n",
        "        cm = cm.astype('float') / cm.sum(axis=1)[:, np.newaxis]\n",
        "        print(\"Normalized confusion matrix\")\n",
        "    else:\n",
        "        print('Confusion matrix, without normalization')\n",
        "\n",
        "    thresh = cm.max() / 2.\n",
        "    for i, j in itertools.product(range(cm.shape[0]), range(cm.shape[1])):\n",
        "        plt.text(j, i, cm[i, j],\n",
        "                 horizontalalignment=\"center\",\n",
        "                 color=\"white\" if cm[i, j] > thresh else \"black\")\n",
        "\n",
        "    plt.tight_layout()\n",
        "    plt.ylabel('True label')\n",
        "    plt.xlabel('Predicted label')"
      ],
      "execution_count": 18,
      "outputs": []
    },
    {
      "cell_type": "code",
      "metadata": {
        "id": "mmUhAypbjNZe",
        "outputId": "f69803b6-8c0b-442d-a789-4c3aa05cadec",
        "colab": {
          "base_uri": "https://localhost:8080/",
          "height": 1000
        }
      },
      "source": [
        "# Decission Tree Classifier\n",
        "decession_tree_tiagram = DecisionTreeClassifier()\n",
        "decession_tree_tiagram.fit(x_train_tiagram,y_train_tiagram)\n",
        "y_pred_decession_tree_tiagram = decession_tree_tiagram.predict(x_test_tiagram)\n",
        "print(\"Decission Tree Classifier\")\n",
        "print(classification_report(y_test_tiagram, y_pred_decession_tree_tiagram))\n",
        "\n",
        "\n",
        "# Random Forest  Classifier\n",
        "random_forest_tiagram = RandomForestClassifier()\n",
        "random_forest_tiagram.fit(x_train_tiagram,y_train_tiagram)\n",
        "y_pred_random_forest_tiagram = random_forest_tiagram.predict(x_test_tiagram)\n",
        "print(\"Random Forest  Classifier\")\n",
        "print(classification_report(y_test_tiagram, y_pred_random_forest_tiagram))\n",
        "\n",
        "\n",
        "# KNN  Algo\n",
        "knn_classifier_tiagram = KNeighborsClassifier()\n",
        "knn_classifier_tiagram.fit(x_train_tiagram,y_train_tiagram)\n",
        "y_pred_knn_classifier_tigram = knn_classifier_tiagram.predict(x_test_tiagram)\n",
        "print(\"KNN  Algo\")\n",
        "print(classification_report(y_test_tiagram, y_pred_knn_classifier_tigram))\n",
        "\n",
        "\n",
        "# Multinomial Naive Bias\n",
        "mulNB_tiagram  = MultinomialNB()\n",
        "mulNB_tiagram.fit(x_train_tiagram,y_train_tiagram)\n",
        "y_pred_mulNB_tiagram = mulNB_tiagram.predict(x_test_tiagram)\n",
        "print(\"Multinomial Naive Bias\")\n",
        "print(classification_report(y_test_tiagram, y_pred_mulNB_tiagram))\n",
        "\n",
        "\n",
        "# Gradient bossting\n",
        "gradient_bossting_tiagram  = GradientBoostingClassifier(random_state=3)\n",
        "gradient_bossting_tiagram.fit(x_train_tiagram,y_train_tiagram)\n",
        "y_pred_gradientbossting = gradient_bossting_tiagram.predict(x_test_tiagram)\n",
        "print(\"GradientBosting  Algo\")\n",
        "print(classification_report(y_test_tiagram, y_pred_gradientbossting))\n",
        "\n",
        "\n",
        "# Logistic Regressor\n",
        "logis_reg_tia =LogisticRegression()\n",
        "logis_reg_tia.fit(x_train_tiagram,y_train_tiagram)\n",
        "y_pred_log = logis_reg_tia.predict(x_test_tiagram)\n",
        "print(\"Logistic Reg  Algo\")\n",
        "print(classification_report(y_test_tiagram, y_pred_log))"
      ],
      "execution_count": 25,
      "outputs": [
        {
          "output_type": "stream",
          "text": [
            "Random Forest  Classifier\n",
            "              precision    recall  f1-score   support\n",
            "\n",
            "         0.0       0.33      0.82      0.47      3358\n",
            "         1.0       0.49      0.21      0.29      3377\n",
            "         2.0       0.58      0.34      0.43      3275\n",
            "         3.0       0.70      0.37      0.49      3413\n",
            "\n",
            "    accuracy                           0.43     13423\n",
            "   macro avg       0.53      0.43      0.42     13423\n",
            "weighted avg       0.53      0.43      0.42     13423\n",
            "\n",
            "KNN  Algo\n",
            "              precision    recall  f1-score   support\n",
            "\n",
            "         0.0       0.43      0.30      0.35      3358\n",
            "         1.0       0.36      0.13      0.19      3377\n",
            "         2.0       0.29      0.73      0.42      3275\n",
            "         3.0       0.63      0.30      0.41      3413\n",
            "\n",
            "    accuracy                           0.36     13423\n",
            "   macro avg       0.43      0.37      0.34     13423\n",
            "weighted avg       0.43      0.36      0.34     13423\n",
            "\n",
            "Multinomial Naive Bias\n",
            "              precision    recall  f1-score   support\n",
            "\n",
            "         0.0       0.52      0.31      0.39      3358\n",
            "         1.0       0.47      0.17      0.25      3377\n",
            "         2.0       0.31      0.79      0.44      3275\n",
            "         3.0       0.69      0.38      0.49      3413\n",
            "\n",
            "    accuracy                           0.41     13423\n",
            "   macro avg       0.50      0.41      0.39     13423\n",
            "weighted avg       0.50      0.41      0.39     13423\n",
            "\n",
            "GradientBosting  Algo\n",
            "              precision    recall  f1-score   support\n",
            "\n",
            "         0.0       0.27      0.97      0.43      3358\n",
            "         1.0       0.51      0.04      0.07      3377\n",
            "         2.0       0.64      0.14      0.23      3275\n",
            "         3.0       0.86      0.15      0.25      3413\n",
            "\n",
            "    accuracy                           0.32     13423\n",
            "   macro avg       0.57      0.32      0.24     13423\n",
            "weighted avg       0.57      0.32      0.24     13423\n",
            "\n",
            "Logistic Reg  Algo\n",
            "              precision    recall  f1-score   support\n",
            "\n",
            "         0.0       0.33      0.81      0.47      3358\n",
            "         1.0       0.46      0.19      0.27      3377\n",
            "         2.0       0.56      0.34      0.42      3275\n",
            "         3.0       0.70      0.38      0.49      3413\n",
            "\n",
            "    accuracy                           0.43     13423\n",
            "   macro avg       0.51      0.43      0.41     13423\n",
            "weighted avg       0.52      0.43      0.41     13423\n",
            "\n"
          ],
          "name": "stdout"
        }
      ]
    },
    {
      "cell_type": "code",
      "metadata": {
        "id": "uyu95CcGmBiT",
        "outputId": "af713290-026c-42fe-eeab-e9b920c4b4be",
        "colab": {
          "base_uri": "https://localhost:8080/",
          "height": 443
        }
      },
      "source": [
        "svm_class_tiagram = svm.SVC(kernel='poly')\n",
        "svm_class_tiagram.fit(x_train_tiagram,y_train_tiagram)\n",
        "y_pred_svm = svm_class_tiagram.predict(x_test_tiagram)\n",
        "print(\"SVM  Algo\")\n",
        "print(classification_report(y_test_tiagram, y_pred_svm))\n",
        "\n",
        "\n",
        "\n",
        "# Logistic Regressor\n",
        "logis_reg_tia =LogisticRegression()\n",
        "logis_reg_tia.fit(x_train_tiagram,y_train_tiagram)\n",
        "y_pred_log = logis_reg_tia.predict(x_test_tiagram)\n",
        "print(\"Logistic Reg  Algo\")\n",
        "print(classification_report(y_test_tiagram, y_pred_log))"
      ],
      "execution_count": 27,
      "outputs": [
        {
          "output_type": "stream",
          "text": [
            "SVM  Algo\n",
            "              precision    recall  f1-score   support\n",
            "\n",
            "         0.0       0.31      0.87      0.46      3358\n",
            "         1.0       0.54      0.13      0.21      3377\n",
            "         2.0       0.63      0.28      0.38      3275\n",
            "         3.0       0.69      0.34      0.46      3413\n",
            "\n",
            "    accuracy                           0.41     13423\n",
            "   macro avg       0.54      0.41      0.38     13423\n",
            "weighted avg       0.54      0.41      0.38     13423\n",
            "\n",
            "Logistic Reg  Algo\n",
            "              precision    recall  f1-score   support\n",
            "\n",
            "         0.0       0.33      0.81      0.47      3358\n",
            "         1.0       0.46      0.19      0.27      3377\n",
            "         2.0       0.56      0.34      0.42      3275\n",
            "         3.0       0.70      0.38      0.49      3413\n",
            "\n",
            "    accuracy                           0.43     13423\n",
            "   macro avg       0.51      0.43      0.41     13423\n",
            "weighted avg       0.52      0.43      0.41     13423\n",
            "\n"
          ],
          "name": "stdout"
        }
      ]
    }
  ]
}