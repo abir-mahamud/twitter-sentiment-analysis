{
  "nbformat": 4,
  "nbformat_minor": 0,
  "metadata": {
    "colab": {
      "name": "Bi Gram_without_scale.ipynb",
      "provenance": []
    },
    "kernelspec": {
      "name": "python3",
      "display_name": "Python 3"
    }
  },
  "cells": [
    {
      "cell_type": "markdown",
      "metadata": {
        "id": "d_7BeyLM8Mh6"
      },
      "source": [
        "**Import essential library**"
      ]
    },
    {
      "cell_type": "code",
      "metadata": {
        "id": "T1EtlE698SeE",
        "outputId": "fcc2717a-d4f8-4611-ab11-8431532c02d8",
        "colab": {
          "base_uri": "https://localhost:8080/",
          "height": 107
        }
      },
      "source": [
        "import pandas as pd\n",
        "import numpy as np\n",
        "from sklearn.model_selection import train_test_split,GridSearchCV\n",
        "from sklearn.metrics import accuracy_score, confusion_matrix, roc_curve, roc_auc_score\n",
        "\n",
        "from sklearn.feature_extraction.text import TfidfVectorizer\n",
        "from sklearn.tree import DecisionTreeClassifier\n",
        "from sklearn.linear_model import LogisticRegression\n",
        "from sklearn.svm import SVC\n",
        "from sklearn.ensemble import RandomForestClassifier\n",
        "from sklearn.neighbors import KNeighborsClassifier\n",
        "from sklearn.naive_bayes import GaussianNB\n",
        "from sklearn.naive_bayes import MultinomialNB\n",
        "from sklearn.metrics import accuracy_score, classification_report, confusion_matrix\n",
        "from sklearn.model_selection import cross_val_score\n",
        "from sklearn.datasets import make_classification\n",
        "from sklearn.ensemble import GradientBoostingClassifier\n",
        "\n",
        "import sklearn\n",
        "from imblearn.combine import SMOTETomek\n",
        "from imblearn.under_sampling import NearMiss\n",
        "from imblearn.over_sampling import RandomOverSampler\n",
        "from sklearn.svm import SVC\n",
        "from sklearn.linear_model import LogisticRegression\n",
        "from sklearn import svm\n",
        "import warnings\n",
        "warnings.simplefilter(\"ignore\")\n"
      ],
      "execution_count": 1,
      "outputs": [
        {
          "output_type": "stream",
          "text": [
            "/usr/local/lib/python3.6/dist-packages/sklearn/externals/six.py:31: FutureWarning: The module is deprecated in version 0.21 and will be removed in version 0.23 since we've dropped support for Python 2.7. Please rely on the official version of six (https://pypi.org/project/six/).\n",
            "  \"(https://pypi.org/project/six/).\", FutureWarning)\n",
            "/usr/local/lib/python3.6/dist-packages/sklearn/utils/deprecation.py:144: FutureWarning: The sklearn.neighbors.base module is  deprecated in version 0.22 and will be removed in version 0.24. The corresponding classes / functions should instead be imported from sklearn.neighbors. Anything that cannot be imported from sklearn.neighbors is now part of the private API.\n",
            "  warnings.warn(message, FutureWarning)\n"
          ],
          "name": "stderr"
        }
      ]
    },
    {
      "cell_type": "markdown",
      "metadata": {
        "id": "bkaBEJga8pqO"
      },
      "source": [
        "**Load dataset**"
      ]
    },
    {
      "cell_type": "code",
      "metadata": {
        "id": "6NtNvmyf9BqW"
      },
      "source": [
        "# from google.colab import drive\n",
        "# drive.mount('/gdrive', force_remount=True)"
      ],
      "execution_count": 2,
      "outputs": []
    },
    {
      "cell_type": "code",
      "metadata": {
        "id": "N0cgksNn8sAe"
      },
      "source": [
        "# Load dataset\n",
        "def load_data():\n",
        "    data =pd.read_csv(\"/content/drive/My Drive/Colab Notebooks/Data/processing_file.csv\", engine='python')\n",
        "    return data"
      ],
      "execution_count": 3,
      "outputs": []
    },
    {
      "cell_type": "code",
      "metadata": {
        "id": "2glV6RWc84nd",
        "outputId": "1f992c93-b1c7-4a56-bfa5-cea35d2490f3",
        "colab": {
          "base_uri": "https://localhost:8080/",
          "height": 414
        }
      },
      "source": [
        "tweet_df = load_data()\n",
        "tweet_df.head()"
      ],
      "execution_count": 4,
      "outputs": [
        {
          "output_type": "execute_result",
          "data": {
            "text/html": [
              "<div>\n",
              "<style scoped>\n",
              "    .dataframe tbody tr th:only-of-type {\n",
              "        vertical-align: middle;\n",
              "    }\n",
              "\n",
              "    .dataframe tbody tr th {\n",
              "        vertical-align: top;\n",
              "    }\n",
              "\n",
              "    .dataframe thead th {\n",
              "        text-align: right;\n",
              "    }\n",
              "</style>\n",
              "<table border=\"1\" class=\"dataframe\">\n",
              "  <thead>\n",
              "    <tr style=\"text-align: right;\">\n",
              "      <th></th>\n",
              "      <th>Unnamed: 0</th>\n",
              "      <th>UserName</th>\n",
              "      <th>ScreenName</th>\n",
              "      <th>Location</th>\n",
              "      <th>TweetAt</th>\n",
              "      <th>OriginalTweet</th>\n",
              "      <th>Sentiment</th>\n",
              "      <th>label</th>\n",
              "      <th>Tweet_punct</th>\n",
              "      <th>Tweet_tokenized</th>\n",
              "      <th>Tweet_nonstop</th>\n",
              "      <th>Tweet_stemmed</th>\n",
              "      <th>Tweet_lemmatized</th>\n",
              "    </tr>\n",
              "  </thead>\n",
              "  <tbody>\n",
              "    <tr>\n",
              "      <th>0</th>\n",
              "      <td>0</td>\n",
              "      <td>3799</td>\n",
              "      <td>48751</td>\n",
              "      <td>London</td>\n",
              "      <td>16-03-2020</td>\n",
              "      <td>@MeNyrbie @Phil_Gahan @Chrisitv https://t.co/i...</td>\n",
              "      <td>Neutral</td>\n",
              "      <td>0.0</td>\n",
              "      <td>MeNyrbie PhilGahan Chrisitv httpstcoiFzFAnPa a...</td>\n",
              "      <td>['menyrbie', 'philgahan', 'chrisitv', 'httpstc...</td>\n",
              "      <td>['menyrbie', 'philgahan', 'chrisitv', 'httpstc...</td>\n",
              "      <td>['menyrbi', 'philgahan', 'chrisitv', 'httpstco...</td>\n",
              "      <td>['menyrbie', 'philgahan', 'chrisitv', 'httpstc...</td>\n",
              "    </tr>\n",
              "    <tr>\n",
              "      <th>1</th>\n",
              "      <td>1</td>\n",
              "      <td>3800</td>\n",
              "      <td>48752</td>\n",
              "      <td>UK</td>\n",
              "      <td>16-03-2020</td>\n",
              "      <td>advice Talk to your neighbours family to excha...</td>\n",
              "      <td>Positive</td>\n",
              "      <td>1.0</td>\n",
              "      <td>advice Talk to your neighbours family to excha...</td>\n",
              "      <td>['advice', 'talk', 'to', 'your', 'neighbours',...</td>\n",
              "      <td>['advice', 'talk', 'neighbours', 'family', 'ex...</td>\n",
              "      <td>['advic', 'talk', 'neighbour', 'famili', 'exch...</td>\n",
              "      <td>['advice', 'talk', 'neighbour', 'family', 'exc...</td>\n",
              "    </tr>\n",
              "    <tr>\n",
              "      <th>2</th>\n",
              "      <td>2</td>\n",
              "      <td>3801</td>\n",
              "      <td>48753</td>\n",
              "      <td>Vagabonds</td>\n",
              "      <td>16-03-2020</td>\n",
              "      <td>Coronavirus Australia: Woolworths to give elde...</td>\n",
              "      <td>Positive</td>\n",
              "      <td>1.0</td>\n",
              "      <td>Coronavirus Australia Woolworths to give elder...</td>\n",
              "      <td>['coronavirus', 'australia', 'woolworths', 'to...</td>\n",
              "      <td>['coronavirus', 'australia', 'woolworths', 'gi...</td>\n",
              "      <td>['coronaviru', 'australia', 'woolworth', 'give...</td>\n",
              "      <td>['coronavirus', 'australia', 'woolworth', 'giv...</td>\n",
              "    </tr>\n",
              "    <tr>\n",
              "      <th>3</th>\n",
              "      <td>3</td>\n",
              "      <td>3802</td>\n",
              "      <td>48754</td>\n",
              "      <td>NaN</td>\n",
              "      <td>16-03-2020</td>\n",
              "      <td>My food stock is not the only one which is emp...</td>\n",
              "      <td>Positive</td>\n",
              "      <td>1.0</td>\n",
              "      <td>My food stock is not the only one which is emp...</td>\n",
              "      <td>['my', 'food', 'stock', 'is', 'not', 'the', 'o...</td>\n",
              "      <td>['food', 'stock', 'one', 'empty', 'please', 'd...</td>\n",
              "      <td>['food', 'stock', 'one', 'empti', 'pleas', 'do...</td>\n",
              "      <td>['food', 'stock', 'one', 'empty', 'please', 'd...</td>\n",
              "    </tr>\n",
              "    <tr>\n",
              "      <th>4</th>\n",
              "      <td>4</td>\n",
              "      <td>3803</td>\n",
              "      <td>48755</td>\n",
              "      <td>NaN</td>\n",
              "      <td>16-03-2020</td>\n",
              "      <td>Me, ready to go at supermarket during the #COV...</td>\n",
              "      <td>Extremely Negative</td>\n",
              "      <td>3.0</td>\n",
              "      <td>Me ready to go at supermarket during the COVID...</td>\n",
              "      <td>['me', 'ready', 'to', 'go', 'at', 'supermarket...</td>\n",
              "      <td>['ready', 'go', 'supermarket', 'covid', 'outbr...</td>\n",
              "      <td>['readi', 'go', 'supermarket', 'covid', 'outbr...</td>\n",
              "      <td>['ready', 'go', 'supermarket', 'covid', 'outbr...</td>\n",
              "    </tr>\n",
              "  </tbody>\n",
              "</table>\n",
              "</div>"
            ],
            "text/plain": [
              "  Unnamed: 0  ...                                   Tweet_lemmatized\n",
              "0          0  ...  ['menyrbie', 'philgahan', 'chrisitv', 'httpstc...\n",
              "1          1  ...  ['advice', 'talk', 'neighbour', 'family', 'exc...\n",
              "2          2  ...  ['coronavirus', 'australia', 'woolworth', 'giv...\n",
              "3          3  ...  ['food', 'stock', 'one', 'empty', 'please', 'd...\n",
              "4          4  ...  ['ready', 'go', 'supermarket', 'covid', 'outbr...\n",
              "\n",
              "[5 rows x 13 columns]"
            ]
          },
          "metadata": {
            "tags": []
          },
          "execution_count": 4
        }
      ]
    },
    {
      "cell_type": "markdown",
      "metadata": {
        "id": "bdQrt4PgAjcd"
      },
      "source": [
        "**Drop unnecessary columns**"
      ]
    },
    {
      "cell_type": "code",
      "metadata": {
        "id": "Pi1BObNFAnH0"
      },
      "source": [
        "tweet_df.drop(['TweetAt', 'OriginalTweet','Sentiment' ], axis=1, inplace= True)"
      ],
      "execution_count": 5,
      "outputs": []
    },
    {
      "cell_type": "code",
      "metadata": {
        "id": "LM1aLMMkBQQx",
        "outputId": "3e02170b-f173-4927-dea5-567f499f2bc1",
        "colab": {
          "base_uri": "https://localhost:8080/",
          "height": 564
        }
      },
      "source": [
        "tweet_df.head(10)"
      ],
      "execution_count": 6,
      "outputs": [
        {
          "output_type": "execute_result",
          "data": {
            "text/html": [
              "<div>\n",
              "<style scoped>\n",
              "    .dataframe tbody tr th:only-of-type {\n",
              "        vertical-align: middle;\n",
              "    }\n",
              "\n",
              "    .dataframe tbody tr th {\n",
              "        vertical-align: top;\n",
              "    }\n",
              "\n",
              "    .dataframe thead th {\n",
              "        text-align: right;\n",
              "    }\n",
              "</style>\n",
              "<table border=\"1\" class=\"dataframe\">\n",
              "  <thead>\n",
              "    <tr style=\"text-align: right;\">\n",
              "      <th></th>\n",
              "      <th>Unnamed: 0</th>\n",
              "      <th>UserName</th>\n",
              "      <th>ScreenName</th>\n",
              "      <th>Location</th>\n",
              "      <th>label</th>\n",
              "      <th>Tweet_punct</th>\n",
              "      <th>Tweet_tokenized</th>\n",
              "      <th>Tweet_nonstop</th>\n",
              "      <th>Tweet_stemmed</th>\n",
              "      <th>Tweet_lemmatized</th>\n",
              "    </tr>\n",
              "  </thead>\n",
              "  <tbody>\n",
              "    <tr>\n",
              "      <th>0</th>\n",
              "      <td>0</td>\n",
              "      <td>3799</td>\n",
              "      <td>48751</td>\n",
              "      <td>London</td>\n",
              "      <td>0.0</td>\n",
              "      <td>MeNyrbie PhilGahan Chrisitv httpstcoiFzFAnPa a...</td>\n",
              "      <td>['menyrbie', 'philgahan', 'chrisitv', 'httpstc...</td>\n",
              "      <td>['menyrbie', 'philgahan', 'chrisitv', 'httpstc...</td>\n",
              "      <td>['menyrbi', 'philgahan', 'chrisitv', 'httpstco...</td>\n",
              "      <td>['menyrbie', 'philgahan', 'chrisitv', 'httpstc...</td>\n",
              "    </tr>\n",
              "    <tr>\n",
              "      <th>1</th>\n",
              "      <td>1</td>\n",
              "      <td>3800</td>\n",
              "      <td>48752</td>\n",
              "      <td>UK</td>\n",
              "      <td>1.0</td>\n",
              "      <td>advice Talk to your neighbours family to excha...</td>\n",
              "      <td>['advice', 'talk', 'to', 'your', 'neighbours',...</td>\n",
              "      <td>['advice', 'talk', 'neighbours', 'family', 'ex...</td>\n",
              "      <td>['advic', 'talk', 'neighbour', 'famili', 'exch...</td>\n",
              "      <td>['advice', 'talk', 'neighbour', 'family', 'exc...</td>\n",
              "    </tr>\n",
              "    <tr>\n",
              "      <th>2</th>\n",
              "      <td>2</td>\n",
              "      <td>3801</td>\n",
              "      <td>48753</td>\n",
              "      <td>Vagabonds</td>\n",
              "      <td>1.0</td>\n",
              "      <td>Coronavirus Australia Woolworths to give elder...</td>\n",
              "      <td>['coronavirus', 'australia', 'woolworths', 'to...</td>\n",
              "      <td>['coronavirus', 'australia', 'woolworths', 'gi...</td>\n",
              "      <td>['coronaviru', 'australia', 'woolworth', 'give...</td>\n",
              "      <td>['coronavirus', 'australia', 'woolworth', 'giv...</td>\n",
              "    </tr>\n",
              "    <tr>\n",
              "      <th>3</th>\n",
              "      <td>3</td>\n",
              "      <td>3802</td>\n",
              "      <td>48754</td>\n",
              "      <td>NaN</td>\n",
              "      <td>1.0</td>\n",
              "      <td>My food stock is not the only one which is emp...</td>\n",
              "      <td>['my', 'food', 'stock', 'is', 'not', 'the', 'o...</td>\n",
              "      <td>['food', 'stock', 'one', 'empty', 'please', 'd...</td>\n",
              "      <td>['food', 'stock', 'one', 'empti', 'pleas', 'do...</td>\n",
              "      <td>['food', 'stock', 'one', 'empty', 'please', 'd...</td>\n",
              "    </tr>\n",
              "    <tr>\n",
              "      <th>4</th>\n",
              "      <td>4</td>\n",
              "      <td>3803</td>\n",
              "      <td>48755</td>\n",
              "      <td>NaN</td>\n",
              "      <td>3.0</td>\n",
              "      <td>Me ready to go at supermarket during the COVID...</td>\n",
              "      <td>['me', 'ready', 'to', 'go', 'at', 'supermarket...</td>\n",
              "      <td>['ready', 'go', 'supermarket', 'covid', 'outbr...</td>\n",
              "      <td>['readi', 'go', 'supermarket', 'covid', 'outbr...</td>\n",
              "      <td>['ready', 'go', 'supermarket', 'covid', 'outbr...</td>\n",
              "    </tr>\n",
              "    <tr>\n",
              "      <th>5</th>\n",
              "      <td>5</td>\n",
              "      <td>3804</td>\n",
              "      <td>48756</td>\n",
              "      <td>ÜT: 36.319708,-82.363649</td>\n",
              "      <td>1.0</td>\n",
              "      <td>As news of the regions first confirmed COVID ...</td>\n",
              "      <td>['as', 'news', 'of', 'the', 'region', 's', 'fi...</td>\n",
              "      <td>['news', 'region', 'first', 'confirmed', 'covi...</td>\n",
              "      <td>['news', 'region', 'first', 'confirm', 'covid'...</td>\n",
              "      <td>['news', 'region', 'first', 'confirmed', 'covi...</td>\n",
              "    </tr>\n",
              "    <tr>\n",
              "      <th>6</th>\n",
              "      <td>6</td>\n",
              "      <td>3805</td>\n",
              "      <td>48757</td>\n",
              "      <td>35.926541,-78.753267</td>\n",
              "      <td>1.0</td>\n",
              "      <td>Cashier at grocery store was sharing his insig...</td>\n",
              "      <td>['cashier', 'at', 'grocery', 'store', 'was', '...</td>\n",
              "      <td>['cashier', 'grocery', 'store', 'sharing', 'in...</td>\n",
              "      <td>['cashier', 'groceri', 'store', 'share', 'insi...</td>\n",
              "      <td>['cashier', 'grocery', 'store', 'sharing', 'in...</td>\n",
              "    </tr>\n",
              "    <tr>\n",
              "      <th>7</th>\n",
              "      <td>7</td>\n",
              "      <td>3806</td>\n",
              "      <td>48758</td>\n",
              "      <td>Austria</td>\n",
              "      <td>0.0</td>\n",
              "      <td>Was at the supermarket today Didnt buy toilet ...</td>\n",
              "      <td>['was', 'at', 'the', 'supermarket', 'today', '...</td>\n",
              "      <td>['supermarket', 'today', 'didnt', 'buy', 'toil...</td>\n",
              "      <td>['supermarket', 'today', 'didnt', 'buy', 'toil...</td>\n",
              "      <td>['supermarket', 'today', 'didnt', 'buy', 'toil...</td>\n",
              "    </tr>\n",
              "    <tr>\n",
              "      <th>8</th>\n",
              "      <td>8</td>\n",
              "      <td>3807</td>\n",
              "      <td>48759</td>\n",
              "      <td>Atlanta, GA USA</td>\n",
              "      <td>1.0</td>\n",
              "      <td>Due to COVID our retail store and classroom in...</td>\n",
              "      <td>['due', 'to', 'covid', 'our', 'retail', 'store...</td>\n",
              "      <td>['due', 'covid', 'retail', 'store', 'classroom...</td>\n",
              "      <td>['due', 'covid', 'retail', 'store', 'classroom...</td>\n",
              "      <td>['due', 'covid', 'retail', 'store', 'classroom...</td>\n",
              "    </tr>\n",
              "    <tr>\n",
              "      <th>9</th>\n",
              "      <td>9</td>\n",
              "      <td>3808</td>\n",
              "      <td>48760</td>\n",
              "      <td>BHAVNAGAR,GUJRAT</td>\n",
              "      <td>NaN</td>\n",
              "      <td>For corona preventionwe should stop to buy thi...</td>\n",
              "      <td>['for', 'corona', 'preventionwe', 'should', 's...</td>\n",
              "      <td>['corona', 'preventionwe', 'stop', 'buy', 'thi...</td>\n",
              "      <td>['corona', 'preventionw', 'stop', 'buy', 'thin...</td>\n",
              "      <td>['corona', 'preventionwe', 'stop', 'buy', 'thi...</td>\n",
              "    </tr>\n",
              "  </tbody>\n",
              "</table>\n",
              "</div>"
            ],
            "text/plain": [
              "  Unnamed: 0  ...                                   Tweet_lemmatized\n",
              "0          0  ...  ['menyrbie', 'philgahan', 'chrisitv', 'httpstc...\n",
              "1          1  ...  ['advice', 'talk', 'neighbour', 'family', 'exc...\n",
              "2          2  ...  ['coronavirus', 'australia', 'woolworth', 'giv...\n",
              "3          3  ...  ['food', 'stock', 'one', 'empty', 'please', 'd...\n",
              "4          4  ...  ['ready', 'go', 'supermarket', 'covid', 'outbr...\n",
              "5          5  ...  ['news', 'region', 'first', 'confirmed', 'covi...\n",
              "6          6  ...  ['cashier', 'grocery', 'store', 'sharing', 'in...\n",
              "7          7  ...  ['supermarket', 'today', 'didnt', 'buy', 'toil...\n",
              "8          8  ...  ['due', 'covid', 'retail', 'store', 'classroom...\n",
              "9          9  ...  ['corona', 'preventionwe', 'stop', 'buy', 'thi...\n",
              "\n",
              "[10 rows x 10 columns]"
            ]
          },
          "metadata": {
            "tags": []
          },
          "execution_count": 6
        }
      ]
    },
    {
      "cell_type": "code",
      "metadata": {
        "id": "qS-6fTC1DG0p"
      },
      "source": [
        "tweet_df.drop('Unnamed: 0',inplace=True,axis = 1)"
      ],
      "execution_count": 7,
      "outputs": []
    },
    {
      "cell_type": "code",
      "metadata": {
        "id": "p6478vyWCoRY"
      },
      "source": [
        "tweet_df.drop(['Tweet_punct', 'Tweet_tokenized','Tweet_nonstop', 'ScreenName', 'Location' ], axis=1, inplace= True)"
      ],
      "execution_count": 8,
      "outputs": []
    },
    {
      "cell_type": "code",
      "metadata": {
        "id": "Bz5evAzgDLzy",
        "outputId": "073e3b2e-b68c-4615-9889-9039e9b3be87",
        "colab": {
          "base_uri": "https://localhost:8080/",
          "height": 347
        }
      },
      "source": [
        "tweet_df.head(10)"
      ],
      "execution_count": 9,
      "outputs": [
        {
          "output_type": "execute_result",
          "data": {
            "text/html": [
              "<div>\n",
              "<style scoped>\n",
              "    .dataframe tbody tr th:only-of-type {\n",
              "        vertical-align: middle;\n",
              "    }\n",
              "\n",
              "    .dataframe tbody tr th {\n",
              "        vertical-align: top;\n",
              "    }\n",
              "\n",
              "    .dataframe thead th {\n",
              "        text-align: right;\n",
              "    }\n",
              "</style>\n",
              "<table border=\"1\" class=\"dataframe\">\n",
              "  <thead>\n",
              "    <tr style=\"text-align: right;\">\n",
              "      <th></th>\n",
              "      <th>UserName</th>\n",
              "      <th>label</th>\n",
              "      <th>Tweet_stemmed</th>\n",
              "      <th>Tweet_lemmatized</th>\n",
              "    </tr>\n",
              "  </thead>\n",
              "  <tbody>\n",
              "    <tr>\n",
              "      <th>0</th>\n",
              "      <td>3799</td>\n",
              "      <td>0.0</td>\n",
              "      <td>['menyrbi', 'philgahan', 'chrisitv', 'httpstco...</td>\n",
              "      <td>['menyrbie', 'philgahan', 'chrisitv', 'httpstc...</td>\n",
              "    </tr>\n",
              "    <tr>\n",
              "      <th>1</th>\n",
              "      <td>3800</td>\n",
              "      <td>1.0</td>\n",
              "      <td>['advic', 'talk', 'neighbour', 'famili', 'exch...</td>\n",
              "      <td>['advice', 'talk', 'neighbour', 'family', 'exc...</td>\n",
              "    </tr>\n",
              "    <tr>\n",
              "      <th>2</th>\n",
              "      <td>3801</td>\n",
              "      <td>1.0</td>\n",
              "      <td>['coronaviru', 'australia', 'woolworth', 'give...</td>\n",
              "      <td>['coronavirus', 'australia', 'woolworth', 'giv...</td>\n",
              "    </tr>\n",
              "    <tr>\n",
              "      <th>3</th>\n",
              "      <td>3802</td>\n",
              "      <td>1.0</td>\n",
              "      <td>['food', 'stock', 'one', 'empti', 'pleas', 'do...</td>\n",
              "      <td>['food', 'stock', 'one', 'empty', 'please', 'd...</td>\n",
              "    </tr>\n",
              "    <tr>\n",
              "      <th>4</th>\n",
              "      <td>3803</td>\n",
              "      <td>3.0</td>\n",
              "      <td>['readi', 'go', 'supermarket', 'covid', 'outbr...</td>\n",
              "      <td>['ready', 'go', 'supermarket', 'covid', 'outbr...</td>\n",
              "    </tr>\n",
              "    <tr>\n",
              "      <th>5</th>\n",
              "      <td>3804</td>\n",
              "      <td>1.0</td>\n",
              "      <td>['news', 'region', 'first', 'confirm', 'covid'...</td>\n",
              "      <td>['news', 'region', 'first', 'confirmed', 'covi...</td>\n",
              "    </tr>\n",
              "    <tr>\n",
              "      <th>6</th>\n",
              "      <td>3805</td>\n",
              "      <td>1.0</td>\n",
              "      <td>['cashier', 'groceri', 'store', 'share', 'insi...</td>\n",
              "      <td>['cashier', 'grocery', 'store', 'sharing', 'in...</td>\n",
              "    </tr>\n",
              "    <tr>\n",
              "      <th>7</th>\n",
              "      <td>3806</td>\n",
              "      <td>0.0</td>\n",
              "      <td>['supermarket', 'today', 'didnt', 'buy', 'toil...</td>\n",
              "      <td>['supermarket', 'today', 'didnt', 'buy', 'toil...</td>\n",
              "    </tr>\n",
              "    <tr>\n",
              "      <th>8</th>\n",
              "      <td>3807</td>\n",
              "      <td>1.0</td>\n",
              "      <td>['due', 'covid', 'retail', 'store', 'classroom...</td>\n",
              "      <td>['due', 'covid', 'retail', 'store', 'classroom...</td>\n",
              "    </tr>\n",
              "    <tr>\n",
              "      <th>9</th>\n",
              "      <td>3808</td>\n",
              "      <td>NaN</td>\n",
              "      <td>['corona', 'preventionw', 'stop', 'buy', 'thin...</td>\n",
              "      <td>['corona', 'preventionwe', 'stop', 'buy', 'thi...</td>\n",
              "    </tr>\n",
              "  </tbody>\n",
              "</table>\n",
              "</div>"
            ],
            "text/plain": [
              "  UserName  ...                                   Tweet_lemmatized\n",
              "0     3799  ...  ['menyrbie', 'philgahan', 'chrisitv', 'httpstc...\n",
              "1     3800  ...  ['advice', 'talk', 'neighbour', 'family', 'exc...\n",
              "2     3801  ...  ['coronavirus', 'australia', 'woolworth', 'giv...\n",
              "3     3802  ...  ['food', 'stock', 'one', 'empty', 'please', 'd...\n",
              "4     3803  ...  ['ready', 'go', 'supermarket', 'covid', 'outbr...\n",
              "5     3804  ...  ['news', 'region', 'first', 'confirmed', 'covi...\n",
              "6     3805  ...  ['cashier', 'grocery', 'store', 'sharing', 'in...\n",
              "7     3806  ...  ['supermarket', 'today', 'didnt', 'buy', 'toil...\n",
              "8     3807  ...  ['due', 'covid', 'retail', 'store', 'classroom...\n",
              "9     3808  ...  ['corona', 'preventionwe', 'stop', 'buy', 'thi...\n",
              "\n",
              "[10 rows x 4 columns]"
            ]
          },
          "metadata": {
            "tags": []
          },
          "execution_count": 9
        }
      ]
    },
    {
      "cell_type": "code",
      "metadata": {
        "id": "bRDQuRQhDnrN",
        "outputId": "97248ca1-a964-402e-870f-8ac48fcf29a7",
        "colab": {
          "base_uri": "https://localhost:8080/",
          "height": 105
        }
      },
      "source": [
        "tweet_df.isnull().sum()"
      ],
      "execution_count": 10,
      "outputs": [
        {
          "output_type": "execute_result",
          "data": {
            "text/plain": [
              "UserName               2\n",
              "label               9929\n",
              "Tweet_stemmed         16\n",
              "Tweet_lemmatized      16\n",
              "dtype: int64"
            ]
          },
          "metadata": {
            "tags": []
          },
          "execution_count": 10
        }
      ]
    },
    {
      "cell_type": "code",
      "metadata": {
        "id": "2tz-byUUDp3W"
      },
      "source": [
        "tweet_df= tweet_df.dropna()"
      ],
      "execution_count": 11,
      "outputs": []
    },
    {
      "cell_type": "code",
      "metadata": {
        "id": "7YIliI27EBog",
        "outputId": "12cc4829-b658-4f86-d1a6-18d576aed04e",
        "colab": {
          "base_uri": "https://localhost:8080/",
          "height": 406
        }
      },
      "source": [
        "messages= tweet_df.copy()\n",
        "messages.reset_index()"
      ],
      "execution_count": 12,
      "outputs": [
        {
          "output_type": "execute_result",
          "data": {
            "text/html": [
              "<div>\n",
              "<style scoped>\n",
              "    .dataframe tbody tr th:only-of-type {\n",
              "        vertical-align: middle;\n",
              "    }\n",
              "\n",
              "    .dataframe tbody tr th {\n",
              "        vertical-align: top;\n",
              "    }\n",
              "\n",
              "    .dataframe thead th {\n",
              "        text-align: right;\n",
              "    }\n",
              "</style>\n",
              "<table border=\"1\" class=\"dataframe\">\n",
              "  <thead>\n",
              "    <tr style=\"text-align: right;\">\n",
              "      <th></th>\n",
              "      <th>index</th>\n",
              "      <th>UserName</th>\n",
              "      <th>label</th>\n",
              "      <th>Tweet_stemmed</th>\n",
              "      <th>Tweet_lemmatized</th>\n",
              "    </tr>\n",
              "  </thead>\n",
              "  <tbody>\n",
              "    <tr>\n",
              "      <th>0</th>\n",
              "      <td>0</td>\n",
              "      <td>3799</td>\n",
              "      <td>0.0</td>\n",
              "      <td>['menyrbi', 'philgahan', 'chrisitv', 'httpstco...</td>\n",
              "      <td>['menyrbie', 'philgahan', 'chrisitv', 'httpstc...</td>\n",
              "    </tr>\n",
              "    <tr>\n",
              "      <th>1</th>\n",
              "      <td>1</td>\n",
              "      <td>3800</td>\n",
              "      <td>1.0</td>\n",
              "      <td>['advic', 'talk', 'neighbour', 'famili', 'exch...</td>\n",
              "      <td>['advice', 'talk', 'neighbour', 'family', 'exc...</td>\n",
              "    </tr>\n",
              "    <tr>\n",
              "      <th>2</th>\n",
              "      <td>2</td>\n",
              "      <td>3801</td>\n",
              "      <td>1.0</td>\n",
              "      <td>['coronaviru', 'australia', 'woolworth', 'give...</td>\n",
              "      <td>['coronavirus', 'australia', 'woolworth', 'giv...</td>\n",
              "    </tr>\n",
              "    <tr>\n",
              "      <th>3</th>\n",
              "      <td>3</td>\n",
              "      <td>3802</td>\n",
              "      <td>1.0</td>\n",
              "      <td>['food', 'stock', 'one', 'empti', 'pleas', 'do...</td>\n",
              "      <td>['food', 'stock', 'one', 'empty', 'please', 'd...</td>\n",
              "    </tr>\n",
              "    <tr>\n",
              "      <th>4</th>\n",
              "      <td>4</td>\n",
              "      <td>3803</td>\n",
              "      <td>3.0</td>\n",
              "      <td>['readi', 'go', 'supermarket', 'covid', 'outbr...</td>\n",
              "      <td>['ready', 'go', 'supermarket', 'covid', 'outbr...</td>\n",
              "    </tr>\n",
              "    <tr>\n",
              "      <th>...</th>\n",
              "      <td>...</td>\n",
              "      <td>...</td>\n",
              "      <td>...</td>\n",
              "      <td>...</td>\n",
              "      <td>...</td>\n",
              "    </tr>\n",
              "    <tr>\n",
              "      <th>31231</th>\n",
              "      <td>41161</td>\n",
              "      <td>44950</td>\n",
              "      <td>2.0</td>\n",
              "      <td>['mrsilverscott', 'definit', 'man', 'feel', 'l...</td>\n",
              "      <td>['mrsilverscott', 'definitely', 'man', 'feel',...</td>\n",
              "    </tr>\n",
              "    <tr>\n",
              "      <th>31232</th>\n",
              "      <td>41162</td>\n",
              "      <td>44951</td>\n",
              "      <td>0.0</td>\n",
              "      <td>['airlin', 'pilot', 'offer', 'stock', 'superma...</td>\n",
              "      <td>['airline', 'pilot', 'offering', 'stock', 'sup...</td>\n",
              "    </tr>\n",
              "    <tr>\n",
              "      <th>31233</th>\n",
              "      <td>41163</td>\n",
              "      <td>44952</td>\n",
              "      <td>3.0</td>\n",
              "      <td>['respons', 'complaint', 'provid', 'cite', 'co...</td>\n",
              "      <td>['response', 'complaint', 'provided', 'citing'...</td>\n",
              "    </tr>\n",
              "    <tr>\n",
              "      <th>31234</th>\n",
              "      <td>41164</td>\n",
              "      <td>44953</td>\n",
              "      <td>1.0</td>\n",
              "      <td>['know', 'get', 'tough', 'kameronwild', 'ratio...</td>\n",
              "      <td>['know', 'getting', 'tough', 'kameronwilds', '...</td>\n",
              "    </tr>\n",
              "    <tr>\n",
              "      <th>31235</th>\n",
              "      <td>41165</td>\n",
              "      <td>44954</td>\n",
              "      <td>0.0</td>\n",
              "      <td>['wrong', 'smell', 'hand', 'sanit', 'start', '...</td>\n",
              "      <td>['wrong', 'smell', 'hand', 'sanitizer', 'start...</td>\n",
              "    </tr>\n",
              "  </tbody>\n",
              "</table>\n",
              "<p>31236 rows × 5 columns</p>\n",
              "</div>"
            ],
            "text/plain": [
              "       index  ...                                   Tweet_lemmatized\n",
              "0          0  ...  ['menyrbie', 'philgahan', 'chrisitv', 'httpstc...\n",
              "1          1  ...  ['advice', 'talk', 'neighbour', 'family', 'exc...\n",
              "2          2  ...  ['coronavirus', 'australia', 'woolworth', 'giv...\n",
              "3          3  ...  ['food', 'stock', 'one', 'empty', 'please', 'd...\n",
              "4          4  ...  ['ready', 'go', 'supermarket', 'covid', 'outbr...\n",
              "...      ...  ...                                                ...\n",
              "31231  41161  ...  ['mrsilverscott', 'definitely', 'man', 'feel',...\n",
              "31232  41162  ...  ['airline', 'pilot', 'offering', 'stock', 'sup...\n",
              "31233  41163  ...  ['response', 'complaint', 'provided', 'citing'...\n",
              "31234  41164  ...  ['know', 'getting', 'tough', 'kameronwilds', '...\n",
              "31235  41165  ...  ['wrong', 'smell', 'hand', 'sanitizer', 'start...\n",
              "\n",
              "[31236 rows x 5 columns]"
            ]
          },
          "metadata": {
            "tags": []
          },
          "execution_count": 12
        }
      ]
    },
    {
      "cell_type": "markdown",
      "metadata": {
        "id": "46KA9fitP7Gf"
      },
      "source": [
        "**Bi gram approach**"
      ]
    },
    {
      "cell_type": "code",
      "metadata": {
        "id": "ukej9-CTP-F7"
      },
      "source": [
        "tfidf_biagram = TfidfVectorizer(sublinear_tf=True,\n",
        "                            analyzer='word',\n",
        "                            lowercase = False,\n",
        "                            ngram_range=(2, 2),\n",
        "                            max_features=8000)"
      ],
      "execution_count": 13,
      "outputs": []
    },
    {
      "cell_type": "code",
      "metadata": {
        "id": "4D_shUz0Z-Ki"
      },
      "source": [
        "messages['Tweet_lemmatized']= messages['Tweet_lemmatized'].astype(str)"
      ],
      "execution_count": 14,
      "outputs": []
    },
    {
      "cell_type": "code",
      "metadata": {
        "id": "b-qk64S9QNMx",
        "outputId": "b120f1fa-482a-47c3-efaf-3a8f2363afac",
        "colab": {
          "base_uri": "https://localhost:8080/",
          "height": 52
        }
      },
      "source": [
        "X_biagram = tfidf_biagram.fit_transform(messages['Tweet_lemmatized'])\n",
        "X_biagram"
      ],
      "execution_count": 15,
      "outputs": [
        {
          "output_type": "execute_result",
          "data": {
            "text/plain": [
              "<31236x8000 sparse matrix of type '<class 'numpy.float64'>'\n",
              "\twith 132681 stored elements in Compressed Sparse Row format>"
            ]
          },
          "metadata": {
            "tags": []
          },
          "execution_count": 15
        }
      ]
    },
    {
      "cell_type": "code",
      "metadata": {
        "id": "tWpZHAWaaRG5"
      },
      "source": [
        "Y_biagram = messages['label']"
      ],
      "execution_count": 16,
      "outputs": []
    },
    {
      "cell_type": "code",
      "metadata": {
        "id": "2gfUkhp3aage",
        "outputId": "487c7ac2-e9bc-4c0f-e2a3-2de917c4c7fb",
        "colab": {
          "base_uri": "https://localhost:8080/",
          "height": 34
        }
      },
      "source": [
        "Y_biagram.shape,X_biagram.shape"
      ],
      "execution_count": 17,
      "outputs": [
        {
          "output_type": "execute_result",
          "data": {
            "text/plain": [
              "((31236,), (31236, 8000))"
            ]
          },
          "metadata": {
            "tags": []
          },
          "execution_count": 17
        }
      ]
    },
    {
      "cell_type": "code",
      "metadata": {
        "id": "buyhqwW_b0-T"
      },
      "source": [
        "smk_biagram = SMOTETomek(random_state=42)\n",
        "X_biagram_v1,Y_biagram_v1=smk_biagram.fit_sample(X_biagram,Y_biagram)"
      ],
      "execution_count": 18,
      "outputs": []
    },
    {
      "cell_type": "code",
      "metadata": {
        "id": "N9E1gFk-_uI4",
        "outputId": "1065e7d9-9ffe-4cb9-a4b6-d3be89e46f16",
        "colab": {
          "base_uri": "https://localhost:8080/",
          "height": 52
        }
      },
      "source": [
        "from collections import Counter\n",
        "print('Original dataset shape {}'.format(Counter(Y_biagram)))\n",
        "print('Resampled dataset shape {}'.format(Counter(Y_biagram_v1)))"
      ],
      "execution_count": 19,
      "outputs": [
        {
          "output_type": "stream",
          "text": [
            "Original dataset shape Counter({1.0: 11421, 0.0: 7711, 2.0: 6624, 3.0: 5480})\n",
            "Resampled dataset shape Counter({3.0: 11272, 2.0: 11146, 0.0: 11062, 1.0: 10924})\n"
          ],
          "name": "stdout"
        }
      ]
    },
    {
      "cell_type": "markdown",
      "metadata": {
        "id": "JBoajGVvGOUV"
      },
      "source": [
        "**Spliting data for Biagram Model**"
      ]
    },
    {
      "cell_type": "code",
      "metadata": {
        "id": "woeZeQj34V9D"
      },
      "source": [
        "# data Split\n",
        "# Biagram Model\n",
        "# let's see how well our model perform on this new data\n",
        "x_train_biagram,x_test_biagram,y_train_biagram,y_test_biagram = train_test_split(X_biagram_v1,Y_biagram_v1,test_size = 0.30, random_state= True)"
      ],
      "execution_count": 39,
      "outputs": []
    },
    {
      "cell_type": "markdown",
      "metadata": {
        "id": "F0q0_rmo4X-i"
      },
      "source": [
        "**Confusion Matrix Function**"
      ]
    },
    {
      "cell_type": "code",
      "metadata": {
        "id": "B8uzWYL630BE"
      },
      "source": [
        "def plot_confusion_matrix(cm, classes,\n",
        "                          normalize=False,\n",
        "                          title='Confusion matrix',\n",
        "                          cmap=plt.cm.Blues):\n",
        "    \"\"\"\n",
        "    See full source and example: \n",
        "    http://scikit-learn.org/stable/auto_examples/model_selection/plot_confusion_matrix.html\n",
        "    \n",
        "    This function prints and plots the confusion matrix.\n",
        "    Normalization can be applied by setting `normalize=True`.\n",
        "    \"\"\"\n",
        "    plt.imshow(cm, interpolation='nearest', cmap=cmap)\n",
        "    plt.title(title)\n",
        "    plt.colorbar()\n",
        "    tick_marks = np.arange(len(classes))\n",
        "    plt.xticks(tick_marks, classes, rotation=45)\n",
        "    plt.yticks(tick_marks, classes)\n",
        "\n",
        "    if normalize:\n",
        "        cm = cm.astype('float') / cm.sum(axis=1)[:, np.newaxis]\n",
        "        print(\"Normalized confusion matrix\")\n",
        "    else:\n",
        "        print('Confusion matrix, without normalization')\n",
        "\n",
        "    thresh = cm.max() / 2.\n",
        "    for i, j in itertools.product(range(cm.shape[0]), range(cm.shape[1])):\n",
        "        plt.text(j, i, cm[i, j],\n",
        "                 horizontalalignment=\"center\",\n",
        "                 color=\"white\" if cm[i, j] > thresh else \"black\")\n",
        "\n",
        "    plt.tight_layout()\n",
        "    plt.ylabel('True label')\n",
        "    plt.xlabel('Predicted label')"
      ],
      "execution_count": 40,
      "outputs": []
    },
    {
      "cell_type": "markdown",
      "metadata": {
        "id": "b4shd38PGdbC"
      },
      "source": [
        "**Supervised Learning Algorithm**"
      ]
    },
    {
      "cell_type": "markdown",
      "metadata": {
        "id": "ZKhG2m4w4h3e"
      },
      "source": [
        "**Support Vector Machine Algorithm**"
      ]
    },
    {
      "cell_type": "code",
      "metadata": {
        "id": "qquJ1KIpGWLP",
        "outputId": "a79cd2ba-5532-4514-d4de-d4b4348c9fbe",
        "colab": {
          "base_uri": "https://localhost:8080/",
          "height": 560
        }
      },
      "source": [
        "# SVM\n",
        "svm_class_biagram = svm.SVC(kernel='poly')\n",
        "svm_class_biagram.fit(x_train_biagram,y_train_biagram)\n",
        "y_pred_svm = svm_class_biagram.predict(x_test_biagram)\n",
        "predictions_svm = svm_class_biagram.predict(x_test_biagram)\n",
        "print(\"SVM  Algo\")\n",
        "print(classification_report(y_test_biagram, y_pred_svm))\n",
        "print('Accuracy Score:',accuracy_score(y_test_biagram, predictions_svm))\n",
        "\n",
        "#Confusion matrix\n",
        "cm_svm = metrics.confusion_matrix(y_test_biagram, y_pred_svm)\n",
        "plot_confusion_matrix(cm_svm, classes=['FAKE Data', 'REAL Data'])\n"
      ],
      "execution_count": 41,
      "outputs": [
        {
          "output_type": "stream",
          "text": [
            "SVM  Algo\n",
            "              precision    recall  f1-score   support\n",
            "\n",
            "         0.0       0.68      0.50      0.58      3318\n",
            "         1.0       0.58      0.20      0.29      3177\n",
            "         2.0       0.57      0.65      0.61      3357\n",
            "         3.0       0.51      0.89      0.65      3470\n",
            "\n",
            "    accuracy                           0.57     13322\n",
            "   macro avg       0.59      0.56      0.53     13322\n",
            "weighted avg       0.59      0.57      0.54     13322\n",
            "\n",
            "Accuracy Score: 0.5673322323975379\n",
            "Confusion matrix, without normalization\n"
          ],
          "name": "stdout"
        },
        {
          "output_type": "display_data",
          "data": {
            "image/png": "[encoded data removed]",
            "text/plain": [
              "<Figure size 432x288 with 2 Axes>"
            ]
          },
          "metadata": {
            "tags": [],
            "needs_background": "light"
          }
        }
      ]
    },
    {
      "cell_type": "markdown",
      "metadata": {
        "id": "eejwZ7Yt4qU7"
      },
      "source": [
        "**Decission Tree Classifier**"
      ]
    },
    {
      "cell_type": "code",
      "metadata": {
        "id": "fx5FzEzK3PMK",
        "outputId": "a523d291-8220-400a-bcc8-28dca0c007d3",
        "colab": {
          "base_uri": "https://localhost:8080/",
          "height": 560
        }
      },
      "source": [
        "# Decission Tree Classifier\n",
        "decession_tree_biagram = DecisionTreeClassifier()\n",
        "decession_tree_biagram.fit(x_train_biagram,y_train_biagram)\n",
        "y_pred_decession_tree_biagram = decession_tree_biagram.predict(x_test_biagram)\n",
        "#predictions_dt = decession_tree_biagram.predict(x_test_biagram)\n",
        "print(\"Decission Tree Classifier\")\n",
        "print(classification_report(y_test_biagram, y_pred_decession_tree_biagram))\n",
        "print('Accuracy Score:',accuracy_score(y_test_biagram, predictions_dt))\n",
        "\n",
        "#Confusion matrix\n",
        "cm_dtc = metrics.confusion_matrix(y_test_biagram, y_pred_decession_tree_biagram)\n",
        "plot_confusion_matrix(cm_dtc, classes=['FAKE Data', 'REAL Data'])"
      ],
      "execution_count": 42,
      "outputs": [
        {
          "output_type": "stream",
          "text": [
            "Decission Tree Classifier\n",
            "              precision    recall  f1-score   support\n",
            "\n",
            "         0.0       0.48      0.63      0.54      3318\n",
            "         1.0       0.41      0.38      0.39      3177\n",
            "         2.0       0.59      0.50      0.54      3357\n",
            "         3.0       0.68      0.62      0.65      3470\n",
            "\n",
            "    accuracy                           0.54     13322\n",
            "   macro avg       0.54      0.53      0.53     13322\n",
            "weighted avg       0.54      0.54      0.54     13322\n",
            "\n",
            "Accuracy Score: 0.5322023720162138\n",
            "Confusion matrix, without normalization\n"
          ],
          "name": "stdout"
        },
        {
          "output_type": "display_data",
          "data": {
            "image/png": "[encoded data removed]",
            "text/plain": [
              "<Figure size 432x288 with 2 Axes>"
            ]
          },
          "metadata": {
            "tags": [],
            "needs_background": "light"
          }
        }
      ]
    },
    {
      "cell_type": "markdown",
      "metadata": {
        "id": "tZ1cvNM_4uDt"
      },
      "source": [
        "**Random Forest  Classifier**"
      ]
    },
    {
      "cell_type": "code",
      "metadata": {
        "id": "gnRe9m5e3X1b",
        "outputId": "d1903a20-9a59-42d1-80da-79ce2460de60",
        "colab": {
          "base_uri": "https://localhost:8080/",
          "height": 560
        }
      },
      "source": [
        "\n",
        "# Random Forest  Classifier\n",
        "random_forest_biagram = RandomForestClassifier()\n",
        "random_forest_biagram.fit(x_train_biagram,y_train_biagram)\n",
        "y_pred_random_forest_biagram = random_forest_biagram.predict(x_test_biagram)\n",
        "\n",
        "#predictions_rf = random_forest_biagram.predict(x_test_biagram)\n",
        "print(\"Random Forest  Classifier\")\n",
        "print(classification_report(y_test_biagram, y_pred_random_forest_biagram))\n",
        "print('Accuracy Score:',accuracy_score(y_test_biagram, predictions_rf))\n",
        "\n",
        "#Confusion matrix\n",
        "cm_rf = metrics.confusion_matrix(y_test_biagram, y_pred_random_forest_biagram)\n",
        "plot_confusion_matrix(cm_rf, classes=['FAKE Data', 'REAL Data'])"
      ],
      "execution_count": 43,
      "outputs": [
        {
          "output_type": "stream",
          "text": [
            "Random Forest  Classifier\n",
            "              precision    recall  f1-score   support\n",
            "\n",
            "         0.0       0.52      0.75      0.61      3318\n",
            "         1.0       0.50      0.34      0.40      3177\n",
            "         2.0       0.67      0.62      0.64      3357\n",
            "         3.0       0.76      0.72      0.74      3470\n",
            "\n",
            "    accuracy                           0.61     13322\n",
            "   macro avg       0.61      0.60      0.60     13322\n",
            "weighted avg       0.61      0.61      0.60     13322\n",
            "\n",
            "Accuracy Score: 0.6075664314667467\n",
            "Confusion matrix, without normalization\n"
          ],
          "name": "stdout"
        },
        {
          "output_type": "display_data",
          "data": {
            "image/png": "[encoded data removed]",
            "text/plain": [
              "<Figure size 432x288 with 2 Axes>"
            ]
          },
          "metadata": {
            "tags": [],
            "needs_background": "light"
          }
        }
      ]
    },
    {
      "cell_type": "markdown",
      "metadata": {
        "id": "Vm9HIOYb4zZ3"
      },
      "source": [
        "**KNN  Algorithm**"
      ]
    },
    {
      "cell_type": "code",
      "metadata": {
        "id": "wLPeol9i3hAy",
        "outputId": "3abdba48-d59d-4ea4-9f77-233cbeed8129",
        "colab": {
          "base_uri": "https://localhost:8080/",
          "height": 560
        }
      },
      "source": [
        "\n",
        "# KNN  Algorithm\n",
        "knn_classifier_biagram = KNeighborsClassifier()\n",
        "knn_classifier_biagram.fit(x_train_biagram,y_train_biagram)\n",
        "y_pred_knn_classifier_bigram = knn_classifier_biagram.predict(x_test_biagram)\n",
        "predictions_knn = knn_classifier_biagram.predict(x_test_biagram)\n",
        "print(\"KNN  Algo\")\n",
        "print(classification_report(y_test_biagram, y_pred_knn_classifier_bigram))\n",
        "print('Accuracy Score:',accuracy_score(y_test_biagram, predictions_knn))\n",
        "\n",
        "#Confusion matrix\n",
        "cm_knn = metrics.confusion_matrix(y_test_biagram, y_pred_knn_classifier_bigram)\n",
        "plot_confusion_matrix(cm_knn, classes=['FAKE Data', 'REAL Data'])"
      ],
      "execution_count": 44,
      "outputs": [
        {
          "output_type": "stream",
          "text": [
            "KNN  Algo\n",
            "              precision    recall  f1-score   support\n",
            "\n",
            "         0.0       0.45      0.65      0.53      3318\n",
            "         1.0       0.45      0.09      0.15      3177\n",
            "         2.0       0.49      0.57      0.53      3357\n",
            "         3.0       0.55      0.64      0.59      3470\n",
            "\n",
            "    accuracy                           0.49     13322\n",
            "   macro avg       0.48      0.49      0.45     13322\n",
            "weighted avg       0.49      0.49      0.45     13322\n",
            "\n",
            "Accuracy Score: 0.49271881098934095\n",
            "Confusion matrix, without normalization\n"
          ],
          "name": "stdout"
        },
        {
          "output_type": "display_data",
          "data": {
            "image/png": "[encoded data removed]",
            "text/plain": [
              "<Figure size 432x288 with 2 Axes>"
            ]
          },
          "metadata": {
            "tags": [],
            "needs_background": "light"
          }
        }
      ]
    },
    {
      "cell_type": "markdown",
      "metadata": {
        "id": "moouhndI42X5"
      },
      "source": [
        "**Gradient bossting**"
      ]
    },
    {
      "cell_type": "code",
      "metadata": {
        "id": "XwGitGpl3qGe",
        "outputId": "73d44ddf-f4fa-456a-c6f5-3fbdb97ada41",
        "colab": {
          "base_uri": "https://localhost:8080/",
          "height": 560
        }
      },
      "source": [
        "# Gradient bossting\n",
        "gradient_bossting_biagram  = GradientBoostingClassifier(random_state=3)\n",
        "gradient_bossting_biagram.fit(x_train_biagram,y_train_biagram)\n",
        "y_pred_gradientbossting = gradient_bossting_biagram.predict(x_test_biagram)\n",
        "#predictions_gb = gradient_bossting_biagram.predict(x_test_biagram)\n",
        "print(\"GradientBosting  Algo\")\n",
        "print(classification_report(y_test_biagram, y_pred_gradientbossting))\n",
        "print('Accuracy Score:',accuracy_score(y_test_biagram, y_pred_gradientbossting))\n",
        "\n",
        "#Confusion matrix\n",
        "cm_gb = metrics.confusion_matrix(y_test_biagram, y_pred_gradientbossting)\n",
        "plot_confusion_matrix(cm_gb, classes=['FAKE Data', 'REAL Data'])"
      ],
      "execution_count": 48,
      "outputs": [
        {
          "output_type": "stream",
          "text": [
            "GradientBosting  Algo\n",
            "              precision    recall  f1-score   support\n",
            "\n",
            "         0.0       0.34      0.84      0.48      3318\n",
            "         1.0       0.36      0.23      0.28      3177\n",
            "         2.0       0.65      0.32      0.42      3357\n",
            "         3.0       0.78      0.36      0.49      3470\n",
            "\n",
            "    accuracy                           0.43     13322\n",
            "   macro avg       0.53      0.43      0.42     13322\n",
            "weighted avg       0.54      0.43      0.42     13322\n",
            "\n",
            "Accuracy Score: 0.4347695541210029\n",
            "Confusion matrix, without normalization\n"
          ],
          "name": "stdout"
        },
        {
          "output_type": "display_data",
          "data": {
            "image/png": "[encoded data removed]",
            "text/plain": [
              "<Figure size 432x288 with 2 Axes>"
            ]
          },
          "metadata": {
            "tags": [],
            "needs_background": "light"
          }
        }
      ]
    },
    {
      "cell_type": "markdown",
      "metadata": {
        "id": "2L5pxToq46K-"
      },
      "source": [
        "**Multinomial Naive Bayes**"
      ]
    },
    {
      "cell_type": "code",
      "metadata": {
        "id": "apkFtdN53l07",
        "outputId": "6bcc6f49-1b92-4191-8a5c-d660f4e6d2a7",
        "colab": {
          "base_uri": "https://localhost:8080/",
          "height": 560
        }
      },
      "source": [
        "# Multinomial Naive Bias\n",
        "mulNB_biagram  = MultinomialNB()\n",
        "mulNB_biagram.fit(x_train_biagram,y_train_biagram)\n",
        "y_pred_mulNB_biagram = mulNB_biagram.predict(x_test_biagram)\n",
        "predictions_mnb = mulNB_biagram.predict(x_test_biagram)\n",
        "print(\"Multinomial Naive Bias\")\n",
        "print(classification_report(y_test_biagram, y_pred_mulNB_biagram))\n",
        "print('Accuracy Score:',accuracy_score(y_test_biagram, predictions_mnb))\n",
        "\n",
        "#Confusion matrix\n",
        "cm_mnb = metrics.confusion_matrix(y_test_biagram, y_pred_mulNB_biagram)\n",
        "plot_confusion_matrix(cm_mnb, classes=['FAKE Data', 'REAL Data'])"
      ],
      "execution_count": 46,
      "outputs": [
        {
          "output_type": "stream",
          "text": [
            "Multinomial Naive Bias\n",
            "              precision    recall  f1-score   support\n",
            "\n",
            "         0.0       0.54      0.59      0.57      3318\n",
            "         1.0       0.42      0.29      0.34      3177\n",
            "         2.0       0.61      0.58      0.59      3357\n",
            "         3.0       0.58      0.72      0.64      3470\n",
            "\n",
            "    accuracy                           0.55     13322\n",
            "   macro avg       0.54      0.54      0.53     13322\n",
            "weighted avg       0.54      0.55      0.54     13322\n",
            "\n",
            "Accuracy Score: 0.5486413451433718\n",
            "Confusion matrix, without normalization\n"
          ],
          "name": "stdout"
        },
        {
          "output_type": "display_data",
          "data": {
            "image/png": "[encoded data removed]",
            "text/plain": [
              "<Figure size 432x288 with 2 Axes>"
            ]
          },
          "metadata": {
            "tags": [],
            "needs_background": "light"
          }
        }
      ]
    },
    {
      "cell_type": "markdown",
      "metadata": {
        "id": "vJO6cIAc5ALf"
      },
      "source": [
        "**Logistic Regression**"
      ]
    },
    {
      "cell_type": "code",
      "metadata": {
        "id": "3jZi4pth3uJ3",
        "outputId": "86edada4-a567-40b8-be35-cc24b9ef52b9",
        "colab": {
          "base_uri": "https://localhost:8080/",
          "height": 560
        }
      },
      "source": [
        "# Logistic Regression\n",
        "logis_reg_bia =LogisticRegression()\n",
        "logis_reg_bia.fit(x_train_biagram,y_train_biagram)\n",
        "y_pred_log = logis_reg_bia.predict(x_test_biagram)\n",
        "predictions_lr = logis_reg_bia.predict(x_test_biagram)\n",
        "print(\"Logistic Reg  Algo\")\n",
        "print(classification_report(y_test_biagram, y_pred_log))\n",
        "print('Accuracy Score:',accuracy_score(y_test_biagram, predictions_lr))\n",
        "\n",
        "#Confusion matrix\n",
        "cm_lr = metrics.confusion_matrix(y_test_biagram, y_pred_log)\n",
        "plot_confusion_matrix(cm_lr, classes=['FAKE Data', 'REAL Data'])"
      ],
      "execution_count": 47,
      "outputs": [
        {
          "output_type": "stream",
          "text": [
            "Logistic Reg  Algo\n",
            "              precision    recall  f1-score   support\n",
            "\n",
            "         0.0       0.55      0.59      0.57      3318\n",
            "         1.0       0.45      0.34      0.38      3177\n",
            "         2.0       0.62      0.59      0.60      3357\n",
            "         3.0       0.60      0.72      0.66      3470\n",
            "\n",
            "    accuracy                           0.56     13322\n",
            "   macro avg       0.55      0.56      0.55     13322\n",
            "weighted avg       0.56      0.56      0.56     13322\n",
            "\n",
            "Accuracy Score: 0.5642546164239604\n",
            "Confusion matrix, without normalization\n"
          ],
          "name": "stdout"
        },
        {
          "output_type": "display_data",
          "data": {
            "image/png": "[encoded data removed]",
            "text/plain": [
              "<Figure size 432x288 with 2 Axes>"
            ]
          },
          "metadata": {
            "tags": [],
            "needs_background": "light"
          }
        }
      ]
    },
    {
      "cell_type": "markdown",
      "metadata": {
        "id": "Uckl-N55wC7d"
      },
      "source": [
        "**Passive Aggressive Classifier Algorithm**"
      ]
    },
    {
      "cell_type": "code",
      "metadata": {
        "id": "ILR9r8UZwGpp",
        "outputId": "7ef0fb1e-8722-4be5-ed93-1120f6c3ae7f",
        "colab": {
          "base_uri": "https://localhost:8080/",
          "height": 346
        }
      },
      "source": [
        "from sklearn.linear_model import PassiveAggressiveClassifier\n",
        "from sklearn.metrics import confusion_matrix,accuracy_score\n",
        "import matplotlib.pyplot as plt \n",
        "from sklearn import metrics\n",
        "import numpy as np\n",
        "import itertools\n",
        "linear_clf = PassiveAggressiveClassifier(max_iter=1000, random_state=0,tol=1e-3)\n",
        "linear_clf.fit(x_train_biagram, y_train_biagram)\n",
        "pred = linear_clf.predict(x_test_biagram)\n",
        "score = metrics.accuracy_score(y_test_biagram, pred)\n",
        "print(\"accuracy:   %0.3f\" % score)\n",
        "cm = metrics.confusion_matrix(y_test_biagram, pred)\n",
        "plot_confusion_matrix(cm, classes=['FAKE Data', 'REAL Data'])\n"
      ],
      "execution_count": 36,
      "outputs": [
        {
          "output_type": "stream",
          "text": [
            "accuracy:   0.583\n",
            "Confusion matrix, without normalization\n"
          ],
          "name": "stdout"
        },
        {
          "output_type": "display_data",
          "data": {
            "image/png": "[encoded data removed]",
            "text/plain": [
              "<Figure size 432x288 with 2 Axes>"
            ]
          },
          "metadata": {
            "tags": [],
            "needs_background": "light"
          }
        }
      ]
    },
    {
      "cell_type": "markdown",
      "metadata": {
        "id": "XxPtPqyVzdOs"
      },
      "source": [
        "**Multinomial Classifier with Hyperparameter**"
      ]
    },
    {
      "cell_type": "code",
      "metadata": {
        "id": "4TQhtOwJzhib",
        "outputId": "73cd02b5-4f68-4f4d-e56e-2fcb47684034",
        "colab": {
          "base_uri": "https://localhost:8080/",
          "height": 194
        }
      },
      "source": [
        "classifier=MultinomialNB(alpha=0.1)\n",
        "previous_score=0\n",
        "for alpha in np.arange(0,1,0.1):\n",
        "    sub_classifier=MultinomialNB(alpha=alpha)\n",
        "    sub_classifier.fit(x_train_biagram,y_train_biagram)\n",
        "    y_pred=sub_classifier.predict(x_test_biagram)\n",
        "    score = metrics.accuracy_score(y_test_biagram, y_pred)\n",
        "    if score>previous_score:\n",
        "        classifier=sub_classifier\n",
        "    print(\"Alpha: {}, Score : {}\".format(alpha,score))"
      ],
      "execution_count": 37,
      "outputs": [
        {
          "output_type": "stream",
          "text": [
            "Alpha: 0.0, Score : 0.5634289145773907\n",
            "Alpha: 0.1, Score : 0.5622278937096532\n",
            "Alpha: 0.2, Score : 0.5602762347995797\n",
            "Alpha: 0.30000000000000004, Score : 0.5569734274133014\n",
            "Alpha: 0.4, Score : 0.5545713856778262\n",
            "Alpha: 0.5, Score : 0.5534454286143222\n",
            "Alpha: 0.6000000000000001, Score : 0.5522444077465846\n",
            "Alpha: 0.7000000000000001, Score : 0.5506680678576791\n",
            "Alpha: 0.8, Score : 0.5494670469899414\n",
            "Alpha: 0.9, Score : 0.5487164089476054\n"
          ],
          "name": "stdout"
        }
      ]
    },
    {
      "cell_type": "markdown",
      "metadata": {
        "id": "XuQeWpa-B6K8"
      },
      "source": [
        "**Cross Validation on top of ML algorithm**"
      ]
    },
    {
      "cell_type": "markdown",
      "metadata": {
        "id": "n4zn6_AGFhbM"
      },
      "source": [
        "**Cross validiate for passive aggressive classifier**"
      ]
    },
    {
      "cell_type": "code",
      "metadata": {
        "id": "2XcNO2rmFj7P",
        "outputId": "4bad9bcf-eb3a-4e4c-e33a-f43aa717a926",
        "colab": {
          "base_uri": "https://localhost:8080/",
          "height": 70
        }
      },
      "source": [
        "from sklearn.model_selection import cross_validate\n",
        "cv_pac= cross_validate(linear_clf, X_biagram_v1, Y_biagram_v1, cv=10)\n",
        "print(cv_pac['test_score'])\n",
        "print(cv_pac['test_score'].mean())"
      ],
      "execution_count": 50,
      "outputs": [
        {
          "output_type": "stream",
          "text": [
            "[0.54379644 0.53343841 0.51655033 0.53163702 0.54864865 0.59189189\n",
            " 0.65337838 0.67184685 0.65675676 0.66441441]\n",
            "0.5912359139143647\n"
          ],
          "name": "stdout"
        }
      ]
    },
    {
      "cell_type": "code",
      "metadata": {
        "id": "75HDrJp8Gd5W",
        "outputId": "4e64e154-b9b3-45b5-b9d3-a0657bf87fec",
        "colab": {
          "base_uri": "https://localhost:8080/",
          "height": 347
        }
      },
      "source": [
        "model_score_pac= pd.DataFrame(cv_pac)\n",
        "model_score_pac"
      ],
      "execution_count": 51,
      "outputs": [
        {
          "output_type": "execute_result",
          "data": {
            "text/html": [
              "<div>\n",
              "<style scoped>\n",
              "    .dataframe tbody tr th:only-of-type {\n",
              "        vertical-align: middle;\n",
              "    }\n",
              "\n",
              "    .dataframe tbody tr th {\n",
              "        vertical-align: top;\n",
              "    }\n",
              "\n",
              "    .dataframe thead th {\n",
              "        text-align: right;\n",
              "    }\n",
              "</style>\n",
              "<table border=\"1\" class=\"dataframe\">\n",
              "  <thead>\n",
              "    <tr style=\"text-align: right;\">\n",
              "      <th></th>\n",
              "      <th>fit_time</th>\n",
              "      <th>score_time</th>\n",
              "      <th>test_score</th>\n",
              "    </tr>\n",
              "  </thead>\n",
              "  <tbody>\n",
              "    <tr>\n",
              "      <th>0</th>\n",
              "      <td>0.801350</td>\n",
              "      <td>0.001999</td>\n",
              "      <td>0.543796</td>\n",
              "    </tr>\n",
              "    <tr>\n",
              "      <th>1</th>\n",
              "      <td>0.967662</td>\n",
              "      <td>0.001418</td>\n",
              "      <td>0.533438</td>\n",
              "    </tr>\n",
              "    <tr>\n",
              "      <th>2</th>\n",
              "      <td>0.774358</td>\n",
              "      <td>0.001359</td>\n",
              "      <td>0.516550</td>\n",
              "    </tr>\n",
              "    <tr>\n",
              "      <th>3</th>\n",
              "      <td>0.878373</td>\n",
              "      <td>0.001346</td>\n",
              "      <td>0.531637</td>\n",
              "    </tr>\n",
              "    <tr>\n",
              "      <th>4</th>\n",
              "      <td>0.656818</td>\n",
              "      <td>0.001266</td>\n",
              "      <td>0.548649</td>\n",
              "    </tr>\n",
              "    <tr>\n",
              "      <th>5</th>\n",
              "      <td>0.631859</td>\n",
              "      <td>0.001213</td>\n",
              "      <td>0.591892</td>\n",
              "    </tr>\n",
              "    <tr>\n",
              "      <th>6</th>\n",
              "      <td>0.547036</td>\n",
              "      <td>0.001257</td>\n",
              "      <td>0.653378</td>\n",
              "    </tr>\n",
              "    <tr>\n",
              "      <th>7</th>\n",
              "      <td>0.639446</td>\n",
              "      <td>0.001249</td>\n",
              "      <td>0.671847</td>\n",
              "    </tr>\n",
              "    <tr>\n",
              "      <th>8</th>\n",
              "      <td>0.544831</td>\n",
              "      <td>0.001274</td>\n",
              "      <td>0.656757</td>\n",
              "    </tr>\n",
              "    <tr>\n",
              "      <th>9</th>\n",
              "      <td>0.503111</td>\n",
              "      <td>0.001231</td>\n",
              "      <td>0.664414</td>\n",
              "    </tr>\n",
              "  </tbody>\n",
              "</table>\n",
              "</div>"
            ],
            "text/plain": [
              "   fit_time  score_time  test_score\n",
              "0  0.801350    0.001999    0.543796\n",
              "1  0.967662    0.001418    0.533438\n",
              "2  0.774358    0.001359    0.516550\n",
              "3  0.878373    0.001346    0.531637\n",
              "4  0.656818    0.001266    0.548649\n",
              "5  0.631859    0.001213    0.591892\n",
              "6  0.547036    0.001257    0.653378\n",
              "7  0.639446    0.001249    0.671847\n",
              "8  0.544831    0.001274    0.656757\n",
              "9  0.503111    0.001231    0.664414"
            ]
          },
          "metadata": {
            "tags": []
          },
          "execution_count": 51
        }
      ]
    },
    {
      "cell_type": "code",
      "metadata": {
        "id": "RD2QzcZ4GmlR",
        "outputId": "5142843c-ed87-40a5-aac8-6c4311faa22a",
        "colab": {
          "base_uri": "https://localhost:8080/",
          "height": 265
        }
      },
      "source": [
        "ax= model_score_pac.plot.line()"
      ],
      "execution_count": 52,
      "outputs": [
        {
          "output_type": "display_data",
          "data": {
            "image/png": "[encoded data removed]",
            "text/plain": [
              "<Figure size 432x288 with 1 Axes>"
            ]
          },
          "metadata": {
            "tags": [],
            "needs_background": "light"
          }
        }
      ]
    },
    {
      "cell_type": "markdown",
      "metadata": {
        "id": "c93JMgMUGvFV"
      },
      "source": [
        "**Cross validiate for SVM**"
      ]
    },
    {
      "cell_type": "code",
      "metadata": {
        "id": "CyE64gENc2_s"
      },
      "source": [
        "# cv_svm= cross_validate(svm_class_biagram, X_biagram_v1, Y_biagram_v1, cv=10)\n",
        "# print(cv_svm['test_score'])\n",
        "# print(cv_svm['test_score'].mean())"
      ],
      "execution_count": null,
      "outputs": []
    },
    {
      "cell_type": "markdown",
      "metadata": {
        "id": "DXrVQyRfc7ai"
      },
      "source": [
        "**Cross validiate for Logistic Regression**"
      ]
    },
    {
      "cell_type": "code",
      "metadata": {
        "id": "ssQgXQlvcmZo",
        "outputId": "ae86da71-edcd-40de-d83a-9047bc57e63c",
        "colab": {
          "base_uri": "https://localhost:8080/",
          "height": 70
        }
      },
      "source": [
        "cv_lr= cross_validate(logis_reg_bia, X_biagram_v1, Y_biagram_v1, cv=10)\n",
        "print(cv_lr['test_score'])\n",
        "print(cv_lr['test_score'].mean())"
      ],
      "execution_count": 55,
      "outputs": [
        {
          "output_type": "stream",
          "text": [
            "[0.5282594  0.52150417 0.49921189 0.49988741 0.51914414 0.57657658\n",
            " 0.60968468 0.65045045 0.63941441 0.63445946]\n",
            "0.567859259845299\n"
          ],
          "name": "stdout"
        }
      ]
    },
    {
      "cell_type": "code",
      "metadata": {
        "id": "0CBHTU_Zd51g",
        "outputId": "c336221a-23a7-43eb-d9fb-8a26d2608267",
        "colab": {
          "base_uri": "https://localhost:8080/",
          "height": 264
        }
      },
      "source": [
        "model_score_lr= pd.DataFrame(cv_lr)\n",
        "ax_lr= model_score_lr.plot.line()"
      ],
      "execution_count": 57,
      "outputs": [
        {
          "output_type": "display_data",
          "data": {
            "image/png": "[encoded data removed]",
            "text/plain": [
              "<Figure size 432x288 with 1 Axes>"
            ]
          },
          "metadata": {
            "tags": [],
            "needs_background": "light"
          }
        }
      ]
    },
    {
      "cell_type": "markdown",
      "metadata": {
        "id": "uI1lK79jeTEB"
      },
      "source": [
        "**Cross validiate for Decision tree**"
      ]
    },
    {
      "cell_type": "code",
      "metadata": {
        "id": "RU4pSzRXeW6W",
        "outputId": "b6798fcc-7a16-4f19-8a11-401a6bbe98ef",
        "colab": {
          "base_uri": "https://localhost:8080/",
          "height": 70
        }
      },
      "source": [
        "cv_dtc= cross_validate(decession_tree_biagram, X_biagram_v1, Y_biagram_v1, cv=10)\n",
        "print(cv_dtc['test_score'])\n",
        "print(cv_dtc['test_score'].mean())"
      ],
      "execution_count": 58,
      "outputs": [
        {
          "output_type": "stream",
          "text": [
            "[0.49110561 0.49425805 0.48299932 0.48682729 0.50743243 0.53761261\n",
            " 0.59301802 0.61193694 0.60608108 0.60698198]\n",
            "0.5418253335524221\n"
          ],
          "name": "stdout"
        }
      ]
    },
    {
      "cell_type": "code",
      "metadata": {
        "id": "_8BZaklXfIhX",
        "outputId": "1a0ad861-fda4-4909-efaa-8b2955839869",
        "colab": {
          "base_uri": "https://localhost:8080/",
          "height": 265
        }
      },
      "source": [
        "model_score_dtc= pd.DataFrame(cv_dtc)\n",
        "ax_dtc= model_score_dtc.plot.line()"
      ],
      "execution_count": 59,
      "outputs": [
        {
          "output_type": "display_data",
          "data": {
            "image/png": "[encoded data removed]",
            "text/plain": [
              "<Figure size 432x288 with 1 Axes>"
            ]
          },
          "metadata": {
            "tags": [],
            "needs_background": "light"
          }
        }
      ]
    },
    {
      "cell_type": "markdown",
      "metadata": {
        "id": "Gxt4eMDCff0y"
      },
      "source": [
        "**Cross validiate for MultinomialNB**"
      ]
    },
    {
      "cell_type": "code",
      "metadata": {
        "id": "QdwZD3xrfemS",
        "outputId": "e0b752a0-b914-4079-d0b0-8376b203a62e",
        "colab": {
          "base_uri": "https://localhost:8080/",
          "height": 70
        }
      },
      "source": [
        "cv_MNB= cross_validate(mulNB_biagram, X_biagram_v1, Y_biagram_v1, cv=10)\n",
        "print(cv_MNB['test_score'])\n",
        "print(cv_MNB['test_score'].mean())\n"
      ],
      "execution_count": 60,
      "outputs": [
        {
          "output_type": "stream",
          "text": [
            "[0.51902725 0.52330556 0.49403288 0.49831119 0.51283784 0.54932432\n",
            " 0.58783784 0.60540541 0.60382883 0.59391892]\n",
            "0.5487830027730951\n"
          ],
          "name": "stdout"
        }
      ]
    },
    {
      "cell_type": "code",
      "metadata": {
        "id": "d4AqbjZ0fxVr",
        "outputId": "f7fe6f40-d655-4fb7-ddf6-99107daf9f84",
        "colab": {
          "base_uri": "https://localhost:8080/",
          "height": 264
        }
      },
      "source": [
        "model_score_MNB= pd.DataFrame(cv_MNB)\n",
        "ax_MNB= model_score_MNB.plot.line()"
      ],
      "execution_count": 61,
      "outputs": [
        {
          "output_type": "display_data",
          "data": {
            "image/png": "[encoded data removed]",
            "text/plain": [
              "<Figure size 432x288 with 1 Axes>"
            ]
          },
          "metadata": {
            "tags": [],
            "needs_background": "light"
          }
        }
      ]
    }
  ]
}