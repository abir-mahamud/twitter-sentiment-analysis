{
  "nbformat": 4,
  "nbformat_minor": 0,
  "metadata": {
    "colab": {
      "name": "N gram approach2.ipynb",
      "provenance": []
    },
    "kernelspec": {
      "name": "python3",
      "display_name": "Python 3"
    }
  },
  "cells": [
    {
      "cell_type": "markdown",
      "metadata": {
        "id": "UL5OY6X8Xwbn"
      },
      "source": [
        "**Import library**"
      ]
    },
    {
      "cell_type": "code",
      "metadata": {
        "id": "h_VpMfX2Xzan"
      },
      "source": [
        "import pandas as pd\n",
        "import numpy as np\n",
        "from sklearn.model_selection import train_test_split,GridSearchCV\n",
        "from sklearn.metrics import accuracy_score, confusion_matrix, roc_curve, roc_auc_score\n",
        "\n",
        "from sklearn.feature_extraction.text import TfidfVectorizer\n",
        "from sklearn.tree import DecisionTreeClassifier\n",
        "from sklearn.linear_model import LogisticRegression\n",
        "from sklearn.svm import SVC\n",
        "from sklearn.ensemble import RandomForestClassifier\n",
        "from sklearn.neighbors import KNeighborsClassifier\n",
        "from sklearn.naive_bayes import GaussianNB\n",
        "from sklearn.naive_bayes import MultinomialNB\n",
        "from sklearn.metrics import accuracy_score, classification_report, confusion_matrix\n",
        "from sklearn.model_selection import cross_val_score\n",
        "from sklearn.datasets import make_classification\n",
        "from sklearn.ensemble import GradientBoostingClassifier\n",
        "\n",
        "import sklearn\n",
        "from imblearn.combine import SMOTETomek\n",
        "from imblearn.under_sampling import NearMiss\n",
        "from imblearn.over_sampling import RandomOverSampler\n",
        "from sklearn.svm import SVC\n",
        "from sklearn.linear_model import LogisticRegression\n",
        "from sklearn import svm\n",
        "import warnings\n",
        "warnings.simplefilter(\"ignore\")\n"
      ],
      "execution_count": null,
      "outputs": []
    },
    {
      "cell_type": "markdown",
      "metadata": {
        "id": "V3jkTtWQYqFZ"
      },
      "source": [
        "**Load the dataset**"
      ]
    },
    {
      "cell_type": "code",
      "metadata": {
        "id": "xJ7b3jk0YtBI"
      },
      "source": [
        "# from google.colab import drive\n",
        "# drive.mount('/gdrive', force_remount=True)"
      ],
      "execution_count": null,
      "outputs": []
    },
    {
      "cell_type": "code",
      "metadata": {
        "id": "yk-D9gPHY2FV"
      },
      "source": [
        "# Load dataset\n",
        "def load_data():\n",
        "    data =pd.read_csv(\"/content/drive/My Drive/Colab Notebooks/Data/processing_file2.csv\", engine='python')\n",
        "    return data"
      ],
      "execution_count": null,
      "outputs": []
    },
    {
      "cell_type": "code",
      "metadata": {
        "id": "llfncJQVY7UX",
        "outputId": "15709f35-e19e-42fe-c2f6-594243d8e838",
        "colab": {
          "base_uri": "https://localhost:8080/",
          "height": 197
        }
      },
      "source": [
        "tweet_df = load_data()\n",
        "tweet_df.head()"
      ],
      "execution_count": null,
      "outputs": [
        {
          "output_type": "execute_result",
          "data": {
            "text/html": [
              "<div>\n",
              "<style scoped>\n",
              "    .dataframe tbody tr th:only-of-type {\n",
              "        vertical-align: middle;\n",
              "    }\n",
              "\n",
              "    .dataframe tbody tr th {\n",
              "        vertical-align: top;\n",
              "    }\n",
              "\n",
              "    .dataframe thead th {\n",
              "        text-align: right;\n",
              "    }\n",
              "</style>\n",
              "<table border=\"1\" class=\"dataframe\">\n",
              "  <thead>\n",
              "    <tr style=\"text-align: right;\">\n",
              "      <th></th>\n",
              "      <th>Unnamed: 0</th>\n",
              "      <th>UserName</th>\n",
              "      <th>label</th>\n",
              "      <th>Tweet_stemmed</th>\n",
              "      <th>Tweet_lemmatized</th>\n",
              "    </tr>\n",
              "  </thead>\n",
              "  <tbody>\n",
              "    <tr>\n",
              "      <th>0</th>\n",
              "      <td>0</td>\n",
              "      <td>3799</td>\n",
              "      <td>0.0</td>\n",
              "      <td>['menyrbi', 'philgahan', 'chrisitv', 'httpstco...</td>\n",
              "      <td>['menyrbie', 'philgahan', 'chrisitv', 'httpstc...</td>\n",
              "    </tr>\n",
              "    <tr>\n",
              "      <th>1</th>\n",
              "      <td>1</td>\n",
              "      <td>3800</td>\n",
              "      <td>1.0</td>\n",
              "      <td>['advic', 'talk', 'neighbour', 'famili', 'exch...</td>\n",
              "      <td>['advice', 'talk', 'neighbour', 'family', 'exc...</td>\n",
              "    </tr>\n",
              "    <tr>\n",
              "      <th>2</th>\n",
              "      <td>2</td>\n",
              "      <td>3801</td>\n",
              "      <td>1.0</td>\n",
              "      <td>['coronaviru', 'australia', 'woolworth', 'give...</td>\n",
              "      <td>['coronavirus', 'australia', 'woolworth', 'giv...</td>\n",
              "    </tr>\n",
              "    <tr>\n",
              "      <th>3</th>\n",
              "      <td>3</td>\n",
              "      <td>3802</td>\n",
              "      <td>1.0</td>\n",
              "      <td>['food', 'stock', 'one', 'empti', 'pleas', 'do...</td>\n",
              "      <td>['food', 'stock', 'one', 'empty', 'please', 'd...</td>\n",
              "    </tr>\n",
              "    <tr>\n",
              "      <th>4</th>\n",
              "      <td>4</td>\n",
              "      <td>3803</td>\n",
              "      <td>3.0</td>\n",
              "      <td>['readi', 'go', 'supermarket', 'covid', 'outbr...</td>\n",
              "      <td>['ready', 'go', 'supermarket', 'covid', 'outbr...</td>\n",
              "    </tr>\n",
              "  </tbody>\n",
              "</table>\n",
              "</div>"
            ],
            "text/plain": [
              "   Unnamed: 0  ...                                   Tweet_lemmatized\n",
              "0           0  ...  ['menyrbie', 'philgahan', 'chrisitv', 'httpstc...\n",
              "1           1  ...  ['advice', 'talk', 'neighbour', 'family', 'exc...\n",
              "2           2  ...  ['coronavirus', 'australia', 'woolworth', 'giv...\n",
              "3           3  ...  ['food', 'stock', 'one', 'empty', 'please', 'd...\n",
              "4           4  ...  ['ready', 'go', 'supermarket', 'covid', 'outbr...\n",
              "\n",
              "[5 rows x 5 columns]"
            ]
          },
          "metadata": {
            "tags": []
          },
          "execution_count": 5
        }
      ]
    },
    {
      "cell_type": "code",
      "metadata": {
        "id": "ZjAhZ2zZZFiV"
      },
      "source": [
        "tweet_df.drop('Unnamed: 0',inplace=True,axis = 1)"
      ],
      "execution_count": null,
      "outputs": []
    },
    {
      "cell_type": "code",
      "metadata": {
        "id": "6mAfwsBaZYY3",
        "outputId": "083e23b4-e876-42ba-ebc7-52e2447b7225",
        "colab": {
          "base_uri": "https://localhost:8080/",
          "height": 347
        }
      },
      "source": [
        "tweet_df.head(10)"
      ],
      "execution_count": null,
      "outputs": [
        {
          "output_type": "execute_result",
          "data": {
            "text/html": [
              "<div>\n",
              "<style scoped>\n",
              "    .dataframe tbody tr th:only-of-type {\n",
              "        vertical-align: middle;\n",
              "    }\n",
              "\n",
              "    .dataframe tbody tr th {\n",
              "        vertical-align: top;\n",
              "    }\n",
              "\n",
              "    .dataframe thead th {\n",
              "        text-align: right;\n",
              "    }\n",
              "</style>\n",
              "<table border=\"1\" class=\"dataframe\">\n",
              "  <thead>\n",
              "    <tr style=\"text-align: right;\">\n",
              "      <th></th>\n",
              "      <th>UserName</th>\n",
              "      <th>label</th>\n",
              "      <th>Tweet_stemmed</th>\n",
              "      <th>Tweet_lemmatized</th>\n",
              "    </tr>\n",
              "  </thead>\n",
              "  <tbody>\n",
              "    <tr>\n",
              "      <th>0</th>\n",
              "      <td>3799</td>\n",
              "      <td>0.0</td>\n",
              "      <td>['menyrbi', 'philgahan', 'chrisitv', 'httpstco...</td>\n",
              "      <td>['menyrbie', 'philgahan', 'chrisitv', 'httpstc...</td>\n",
              "    </tr>\n",
              "    <tr>\n",
              "      <th>1</th>\n",
              "      <td>3800</td>\n",
              "      <td>1.0</td>\n",
              "      <td>['advic', 'talk', 'neighbour', 'famili', 'exch...</td>\n",
              "      <td>['advice', 'talk', 'neighbour', 'family', 'exc...</td>\n",
              "    </tr>\n",
              "    <tr>\n",
              "      <th>2</th>\n",
              "      <td>3801</td>\n",
              "      <td>1.0</td>\n",
              "      <td>['coronaviru', 'australia', 'woolworth', 'give...</td>\n",
              "      <td>['coronavirus', 'australia', 'woolworth', 'giv...</td>\n",
              "    </tr>\n",
              "    <tr>\n",
              "      <th>3</th>\n",
              "      <td>3802</td>\n",
              "      <td>1.0</td>\n",
              "      <td>['food', 'stock', 'one', 'empti', 'pleas', 'do...</td>\n",
              "      <td>['food', 'stock', 'one', 'empty', 'please', 'd...</td>\n",
              "    </tr>\n",
              "    <tr>\n",
              "      <th>4</th>\n",
              "      <td>3803</td>\n",
              "      <td>3.0</td>\n",
              "      <td>['readi', 'go', 'supermarket', 'covid', 'outbr...</td>\n",
              "      <td>['ready', 'go', 'supermarket', 'covid', 'outbr...</td>\n",
              "    </tr>\n",
              "    <tr>\n",
              "      <th>5</th>\n",
              "      <td>3804</td>\n",
              "      <td>1.0</td>\n",
              "      <td>['news', 'region', 'first', 'confirm', 'covid'...</td>\n",
              "      <td>['news', 'region', 'first', 'confirmed', 'covi...</td>\n",
              "    </tr>\n",
              "    <tr>\n",
              "      <th>6</th>\n",
              "      <td>3805</td>\n",
              "      <td>1.0</td>\n",
              "      <td>['cashier', 'groceri', 'store', 'share', 'insi...</td>\n",
              "      <td>['cashier', 'grocery', 'store', 'sharing', 'in...</td>\n",
              "    </tr>\n",
              "    <tr>\n",
              "      <th>7</th>\n",
              "      <td>3806</td>\n",
              "      <td>0.0</td>\n",
              "      <td>['supermarket', 'today', 'didnt', 'buy', 'toil...</td>\n",
              "      <td>['supermarket', 'today', 'didnt', 'buy', 'toil...</td>\n",
              "    </tr>\n",
              "    <tr>\n",
              "      <th>8</th>\n",
              "      <td>3807</td>\n",
              "      <td>1.0</td>\n",
              "      <td>['due', 'covid', 'retail', 'store', 'classroom...</td>\n",
              "      <td>['due', 'covid', 'retail', 'store', 'classroom...</td>\n",
              "    </tr>\n",
              "    <tr>\n",
              "      <th>9</th>\n",
              "      <td>3809</td>\n",
              "      <td>0.0</td>\n",
              "      <td>['month', 'hasnt', 'crowd', 'supermarket', 're...</td>\n",
              "      <td>['month', 'hasnt', 'crowding', 'supermarket', ...</td>\n",
              "    </tr>\n",
              "  </tbody>\n",
              "</table>\n",
              "</div>"
            ],
            "text/plain": [
              "   UserName  ...                                   Tweet_lemmatized\n",
              "0      3799  ...  ['menyrbie', 'philgahan', 'chrisitv', 'httpstc...\n",
              "1      3800  ...  ['advice', 'talk', 'neighbour', 'family', 'exc...\n",
              "2      3801  ...  ['coronavirus', 'australia', 'woolworth', 'giv...\n",
              "3      3802  ...  ['food', 'stock', 'one', 'empty', 'please', 'd...\n",
              "4      3803  ...  ['ready', 'go', 'supermarket', 'covid', 'outbr...\n",
              "5      3804  ...  ['news', 'region', 'first', 'confirmed', 'covi...\n",
              "6      3805  ...  ['cashier', 'grocery', 'store', 'sharing', 'in...\n",
              "7      3806  ...  ['supermarket', 'today', 'didnt', 'buy', 'toil...\n",
              "8      3807  ...  ['due', 'covid', 'retail', 'store', 'classroom...\n",
              "9      3809  ...  ['month', 'hasnt', 'crowding', 'supermarket', ...\n",
              "\n",
              "[10 rows x 4 columns]"
            ]
          },
          "metadata": {
            "tags": []
          },
          "execution_count": 7
        }
      ]
    },
    {
      "cell_type": "code",
      "metadata": {
        "id": "83zZdZLkZb9M",
        "outputId": "976301a2-2fdc-482a-9c1b-c8f70ff32407",
        "colab": {
          "base_uri": "https://localhost:8080/",
          "height": 105
        }
      },
      "source": [
        "tweet_df.isnull().sum()"
      ],
      "execution_count": null,
      "outputs": [
        {
          "output_type": "execute_result",
          "data": {
            "text/plain": [
              "UserName            0\n",
              "label               0\n",
              "Tweet_stemmed       0\n",
              "Tweet_lemmatized    0\n",
              "dtype: int64"
            ]
          },
          "metadata": {
            "tags": []
          },
          "execution_count": 8
        }
      ]
    },
    {
      "cell_type": "code",
      "metadata": {
        "id": "BaQZjeM3ZhAE",
        "outputId": "74690b25-14cb-4adb-9601-b275274c83bd",
        "colab": {
          "base_uri": "https://localhost:8080/",
          "height": 406
        }
      },
      "source": [
        "messages= tweet_df.copy()\n",
        "messages.reset_index()"
      ],
      "execution_count": null,
      "outputs": [
        {
          "output_type": "execute_result",
          "data": {
            "text/html": [
              "<div>\n",
              "<style scoped>\n",
              "    .dataframe tbody tr th:only-of-type {\n",
              "        vertical-align: middle;\n",
              "    }\n",
              "\n",
              "    .dataframe tbody tr th {\n",
              "        vertical-align: top;\n",
              "    }\n",
              "\n",
              "    .dataframe thead th {\n",
              "        text-align: right;\n",
              "    }\n",
              "</style>\n",
              "<table border=\"1\" class=\"dataframe\">\n",
              "  <thead>\n",
              "    <tr style=\"text-align: right;\">\n",
              "      <th></th>\n",
              "      <th>index</th>\n",
              "      <th>UserName</th>\n",
              "      <th>label</th>\n",
              "      <th>Tweet_stemmed</th>\n",
              "      <th>Tweet_lemmatized</th>\n",
              "    </tr>\n",
              "  </thead>\n",
              "  <tbody>\n",
              "    <tr>\n",
              "      <th>0</th>\n",
              "      <td>0</td>\n",
              "      <td>3799</td>\n",
              "      <td>0.0</td>\n",
              "      <td>['menyrbi', 'philgahan', 'chrisitv', 'httpstco...</td>\n",
              "      <td>['menyrbie', 'philgahan', 'chrisitv', 'httpstc...</td>\n",
              "    </tr>\n",
              "    <tr>\n",
              "      <th>1</th>\n",
              "      <td>1</td>\n",
              "      <td>3800</td>\n",
              "      <td>1.0</td>\n",
              "      <td>['advic', 'talk', 'neighbour', 'famili', 'exch...</td>\n",
              "      <td>['advice', 'talk', 'neighbour', 'family', 'exc...</td>\n",
              "    </tr>\n",
              "    <tr>\n",
              "      <th>2</th>\n",
              "      <td>2</td>\n",
              "      <td>3801</td>\n",
              "      <td>1.0</td>\n",
              "      <td>['coronaviru', 'australia', 'woolworth', 'give...</td>\n",
              "      <td>['coronavirus', 'australia', 'woolworth', 'giv...</td>\n",
              "    </tr>\n",
              "    <tr>\n",
              "      <th>3</th>\n",
              "      <td>3</td>\n",
              "      <td>3802</td>\n",
              "      <td>1.0</td>\n",
              "      <td>['food', 'stock', 'one', 'empti', 'pleas', 'do...</td>\n",
              "      <td>['food', 'stock', 'one', 'empty', 'please', 'd...</td>\n",
              "    </tr>\n",
              "    <tr>\n",
              "      <th>4</th>\n",
              "      <td>4</td>\n",
              "      <td>3803</td>\n",
              "      <td>3.0</td>\n",
              "      <td>['readi', 'go', 'supermarket', 'covid', 'outbr...</td>\n",
              "      <td>['ready', 'go', 'supermarket', 'covid', 'outbr...</td>\n",
              "    </tr>\n",
              "    <tr>\n",
              "      <th>...</th>\n",
              "      <td>...</td>\n",
              "      <td>...</td>\n",
              "      <td>...</td>\n",
              "      <td>...</td>\n",
              "      <td>...</td>\n",
              "    </tr>\n",
              "    <tr>\n",
              "      <th>31231</th>\n",
              "      <td>31231</td>\n",
              "      <td>44950</td>\n",
              "      <td>2.0</td>\n",
              "      <td>['mrsilverscott', 'definit', 'man', 'feel', 'l...</td>\n",
              "      <td>['mrsilverscott', 'definitely', 'man', 'feel',...</td>\n",
              "    </tr>\n",
              "    <tr>\n",
              "      <th>31232</th>\n",
              "      <td>31232</td>\n",
              "      <td>44951</td>\n",
              "      <td>0.0</td>\n",
              "      <td>['airlin', 'pilot', 'offer', 'stock', 'superma...</td>\n",
              "      <td>['airline', 'pilot', 'offering', 'stock', 'sup...</td>\n",
              "    </tr>\n",
              "    <tr>\n",
              "      <th>31233</th>\n",
              "      <td>31233</td>\n",
              "      <td>44952</td>\n",
              "      <td>3.0</td>\n",
              "      <td>['respons', 'complaint', 'provid', 'cite', 'co...</td>\n",
              "      <td>['response', 'complaint', 'provided', 'citing'...</td>\n",
              "    </tr>\n",
              "    <tr>\n",
              "      <th>31234</th>\n",
              "      <td>31234</td>\n",
              "      <td>44953</td>\n",
              "      <td>1.0</td>\n",
              "      <td>['know', 'get', 'tough', 'kameronwild', 'ratio...</td>\n",
              "      <td>['know', 'getting', 'tough', 'kameronwilds', '...</td>\n",
              "    </tr>\n",
              "    <tr>\n",
              "      <th>31235</th>\n",
              "      <td>31235</td>\n",
              "      <td>44954</td>\n",
              "      <td>0.0</td>\n",
              "      <td>['wrong', 'smell', 'hand', 'sanit', 'start', '...</td>\n",
              "      <td>['wrong', 'smell', 'hand', 'sanitizer', 'start...</td>\n",
              "    </tr>\n",
              "  </tbody>\n",
              "</table>\n",
              "<p>31236 rows × 5 columns</p>\n",
              "</div>"
            ],
            "text/plain": [
              "       index  ...                                   Tweet_lemmatized\n",
              "0          0  ...  ['menyrbie', 'philgahan', 'chrisitv', 'httpstc...\n",
              "1          1  ...  ['advice', 'talk', 'neighbour', 'family', 'exc...\n",
              "2          2  ...  ['coronavirus', 'australia', 'woolworth', 'giv...\n",
              "3          3  ...  ['food', 'stock', 'one', 'empty', 'please', 'd...\n",
              "4          4  ...  ['ready', 'go', 'supermarket', 'covid', 'outbr...\n",
              "...      ...  ...                                                ...\n",
              "31231  31231  ...  ['mrsilverscott', 'definitely', 'man', 'feel',...\n",
              "31232  31232  ...  ['airline', 'pilot', 'offering', 'stock', 'sup...\n",
              "31233  31233  ...  ['response', 'complaint', 'provided', 'citing'...\n",
              "31234  31234  ...  ['know', 'getting', 'tough', 'kameronwilds', '...\n",
              "31235  31235  ...  ['wrong', 'smell', 'hand', 'sanitizer', 'start...\n",
              "\n",
              "[31236 rows x 5 columns]"
            ]
          },
          "metadata": {
            "tags": []
          },
          "execution_count": 9
        }
      ]
    },
    {
      "cell_type": "markdown",
      "metadata": {
        "id": "yQNSvKJMZtP9"
      },
      "source": [
        "**No gram approach**"
      ]
    },
    {
      "cell_type": "code",
      "metadata": {
        "id": "l7c1ZpGpZwGc"
      },
      "source": [
        "tfidf_biagram = TfidfVectorizer(sublinear_tf=True,\n",
        "                            analyzer='word',\n",
        "                            lowercase = False,\n",
        "                            ngram_range=(1, 1),\n",
        "                            max_features=27000)"
      ],
      "execution_count": null,
      "outputs": []
    },
    {
      "cell_type": "code",
      "metadata": {
        "id": "A5apUi51Z371",
        "outputId": "44c485fe-6c2d-45cf-944d-3c0b5146fb87",
        "colab": {
          "base_uri": "https://localhost:8080/",
          "height": 52
        }
      },
      "source": [
        "X_biagram = tfidf_biagram.fit_transform(messages['Tweet_lemmatized'])\n",
        "X_biagram"
      ],
      "execution_count": null,
      "outputs": [
        {
          "output_type": "execute_result",
          "data": {
            "text/plain": [
              "<31236x27000 sparse matrix of type '<class 'numpy.float64'>'\n",
              "\twith 509417 stored elements in Compressed Sparse Row format>"
            ]
          },
          "metadata": {
            "tags": []
          },
          "execution_count": 11
        }
      ]
    },
    {
      "cell_type": "code",
      "metadata": {
        "id": "72fmdxd3Z910"
      },
      "source": [
        "Y_biagram = messages['label']"
      ],
      "execution_count": null,
      "outputs": []
    },
    {
      "cell_type": "code",
      "metadata": {
        "id": "wV55fFfzaCNV",
        "outputId": "139d66fa-dac6-4eca-a73b-13c4f5d108cd",
        "colab": {
          "base_uri": "https://localhost:8080/",
          "height": 34
        }
      },
      "source": [
        "Y_biagram.shape,X_biagram.shape"
      ],
      "execution_count": null,
      "outputs": [
        {
          "output_type": "execute_result",
          "data": {
            "text/plain": [
              "((31236,), (31236, 27000))"
            ]
          },
          "metadata": {
            "tags": []
          },
          "execution_count": 13
        }
      ]
    },
    {
      "cell_type": "markdown",
      "metadata": {
        "id": "YiPLWoZZaF4s"
      },
      "source": [
        "**Normalize the data**"
      ]
    },
    {
      "cell_type": "code",
      "metadata": {
        "id": "3tXMyEgdaI_c",
        "outputId": "6069edae-d84a-4f9a-d702-b050031d2589",
        "colab": {
          "base_uri": "https://localhost:8080/",
          "height": 52
        }
      },
      "source": [
        "from sklearn.preprocessing import MaxAbsScaler\n",
        "scaler = MaxAbsScaler()\n",
        "Scall_x= scaler.fit_transform(X_biagram)\n",
        "Scall_x"
      ],
      "execution_count": null,
      "outputs": [
        {
          "output_type": "execute_result",
          "data": {
            "text/plain": [
              "<31236x27000 sparse matrix of type '<class 'numpy.float64'>'\n",
              "\twith 509417 stored elements in Compressed Sparse Row format>"
            ]
          },
          "metadata": {
            "tags": []
          },
          "execution_count": 14
        }
      ]
    },
    {
      "cell_type": "code",
      "metadata": {
        "id": "8EC5vt5iaOaE"
      },
      "source": [
        "smk_biagram = SMOTETomek(random_state=42)\n",
        "X_biagram_v1,Y_biagram_v1=smk_biagram.fit_sample(Scall_x,Y_biagram)"
      ],
      "execution_count": null,
      "outputs": []
    },
    {
      "cell_type": "code",
      "metadata": {
        "id": "0C1j4aauahOk",
        "outputId": "00101756-b125-4095-9db3-09981cf97efa",
        "colab": {
          "base_uri": "https://localhost:8080/",
          "height": 52
        }
      },
      "source": [
        "from collections import Counter\n",
        "print('Original dataset shape {}'.format(Counter(Y_biagram)))\n",
        "print('Resampled dataset shape {}'.format(Counter(Y_biagram_v1)))"
      ],
      "execution_count": null,
      "outputs": [
        {
          "output_type": "stream",
          "text": [
            "Original dataset shape Counter({1.0: 11421, 0.0: 7711, 2.0: 6624, 3.0: 5480})\n",
            "Resampled dataset shape Counter({3.0: 11408, 2.0: 11346, 0.0: 11331, 1.0: 11275})\n"
          ],
          "name": "stdout"
        }
      ]
    },
    {
      "cell_type": "markdown",
      "metadata": {
        "id": "jUudoDdJarDN"
      },
      "source": [
        "**Spliting dataset**"
      ]
    },
    {
      "cell_type": "code",
      "metadata": {
        "id": "ZV4aPWrxauS_"
      },
      "source": [
        "x_train_biagram,x_test_biagram,y_train_biagram,y_test_biagram = train_test_split(X_biagram_v1,Y_biagram_v1,test_size = 0.30, random_state= True)"
      ],
      "execution_count": null,
      "outputs": []
    },
    {
      "cell_type": "markdown",
      "metadata": {
        "id": "nY2_7137ax9f"
      },
      "source": [
        "**Confusion matrix**"
      ]
    },
    {
      "cell_type": "code",
      "metadata": {
        "id": "K_pAutEra1Vl"
      },
      "source": [
        "import matplotlib.pyplot as plt\n",
        "\n",
        "def plot_confusion_matrix(cm, classes,\n",
        "                          normalize=False,\n",
        "                          title='Confusion matrix',\n",
        "                          cmap=plt.cm.Blues):\n",
        "    \"\"\"\n",
        "    See full source and example: \n",
        "    http://scikit-learn.org/stable/auto_examples/model_selection/plot_confusion_matrix.html\n",
        "    \n",
        "    This function prints and plots the confusion matrix.\n",
        "    Normalization can be applied by setting `normalize=True`.\n",
        "    \"\"\"\n",
        "    plt.imshow(cm, interpolation='nearest', cmap=cmap)\n",
        "    plt.title(title)\n",
        "    plt.colorbar()\n",
        "    tick_marks = np.arange(len(classes))\n",
        "    plt.xticks(tick_marks, classes, rotation=45)\n",
        "    plt.yticks(tick_marks, classes)\n",
        "\n",
        "    if normalize:\n",
        "        cm = cm.astype('float') / cm.sum(axis=1)[:, np.newaxis]\n",
        "        print(\"Normalized confusion matrix\")\n",
        "    else:\n",
        "        print('Confusion matrix, without normalization')\n",
        "\n",
        "    thresh = cm.max() / 2.\n",
        "    for i, j in itertools.product(range(cm.shape[0]), range(cm.shape[1])):\n",
        "        plt.text(j, i, cm[i, j],\n",
        "                 horizontalalignment=\"center\",\n",
        "                 color=\"white\" if cm[i, j] > thresh else \"black\")\n",
        "\n",
        "    plt.tight_layout()\n",
        "    plt.ylabel('True label')\n",
        "    plt.xlabel('Predicted label')"
      ],
      "execution_count": null,
      "outputs": []
    },
    {
      "cell_type": "markdown",
      "metadata": {
        "id": "FbO_mLOja97T"
      },
      "source": [
        "**Support Vector Machine**"
      ]
    },
    {
      "cell_type": "code",
      "metadata": {
        "id": "cG1dHNACbBBj",
        "outputId": "ae0f601a-0a78-4b81-c337-ebec03409ecb",
        "colab": {
          "base_uri": "https://localhost:8080/",
          "height": 560
        }
      },
      "source": [
        "# SVM\n",
        "import sklearn.metrics as metrics\n",
        "import itertools\n",
        "svm_class_biagram = svm.SVC(kernel='poly')\n",
        "svm_class_biagram.fit(x_train_biagram,y_train_biagram)\n",
        "y_pred_svm = svm_class_biagram.predict(x_test_biagram)\n",
        "predictions_svm = svm_class_biagram.predict(x_test_biagram)\n",
        "print(\"SVM  Algo\")\n",
        "print(classification_report(y_test_biagram, y_pred_svm))\n",
        "print('Accuracy Score:',accuracy_score(y_test_biagram, predictions_svm))\n",
        "\n",
        "#Confusion matrix\n",
        "cm_svm = metrics.confusion_matrix(y_test_biagram, y_pred_svm)\n",
        "plot_confusion_matrix(cm_svm, classes=['FAKE Data', 'REAL Data'])"
      ],
      "execution_count": null,
      "outputs": [
        {
          "output_type": "stream",
          "text": [
            "SVM  Algo\n",
            "              precision    recall  f1-score   support\n",
            "\n",
            "         0.0       0.38      0.99      0.55      3422\n",
            "         1.0       0.81      0.11      0.20      3397\n",
            "         2.0       0.92      0.53      0.68      3332\n",
            "         3.0       0.99      0.69      0.82      3457\n",
            "\n",
            "    accuracy                           0.58     13608\n",
            "   macro avg       0.78      0.58      0.56     13608\n",
            "weighted avg       0.77      0.58      0.56     13608\n",
            "\n",
            "Accuracy Score: 0.5836272780717225\n",
            "Confusion matrix, without normalization\n"
          ],
          "name": "stdout"
        },
        {
          "output_type": "display_data",
          "data": {
            "image/png": "[encoded data removed]",
            "text/plain": [
              "<Figure size 432x288 with 2 Axes>"
            ]
          },
          "metadata": {
            "tags": [],
            "needs_background": "light"
          }
        }
      ]
    },
    {
      "cell_type": "markdown",
      "metadata": {
        "id": "CkE5ZgxdcNlf"
      },
      "source": [
        "**Decission Tree Classifier**"
      ]
    },
    {
      "cell_type": "code",
      "metadata": {
        "id": "d7h265zdcRym",
        "outputId": "166361a4-64b3-46ec-9530-4300939b5b6c",
        "colab": {
          "base_uri": "https://localhost:8080/",
          "height": 560
        }
      },
      "source": [
        "# Decission Tree Classifier\n",
        "decession_tree_biagram = DecisionTreeClassifier()\n",
        "decession_tree_biagram.fit(x_train_biagram,y_train_biagram)\n",
        "y_pred_decession_tree_biagram = decession_tree_biagram.predict(x_test_biagram)\n",
        "predictions_dt = decession_tree_biagram.predict(x_test_biagram)\n",
        "print(\"Decission Tree Classifier\")\n",
        "print(classification_report(y_test_biagram, y_pred_decession_tree_biagram))\n",
        "print('Accuracy Score:',accuracy_score(y_test_biagram, predictions_dt))\n",
        "\n",
        "#Confusion matrix\n",
        "cm_dtc = metrics.confusion_matrix(y_test_biagram, y_pred_decession_tree_biagram)\n",
        "plot_confusion_matrix(cm_dtc, classes=['FAKE Data', 'REAL Data'])"
      ],
      "execution_count": null,
      "outputs": [
        {
          "output_type": "stream",
          "text": [
            "Decission Tree Classifier\n",
            "              precision    recall  f1-score   support\n",
            "\n",
            "         0.0       0.66      0.73      0.69      3422\n",
            "         1.0       0.51      0.49      0.50      3397\n",
            "         2.0       0.68      0.66      0.67      3332\n",
            "         3.0       0.82      0.78      0.80      3457\n",
            "\n",
            "    accuracy                           0.66     13608\n",
            "   macro avg       0.67      0.66      0.66     13608\n",
            "weighted avg       0.67      0.66      0.66     13608\n",
            "\n",
            "Accuracy Score: 0.6649029982363316\n",
            "Confusion matrix, without normalization\n"
          ],
          "name": "stdout"
        },
        {
          "output_type": "display_data",
          "data": {
            "image/png": "[encoded data removed]",
            "text/plain": [
              "<Figure size 432x288 with 2 Axes>"
            ]
          },
          "metadata": {
            "tags": [],
            "needs_background": "light"
          }
        }
      ]
    },
    {
      "cell_type": "markdown",
      "metadata": {
        "id": "ADiydbDWm1uv"
      },
      "source": [
        "**Random Forest Classifier**"
      ]
    },
    {
      "cell_type": "code",
      "metadata": {
        "id": "2ikkhZSLm6HR",
        "outputId": "10df0702-3521-400c-9d0a-a094a7d75a37",
        "colab": {
          "base_uri": "https://localhost:8080/",
          "height": 560
        }
      },
      "source": [
        "\n",
        "# Random Forest  Classifier\n",
        "random_forest_biagram = RandomForestClassifier()\n",
        "random_forest_biagram.fit(x_train_biagram,y_train_biagram)\n",
        "y_pred_random_forest_biagram = random_forest_biagram.predict(x_test_biagram)\n",
        "\n",
        "predictions_rf = random_forest_biagram.predict(x_test_biagram)\n",
        "print(\"Random Forest  Classifier\")\n",
        "print(classification_report(y_test_biagram, y_pred_random_forest_biagram))\n",
        "print('Accuracy Score:',accuracy_score(y_test_biagram, predictions_rf))\n",
        "\n",
        "#Confusion matrix\n",
        "cm_rf = metrics.confusion_matrix(y_test_biagram, y_pred_random_forest_biagram)\n",
        "plot_confusion_matrix(cm_rf, classes=['FAKE Data', 'REAL Data'])"
      ],
      "execution_count": null,
      "outputs": [
        {
          "output_type": "stream",
          "text": [
            "Random Forest  Classifier\n",
            "              precision    recall  f1-score   support\n",
            "\n",
            "         0.0       0.71      0.89      0.79      3422\n",
            "         1.0       0.65      0.55      0.60      3397\n",
            "         2.0       0.81      0.77      0.79      3332\n",
            "         3.0       0.91      0.87      0.89      3457\n",
            "\n",
            "    accuracy                           0.77     13608\n",
            "   macro avg       0.77      0.77      0.77     13608\n",
            "weighted avg       0.77      0.77      0.77     13608\n",
            "\n",
            "Accuracy Score: 0.7694738389182834\n",
            "Confusion matrix, without normalization\n"
          ],
          "name": "stdout"
        },
        {
          "output_type": "display_data",
          "data": {
            "image/png": "[encoded data removed]",
            "text/plain": [
              "<Figure size 432x288 with 2 Axes>"
            ]
          },
          "metadata": {
            "tags": [],
            "needs_background": "light"
          }
        }
      ]
    },
    {
      "cell_type": "markdown",
      "metadata": {
        "id": "3EXvEa5oqs7N"
      },
      "source": [
        "**KNN**"
      ]
    },
    {
      "cell_type": "code",
      "metadata": {
        "id": "WX7qoFx5qu2z",
        "outputId": "02bad2bc-f078-4d40-a14f-7a9dcc44c6cb",
        "colab": {
          "base_uri": "https://localhost:8080/",
          "height": 560
        }
      },
      "source": [
        "\n",
        "# KNN  Algorithm\n",
        "knn_classifier_biagram = KNeighborsClassifier()\n",
        "knn_classifier_biagram.fit(x_train_biagram,y_train_biagram)\n",
        "y_pred_knn_classifier_bigram = knn_classifier_biagram.predict(x_test_biagram)\n",
        "predictions_knn = knn_classifier_biagram.predict(x_test_biagram)\n",
        "print(\"KNN  Algo\")\n",
        "print(classification_report(y_test_biagram, y_pred_knn_classifier_bigram))\n",
        "print('Accuracy Score:',accuracy_score(y_test_biagram, predictions_knn))\n",
        "\n",
        "#Confusion matrix\n",
        "cm_knn = metrics.confusion_matrix(y_test_biagram, y_pred_knn_classifier_bigram)\n",
        "plot_confusion_matrix(cm_knn, classes=['FAKE Data', 'REAL Data'])"
      ],
      "execution_count": null,
      "outputs": [
        {
          "output_type": "stream",
          "text": [
            "KNN  Algo\n",
            "              precision    recall  f1-score   support\n",
            "\n",
            "         0.0       0.35      0.92      0.51      3422\n",
            "         1.0       0.93      0.02      0.04      3397\n",
            "         2.0       0.61      0.58      0.59      3332\n",
            "         3.0       0.98      0.42      0.58      3457\n",
            "\n",
            "    accuracy                           0.48     13608\n",
            "   macro avg       0.72      0.48      0.43     13608\n",
            "weighted avg       0.72      0.48      0.43     13608\n",
            "\n",
            "Accuracy Score: 0.48324514991181655\n",
            "Confusion matrix, without normalization\n"
          ],
          "name": "stdout"
        },
        {
          "output_type": "display_data",
          "data": {
            "image/png": "[encoded data removed]",
            "text/plain": [
              "<Figure size 432x288 with 2 Axes>"
            ]
          },
          "metadata": {
            "tags": [],
            "needs_background": "light"
          }
        }
      ]
    },
    {
      "cell_type": "markdown",
      "metadata": {
        "id": "pgeVkKH_ruin"
      },
      "source": [
        "**Gradient boosting**"
      ]
    },
    {
      "cell_type": "code",
      "metadata": {
        "id": "FHy5wgPMrxct",
        "outputId": "ee4f7355-e2da-430e-8c08-6fe9f46ce19c",
        "colab": {
          "base_uri": "https://localhost:8080/",
          "height": 560
        }
      },
      "source": [
        "# Gradient bossting\n",
        "gradient_bossting_biagram  = GradientBoostingClassifier(random_state=3)\n",
        "gradient_bossting_biagram.fit(x_train_biagram,y_train_biagram)\n",
        "y_pred_gradientbossting = gradient_bossting_biagram.predict(x_test_biagram)\n",
        "#predictions_gb = gradient_bossting_biagram.predict(x_test_biagram)\n",
        "print(\"GradientBosting  Algo\")\n",
        "print(classification_report(y_test_biagram, y_pred_gradientbossting))\n",
        "print('Accuracy Score:',accuracy_score(y_test_biagram, y_pred_gradientbossting))\n",
        "\n",
        "#Confusion matrix\n",
        "cm_gb = metrics.confusion_matrix(y_test_biagram, y_pred_gradientbossting)\n",
        "plot_confusion_matrix(cm_gb, classes=['FAKE Data', 'REAL Data'])"
      ],
      "execution_count": null,
      "outputs": [
        {
          "output_type": "stream",
          "text": [
            "GradientBosting  Algo\n",
            "              precision    recall  f1-score   support\n",
            "\n",
            "         0.0       0.61      0.84      0.70      3422\n",
            "         1.0       0.53      0.46      0.49      3397\n",
            "         2.0       0.75      0.67      0.71      3332\n",
            "         3.0       0.87      0.76      0.81      3457\n",
            "\n",
            "    accuracy                           0.68     13608\n",
            "   macro avg       0.69      0.68      0.68     13608\n",
            "weighted avg       0.69      0.68      0.68     13608\n",
            "\n",
            "Accuracy Score: 0.6815843621399177\n",
            "Confusion matrix, without normalization\n"
          ],
          "name": "stdout"
        },
        {
          "output_type": "display_data",
          "data": {
            "image/png": "[encoded data removed]",
            "text/plain": [
              "<Figure size 432x288 with 2 Axes>"
            ]
          },
          "metadata": {
            "tags": [],
            "needs_background": "light"
          }
        }
      ]
    },
    {
      "cell_type": "markdown",
      "metadata": {
        "id": "WAkiL9vd_pm2"
      },
      "source": [
        "**Multinomial Naive Bayes**"
      ]
    },
    {
      "cell_type": "code",
      "metadata": {
        "id": "sysTcoYX_rmP",
        "outputId": "94ccc01e-2a3a-4163-98ca-f3723069f6a3",
        "colab": {
          "base_uri": "https://localhost:8080/",
          "height": 560
        }
      },
      "source": [
        "# Multinomial Naive Bias\n",
        "mulNB_biagram  = MultinomialNB()\n",
        "mulNB_biagram.fit(x_train_biagram,y_train_biagram)\n",
        "y_pred_mulNB_biagram = mulNB_biagram.predict(x_test_biagram)\n",
        "predictions_mnb = mulNB_biagram.predict(x_test_biagram)\n",
        "print(\"Multinomial Naive Bias\")\n",
        "print(classification_report(y_test_biagram, y_pred_mulNB_biagram))\n",
        "print('Accuracy Score:',accuracy_score(y_test_biagram, predictions_mnb))\n",
        "\n",
        "#Confusion matrix\n",
        "cm_mnb = metrics.confusion_matrix(y_test_biagram, y_pred_mulNB_biagram)\n",
        "plot_confusion_matrix(cm_mnb, classes=['FAKE Data', 'REAL Data'])"
      ],
      "execution_count": null,
      "outputs": [
        {
          "output_type": "stream",
          "text": [
            "Multinomial Naive Bias\n",
            "              precision    recall  f1-score   support\n",
            "\n",
            "         0.0       0.80      0.62      0.70      3422\n",
            "         1.0       0.53      0.50      0.51      3397\n",
            "         2.0       0.66      0.78      0.71      3332\n",
            "         3.0       0.81      0.91      0.86      3457\n",
            "\n",
            "    accuracy                           0.70     13608\n",
            "   macro avg       0.70      0.70      0.70     13608\n",
            "weighted avg       0.70      0.70      0.70     13608\n",
            "\n",
            "Accuracy Score: 0.7006172839506173\n",
            "Confusion matrix, without normalization\n"
          ],
          "name": "stdout"
        },
        {
          "output_type": "display_data",
          "data": {
            "image/png": "[encoded data removed]",
            "text/plain": [
              "<Figure size 432x288 with 2 Axes>"
            ]
          },
          "metadata": {
            "tags": [],
            "needs_background": "light"
          }
        }
      ]
    },
    {
      "cell_type": "markdown",
      "metadata": {
        "id": "AfiDrOzl_3TJ"
      },
      "source": [
        "**Logistic Regression**"
      ]
    },
    {
      "cell_type": "code",
      "metadata": {
        "id": "SkGIeHOT_6nS",
        "outputId": "6aad0dd2-67ff-4002-e4ef-ee69fc4e7012",
        "colab": {
          "base_uri": "https://localhost:8080/",
          "height": 560
        }
      },
      "source": [
        "# Logistic Regression\n",
        "logis_reg_bia =LogisticRegression()\n",
        "logis_reg_bia.fit(x_train_biagram,y_train_biagram)\n",
        "y_pred_log = logis_reg_bia.predict(x_test_biagram)\n",
        "predictions_lr = logis_reg_bia.predict(x_test_biagram)\n",
        "print(\"Logistic Reg  Algo\")\n",
        "print(classification_report(y_test_biagram, y_pred_log))\n",
        "print('Accuracy Score:',accuracy_score(y_test_biagram, predictions_lr))\n",
        "\n",
        "#Confusion matrix\n",
        "cm_lr = metrics.confusion_matrix(y_test_biagram, y_pred_log)\n",
        "plot_confusion_matrix(cm_lr, classes=['FAKE Data', 'REAL Data'])"
      ],
      "execution_count": null,
      "outputs": [
        {
          "output_type": "stream",
          "text": [
            "Logistic Reg  Algo\n",
            "              precision    recall  f1-score   support\n",
            "\n",
            "         0.0       0.76      0.87      0.81      3422\n",
            "         1.0       0.66      0.57      0.61      3397\n",
            "         2.0       0.77      0.77      0.77      3332\n",
            "         3.0       0.94      0.91      0.92      3457\n",
            "\n",
            "    accuracy                           0.78     13608\n",
            "   macro avg       0.78      0.78      0.78     13608\n",
            "weighted avg       0.78      0.78      0.78     13608\n",
            "\n",
            "Accuracy Score: 0.7829218106995884\n",
            "Confusion matrix, without normalization\n"
          ],
          "name": "stdout"
        },
        {
          "output_type": "display_data",
          "data": {
            "image/png": "[encoded data removed]",
            "text/plain": [
              "<Figure size 432x288 with 2 Axes>"
            ]
          },
          "metadata": {
            "tags": [],
            "needs_background": "light"
          }
        }
      ]
    },
    {
      "cell_type": "markdown",
      "metadata": {
        "id": "3NkNe8RHAEW8"
      },
      "source": [
        "**Passive Aggressive Classifier Algorithm**"
      ]
    },
    {
      "cell_type": "code",
      "metadata": {
        "id": "aYmRsk4VAH-F",
        "outputId": "e9f64bc0-c00c-43ec-9e9d-eb49d0c75edd",
        "colab": {
          "base_uri": "https://localhost:8080/",
          "height": 346
        }
      },
      "source": [
        "from sklearn.linear_model import PassiveAggressiveClassifier\n",
        "from sklearn.metrics import confusion_matrix,accuracy_score\n",
        "import matplotlib.pyplot as plt \n",
        "from sklearn import metrics\n",
        "import numpy as np\n",
        "import itertools\n",
        "linear_clf = PassiveAggressiveClassifier(max_iter=1000, random_state=0,tol=1e-3)\n",
        "linear_clf.fit(x_train_biagram, y_train_biagram)\n",
        "pred = linear_clf.predict(x_test_biagram)\n",
        "score = metrics.accuracy_score(y_test_biagram, pred)\n",
        "print(\"accuracy:   %0.3f\" % score)\n",
        "cm = metrics.confusion_matrix(y_test_biagram, pred)\n",
        "plot_confusion_matrix(cm, classes=['FAKE Data', 'REAL Data'])\n"
      ],
      "execution_count": null,
      "outputs": [
        {
          "output_type": "stream",
          "text": [
            "accuracy:   0.746\n",
            "Confusion matrix, without normalization\n"
          ],
          "name": "stdout"
        },
        {
          "output_type": "display_data",
          "data": {
            "image/png": "[encoded data removed]",
            "text/plain": [
              "<Figure size 432x288 with 2 Axes>"
            ]
          },
          "metadata": {
            "tags": [],
            "needs_background": "light"
          }
        }
      ]
    },
    {
      "cell_type": "markdown",
      "metadata": {
        "id": "y4vWuXrCAWg_"
      },
      "source": [
        "**Multinomial Classifier with Hyperparameter**"
      ]
    },
    {
      "cell_type": "code",
      "metadata": {
        "id": "253tVHt4AYvu",
        "outputId": "3a3641d4-c861-4541-ca6d-a77b6378c706",
        "colab": {
          "base_uri": "https://localhost:8080/",
          "height": 194
        }
      },
      "source": [
        "classifier=MultinomialNB(alpha=0.1)\n",
        "previous_score=0\n",
        "for alpha in np.arange(0,1,0.1):\n",
        "    sub_classifier=MultinomialNB(alpha=alpha)\n",
        "    sub_classifier.fit(x_train_biagram,y_train_biagram)\n",
        "    y_pred=sub_classifier.predict(x_test_biagram)\n",
        "    score = metrics.accuracy_score(y_test_biagram, y_pred)\n",
        "    if score>previous_score:\n",
        "        classifier=sub_classifier\n",
        "    print(\"Alpha: {}, Score : {}\".format(alpha,score))"
      ],
      "execution_count": null,
      "outputs": [
        {
          "output_type": "stream",
          "text": [
            "Alpha: 0.0, Score : 0.6832745443856555\n",
            "Alpha: 0.1, Score : 0.6993680188124632\n",
            "Alpha: 0.2, Score : 0.7003233392122281\n",
            "Alpha: 0.30000000000000004, Score : 0.7031893004115226\n",
            "Alpha: 0.4, Score : 0.7035567313345091\n",
            "Alpha: 0.5, Score : 0.7031893004115226\n",
            "Alpha: 0.6000000000000001, Score : 0.7026014109347443\n",
            "Alpha: 0.7000000000000001, Score : 0.7015726043503822\n",
            "Alpha: 0.8, Score : 0.7016460905349794\n",
            "Alpha: 0.9, Score : 0.7013521457965902\n"
          ],
          "name": "stdout"
        }
      ]
    },
    {
      "cell_type": "markdown",
      "metadata": {
        "id": "PbGr_4CxnOa2"
      },
      "source": [
        "**Hyperparameters tune**"
      ]
    },
    {
      "cell_type": "code",
      "metadata": {
        "id": "KirEYDmqnXV4"
      },
      "source": [
        "# from sklearn.naive_bayes import GaussianNB\n",
        "# from sklearn.model_selection import GridSearchCV\n",
        "\n",
        "# model_params = {\n",
        "#     'svm': {\n",
        "#         'model': svm.SVC(gamma='auto'),\n",
        "#         'params' : {\n",
        "#             'C': [1,10,20],\n",
        "#             'kernel': ['rbf','linear']\n",
        "#         }  \n",
        "#     },\n",
        "#     'random_forest': {\n",
        "#         'model': RandomForestClassifier(),\n",
        "#         'params' : {\n",
        "#             'n_estimators': [1,5,10]\n",
        "#         }\n",
        "#     },\n",
        "#     'logistic_regression' : {\n",
        "#         'model': LogisticRegression(solver='liblinear',multi_class='auto'),\n",
        "#         'params': {\n",
        "#             'C': [1,5,10]\n",
        "#         }\n",
        "#     },\n",
        "#     'naive_bayes_gaussian': {\n",
        "#         'model': GaussianNB(),\n",
        "#         'params': {}\n",
        "#     },\n",
        "#     'naive_bayes_multinomial': {\n",
        "#         'model': MultinomialNB(),\n",
        "#         'params': {}\n",
        "#     },\n",
        "#     'decision_tree': {\n",
        "#         'model': DecisionTreeClassifier(),\n",
        "#         'params': {\n",
        "#             'criterion': ['gini','entropy'],\n",
        "            \n",
        "#         }\n",
        "#     }     \n",
        "# }"
      ],
      "execution_count": null,
      "outputs": []
    },
    {
      "cell_type": "code",
      "metadata": {
        "id": "eszissBtCAFX"
      },
      "source": [
        "# scores = []\n",
        "\n",
        "# for model_name, mp in model_params.items():\n",
        "#     clf =  GridSearchCV(mp['model'], mp['params'], cv=5, return_train_score=False)\n",
        "#     clf.fit(x_train_biagram, y_train_biagram)\n",
        "#     scores.append({\n",
        "#         'model': model_name,\n",
        "#         'best_score': clf.best_score_,\n",
        "#         'best_params': clf.best_params_\n",
        "#     })\n",
        "    \n",
        "# df = pd.DataFrame(scores,columns=['model','best_score','best_params'])\n",
        "# df"
      ],
      "execution_count": null,
      "outputs": []
    },
    {
      "cell_type": "markdown",
      "metadata": {
        "id": "CDrRxUYdCodY"
      },
      "source": [
        "**Adaptive boosting on Best algorithm**"
      ]
    },
    {
      "cell_type": "code",
      "metadata": {
        "id": "WsaL_o4jCuKU",
        "outputId": "1032287e-41a6-464b-d069-d5d4aab527cc",
        "colab": {
          "base_uri": "https://localhost:8080/",
          "height": 247
        }
      },
      "source": [
        "from sklearn import metrics\n",
        "from sklearn.ensemble import AdaBoostClassifier\n",
        "logis_reg_bia_ada=LogisticRegression()\n",
        "\n",
        "# Create adaboost classifer object\n",
        "abcSV =AdaBoostClassifier(n_estimators=100, base_estimator=logis_reg_bia_ada,learning_rate=5)\n",
        "modelSVC = abcSV.fit(x_train_biagram, y_train_biagram)\n",
        "predictionsSVM = modelSVC.predict(x_test_biagram)\n",
        "\n",
        "print('Classification Report:\\n',classification_report(y_test_biagram, predictionsSVM))\n",
        "print('Accuracy Score:',accuracy_score(y_test_biagram, predictionsSVM))"
      ],
      "execution_count": 33,
      "outputs": [
        {
          "output_type": "stream",
          "text": [
            "Classification Report:\n",
            "               precision    recall  f1-score   support\n",
            "\n",
            "         0.0       0.00      0.00      0.00      3422\n",
            "         1.0       0.25      1.00      0.40      3397\n",
            "         2.0       0.00      0.00      0.00      3332\n",
            "         3.0       0.00      0.00      0.00      3457\n",
            "\n",
            "    accuracy                           0.25     13608\n",
            "   macro avg       0.06      0.25      0.10     13608\n",
            "weighted avg       0.06      0.25      0.10     13608\n",
            "\n",
            "Accuracy Score: 0.24963256907701353\n"
          ],
          "name": "stdout"
        }
      ]
    },
    {
      "cell_type": "markdown",
      "metadata": {
        "id": "7HON70c1JBwY"
      },
      "source": [
        "**Cross validiation on Logistic Regression**"
      ]
    },
    {
      "cell_type": "code",
      "metadata": {
        "id": "7m2p0mDFJHSB",
        "outputId": "54f4a0e2-2e1b-49a2-a43d-504b5eb3ca2a",
        "colab": {
          "base_uri": "https://localhost:8080/",
          "height": 70
        }
      },
      "source": [
        "from sklearn.model_selection import cross_validate\n",
        "cv_lr= cross_validate(logis_reg_bia, x_train_biagram, y_train_biagram, cv=10)\n",
        "print(cv_lr['test_score'])\n",
        "print(cv_lr['test_score'].mean())"
      ],
      "execution_count": 36,
      "outputs": [
        {
          "output_type": "stream",
          "text": [
            "[0.76826196 0.77676322 0.77700787 0.77669291 0.76598425 0.76535433\n",
            " 0.76661417 0.77165354 0.7615748  0.77417323]\n",
            "0.7704080307027114\n"
          ],
          "name": "stdout"
        }
      ]
    },
    {
      "cell_type": "code",
      "metadata": {
        "id": "th_zyQ1cK_K6",
        "outputId": "f69e12e3-2cc6-4dba-ea7c-7a63c1c3adde",
        "colab": {
          "base_uri": "https://localhost:8080/",
          "height": 347
        }
      },
      "source": [
        "model_score= pd.DataFrame(cv_lr)\n",
        "model_score"
      ],
      "execution_count": 38,
      "outputs": [
        {
          "output_type": "execute_result",
          "data": {
            "text/html": [
              "<div>\n",
              "<style scoped>\n",
              "    .dataframe tbody tr th:only-of-type {\n",
              "        vertical-align: middle;\n",
              "    }\n",
              "\n",
              "    .dataframe tbody tr th {\n",
              "        vertical-align: top;\n",
              "    }\n",
              "\n",
              "    .dataframe thead th {\n",
              "        text-align: right;\n",
              "    }\n",
              "</style>\n",
              "<table border=\"1\" class=\"dataframe\">\n",
              "  <thead>\n",
              "    <tr style=\"text-align: right;\">\n",
              "      <th></th>\n",
              "      <th>fit_time</th>\n",
              "      <th>score_time</th>\n",
              "      <th>test_score</th>\n",
              "    </tr>\n",
              "  </thead>\n",
              "  <tbody>\n",
              "    <tr>\n",
              "      <th>0</th>\n",
              "      <td>4.785725</td>\n",
              "      <td>0.002520</td>\n",
              "      <td>0.768262</td>\n",
              "    </tr>\n",
              "    <tr>\n",
              "      <th>1</th>\n",
              "      <td>4.815030</td>\n",
              "      <td>0.002570</td>\n",
              "      <td>0.776763</td>\n",
              "    </tr>\n",
              "    <tr>\n",
              "      <th>2</th>\n",
              "      <td>4.838032</td>\n",
              "      <td>0.002586</td>\n",
              "      <td>0.777008</td>\n",
              "    </tr>\n",
              "    <tr>\n",
              "      <th>3</th>\n",
              "      <td>4.906658</td>\n",
              "      <td>0.002508</td>\n",
              "      <td>0.776693</td>\n",
              "    </tr>\n",
              "    <tr>\n",
              "      <th>4</th>\n",
              "      <td>4.877633</td>\n",
              "      <td>0.002520</td>\n",
              "      <td>0.765984</td>\n",
              "    </tr>\n",
              "    <tr>\n",
              "      <th>5</th>\n",
              "      <td>4.919498</td>\n",
              "      <td>0.002551</td>\n",
              "      <td>0.765354</td>\n",
              "    </tr>\n",
              "    <tr>\n",
              "      <th>6</th>\n",
              "      <td>4.920919</td>\n",
              "      <td>0.002544</td>\n",
              "      <td>0.766614</td>\n",
              "    </tr>\n",
              "    <tr>\n",
              "      <th>7</th>\n",
              "      <td>4.922561</td>\n",
              "      <td>0.002506</td>\n",
              "      <td>0.771654</td>\n",
              "    </tr>\n",
              "    <tr>\n",
              "      <th>8</th>\n",
              "      <td>5.107489</td>\n",
              "      <td>0.003124</td>\n",
              "      <td>0.761575</td>\n",
              "    </tr>\n",
              "    <tr>\n",
              "      <th>9</th>\n",
              "      <td>4.973290</td>\n",
              "      <td>0.002601</td>\n",
              "      <td>0.774173</td>\n",
              "    </tr>\n",
              "  </tbody>\n",
              "</table>\n",
              "</div>"
            ],
            "text/plain": [
              "   fit_time  score_time  test_score\n",
              "0  4.785725    0.002520    0.768262\n",
              "1  4.815030    0.002570    0.776763\n",
              "2  4.838032    0.002586    0.777008\n",
              "3  4.906658    0.002508    0.776693\n",
              "4  4.877633    0.002520    0.765984\n",
              "5  4.919498    0.002551    0.765354\n",
              "6  4.920919    0.002544    0.766614\n",
              "7  4.922561    0.002506    0.771654\n",
              "8  5.107489    0.003124    0.761575\n",
              "9  4.973290    0.002601    0.774173"
            ]
          },
          "metadata": {
            "tags": []
          },
          "execution_count": 38
        }
      ]
    },
    {
      "cell_type": "code",
      "metadata": {
        "id": "rtw6-ygdLEY9"
      },
      "source": [
        "ax= model_score.plot.line()"
      ],
      "execution_count": null,
      "outputs": []
    },
    {
      "cell_type": "markdown",
      "metadata": {
        "id": "ry9c2tuoRD8W"
      },
      "source": [
        "**ROC-AUC CURVE**"
      ]
    },
    {
      "cell_type": "code",
      "metadata": {
        "id": "5TMZlkPTRJOl"
      },
      "source": [
        "from sklearn.metrics import roc_auc_score\n",
        "from sklearn.metrics import roc_curve"
      ],
      "execution_count": 39,
      "outputs": []
    }
  ]
}