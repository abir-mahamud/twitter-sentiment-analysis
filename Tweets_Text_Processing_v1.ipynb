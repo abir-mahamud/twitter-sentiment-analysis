{
  "nbformat": 4,
  "nbformat_minor": 0,
  "metadata": {
    "colab": {
      "name": "Tweets_Text_Processing.ipynb",
      "provenance": []
    },
    "kernelspec": {
      "name": "python3",
      "display_name": "Python 3"
    }
  },
  "cells": [
    {
      "cell_type": "code",
      "metadata": {
        "id": "WcivyYk-SZUa",
        "outputId": "8784810a-b9ac-4ba0-9308-6f463189e2dc",
        "colab": {
          "base_uri": "https://localhost:8080/",
          "height": 34
        }
      },
      "source": [
        "from google.colab import drive\n",
        "drive.mount('/gdrive', force_remount=True)\n"
      ],
      "execution_count": 1,
      "outputs": [
        {
          "output_type": "stream",
          "text": [
            "Mounted at /gdrive\n"
          ],
          "name": "stdout"
        }
      ]
    },
    {
      "cell_type": "markdown",
      "metadata": {
        "id": "8Mtx4d_JEG77"
      },
      "source": [
        "**Import essential library**"
      ]
    },
    {
      "cell_type": "code",
      "metadata": {
        "id": "3RLxP5AZEMBi"
      },
      "source": [
        "import pandas as pd\n",
        "import numpy as np\n",
        "import seaborn as sns\n",
        "import matplotlib.pyplot as plt\n",
        "from sklearn.feature_extraction.text import CountVectorizer\n",
        "import nltk \n",
        "import string\n",
        "import re\n",
        "%matplotlib inline\n",
        "pd.set_option('display.max_colwidth', 100)"
      ],
      "execution_count": 1,
      "outputs": []
    },
    {
      "cell_type": "markdown",
      "metadata": {
        "id": "nQ9alIMjDjQv"
      },
      "source": [
        "**Load dataset**"
      ]
    },
    {
      "cell_type": "code",
      "metadata": {
        "id": "xwczKrqNDSPf"
      },
      "source": [
        "# Load dataset\n",
        "def load_data():\n",
        "    data =pd.read_csv(\"/content/drive/My Drive/Colab Notebooks/Data/Corona_NLP_train.csv\", engine='python')\n",
        "    return data"
      ],
      "execution_count": 2,
      "outputs": []
    },
    {
      "cell_type": "code",
      "metadata": {
        "id": "_oEH_suHDfVJ",
        "outputId": "ed8a922d-5bf8-4465-99f0-381c31780826",
        "colab": {
          "base_uri": "https://localhost:8080/",
          "height": 197
        }
      },
      "source": [
        "tweet_df = load_data()\n",
        "tweet_df.head()"
      ],
      "execution_count": 3,
      "outputs": [
        {
          "output_type": "execute_result",
          "data": {
            "text/html": [
              "<div>\n",
              "<style scoped>\n",
              "    .dataframe tbody tr th:only-of-type {\n",
              "        vertical-align: middle;\n",
              "    }\n",
              "\n",
              "    .dataframe tbody tr th {\n",
              "        vertical-align: top;\n",
              "    }\n",
              "\n",
              "    .dataframe thead th {\n",
              "        text-align: right;\n",
              "    }\n",
              "</style>\n",
              "<table border=\"1\" class=\"dataframe\">\n",
              "  <thead>\n",
              "    <tr style=\"text-align: right;\">\n",
              "      <th></th>\n",
              "      <th>UserName</th>\n",
              "      <th>ScreenName</th>\n",
              "      <th>Location</th>\n",
              "      <th>TweetAt</th>\n",
              "      <th>OriginalTweet</th>\n",
              "      <th>Sentiment</th>\n",
              "    </tr>\n",
              "  </thead>\n",
              "  <tbody>\n",
              "    <tr>\n",
              "      <th>0</th>\n",
              "      <td>3799</td>\n",
              "      <td>48751</td>\n",
              "      <td>London</td>\n",
              "      <td>16-03-2020</td>\n",
              "      <td>@MeNyrbie @Phil_Gahan @Chrisitv https://t.co/iFz9FAn2Pa and https://t.co/xX6ghGFzCC and https://...</td>\n",
              "      <td>Neutral</td>\n",
              "    </tr>\n",
              "    <tr>\n",
              "      <th>1</th>\n",
              "      <td>3800</td>\n",
              "      <td>48752</td>\n",
              "      <td>UK</td>\n",
              "      <td>16-03-2020</td>\n",
              "      <td>advice Talk to your neighbours family to exchange phone numbers create contact list with phone n...</td>\n",
              "      <td>Positive</td>\n",
              "    </tr>\n",
              "    <tr>\n",
              "      <th>2</th>\n",
              "      <td>3801</td>\n",
              "      <td>48753</td>\n",
              "      <td>Vagabonds</td>\n",
              "      <td>16-03-2020</td>\n",
              "      <td>Coronavirus Australia: Woolworths to give elderly, disabled dedicated shopping hours amid COVID-...</td>\n",
              "      <td>Positive</td>\n",
              "    </tr>\n",
              "    <tr>\n",
              "      <th>3</th>\n",
              "      <td>3802</td>\n",
              "      <td>48754</td>\n",
              "      <td>NaN</td>\n",
              "      <td>16-03-2020</td>\n",
              "      <td>My food stock is not the only one which is empty...\\r\\r\\n\\r\\r\\nPLEASE, don't panic, THERE WILL B...</td>\n",
              "      <td>Positive</td>\n",
              "    </tr>\n",
              "    <tr>\n",
              "      <th>4</th>\n",
              "      <td>3803</td>\n",
              "      <td>48755</td>\n",
              "      <td>NaN</td>\n",
              "      <td>16-03-2020</td>\n",
              "      <td>Me, ready to go at supermarket during the #COVID19 outbreak.\\r\\r\\n\\r\\r\\nNot because I'm paranoid...</td>\n",
              "      <td>Extremely Negative</td>\n",
              "    </tr>\n",
              "  </tbody>\n",
              "</table>\n",
              "</div>"
            ],
            "text/plain": [
              "   UserName  ...           Sentiment\n",
              "0      3799  ...             Neutral\n",
              "1      3800  ...            Positive\n",
              "2      3801  ...            Positive\n",
              "3      3802  ...            Positive\n",
              "4      3803  ...  Extremely Negative\n",
              "\n",
              "[5 rows x 6 columns]"
            ]
          },
          "metadata": {
            "tags": []
          },
          "execution_count": 3
        }
      ]
    },
    {
      "cell_type": "code",
      "metadata": {
        "id": "9X5NT4zfDyOO",
        "outputId": "c57eee15-8be5-4bb5-a2c6-8c6c5a79cdb2",
        "colab": {
          "base_uri": "https://localhost:8080/",
          "height": 87
        }
      },
      "source": [
        "print('Dataset size:',tweet_df.shape)\n",
        "print('Columns are:',tweet_df.columns)"
      ],
      "execution_count": 4,
      "outputs": [
        {
          "output_type": "stream",
          "text": [
            "Dataset size: (41157, 6)\n",
            "Columns are: Index(['UserName', 'ScreenName', 'Location', 'TweetAt', 'OriginalTweet',\n",
            "       'Sentiment'],\n",
            "      dtype='object')\n"
          ],
          "name": "stdout"
        }
      ]
    },
    {
      "cell_type": "code",
      "metadata": {
        "id": "I53QS7zrD2ne",
        "outputId": "fba445bd-6573-4aaa-edc2-2495cbc12d52",
        "colab": {
          "base_uri": "https://localhost:8080/",
          "height": 247
        }
      },
      "source": [
        "tweet_df.info()"
      ],
      "execution_count": 5,
      "outputs": [
        {
          "output_type": "stream",
          "text": [
            "<class 'pandas.core.frame.DataFrame'>\n",
            "RangeIndex: 41157 entries, 0 to 41156\n",
            "Data columns (total 6 columns):\n",
            " #   Column         Non-Null Count  Dtype \n",
            "---  ------         --------------  ----- \n",
            " 0   UserName       41157 non-null  int64 \n",
            " 1   ScreenName     41157 non-null  int64 \n",
            " 2   Location       32567 non-null  object\n",
            " 3   TweetAt        41157 non-null  object\n",
            " 4   OriginalTweet  41157 non-null  object\n",
            " 5   Sentiment      41157 non-null  object\n",
            "dtypes: int64(2), object(4)\n",
            "memory usage: 1.9+ MB\n"
          ],
          "name": "stdout"
        }
      ]
    },
    {
      "cell_type": "code",
      "metadata": {
        "id": "-xMmOBN9D5Pd",
        "outputId": "77299f4a-ace9-4b31-ae6a-1c46ee77e0eb",
        "colab": {
          "base_uri": "https://localhost:8080/",
          "height": 296
        }
      },
      "source": [
        "sns.countplot(x = 'Sentiment', data = tweet_df)"
      ],
      "execution_count": 6,
      "outputs": [
        {
          "output_type": "execute_result",
          "data": {
            "text/plain": [
              "<matplotlib.axes._subplots.AxesSubplot at 0x7fb3a7fb0a58>"
            ]
          },
          "metadata": {
            "tags": []
          },
          "execution_count": 6
        },
        {
          "output_type": "display_data",
          "data": {
            "image/png": "[encoded data removed]",
            "text/plain": [
              "<Figure size 432x288 with 1 Axes>"
            ]
          },
          "metadata": {
            "tags": [],
            "needs_background": "light"
          }
        }
      ]
    },
    {
      "cell_type": "markdown",
      "metadata": {
        "id": "ovwI-HpWChCl"
      },
      "source": [
        "**Tweets Text Preprocessing**"
      ]
    },
    {
      "cell_type": "code",
      "metadata": {
        "id": "JqiOgYY9Lb26"
      },
      "source": [
        "d = {'Neutral': 0, 'Positive': 1, 'Extremely Positive': 2,'Extremely Negative': 3}\n",
        "tweet_df['label'] = tweet_df['Sentiment'].map(d)\n"
      ],
      "execution_count": 7,
      "outputs": []
    },
    {
      "cell_type": "code",
      "metadata": {
        "id": "KQZZx2RxNxR1",
        "outputId": "c9ac2e0b-89ac-4af4-89f1-b8c7fca6537b",
        "colab": {
          "base_uri": "https://localhost:8080/",
          "height": 197
        }
      },
      "source": [
        "tweet_df.head(5)"
      ],
      "execution_count": 8,
      "outputs": [
        {
          "output_type": "execute_result",
          "data": {
            "text/html": [
              "<div>\n",
              "<style scoped>\n",
              "    .dataframe tbody tr th:only-of-type {\n",
              "        vertical-align: middle;\n",
              "    }\n",
              "\n",
              "    .dataframe tbody tr th {\n",
              "        vertical-align: top;\n",
              "    }\n",
              "\n",
              "    .dataframe thead th {\n",
              "        text-align: right;\n",
              "    }\n",
              "</style>\n",
              "<table border=\"1\" class=\"dataframe\">\n",
              "  <thead>\n",
              "    <tr style=\"text-align: right;\">\n",
              "      <th></th>\n",
              "      <th>UserName</th>\n",
              "      <th>ScreenName</th>\n",
              "      <th>Location</th>\n",
              "      <th>TweetAt</th>\n",
              "      <th>OriginalTweet</th>\n",
              "      <th>Sentiment</th>\n",
              "      <th>label</th>\n",
              "    </tr>\n",
              "  </thead>\n",
              "  <tbody>\n",
              "    <tr>\n",
              "      <th>0</th>\n",
              "      <td>3799</td>\n",
              "      <td>48751</td>\n",
              "      <td>London</td>\n",
              "      <td>16-03-2020</td>\n",
              "      <td>@MeNyrbie @Phil_Gahan @Chrisitv https://t.co/iFz9FAn2Pa and https://t.co/xX6ghGFzCC and https://...</td>\n",
              "      <td>Neutral</td>\n",
              "      <td>0.0</td>\n",
              "    </tr>\n",
              "    <tr>\n",
              "      <th>1</th>\n",
              "      <td>3800</td>\n",
              "      <td>48752</td>\n",
              "      <td>UK</td>\n",
              "      <td>16-03-2020</td>\n",
              "      <td>advice Talk to your neighbours family to exchange phone numbers create contact list with phone n...</td>\n",
              "      <td>Positive</td>\n",
              "      <td>1.0</td>\n",
              "    </tr>\n",
              "    <tr>\n",
              "      <th>2</th>\n",
              "      <td>3801</td>\n",
              "      <td>48753</td>\n",
              "      <td>Vagabonds</td>\n",
              "      <td>16-03-2020</td>\n",
              "      <td>Coronavirus Australia: Woolworths to give elderly, disabled dedicated shopping hours amid COVID-...</td>\n",
              "      <td>Positive</td>\n",
              "      <td>1.0</td>\n",
              "    </tr>\n",
              "    <tr>\n",
              "      <th>3</th>\n",
              "      <td>3802</td>\n",
              "      <td>48754</td>\n",
              "      <td>NaN</td>\n",
              "      <td>16-03-2020</td>\n",
              "      <td>My food stock is not the only one which is empty...\\r\\r\\n\\r\\r\\nPLEASE, don't panic, THERE WILL B...</td>\n",
              "      <td>Positive</td>\n",
              "      <td>1.0</td>\n",
              "    </tr>\n",
              "    <tr>\n",
              "      <th>4</th>\n",
              "      <td>3803</td>\n",
              "      <td>48755</td>\n",
              "      <td>NaN</td>\n",
              "      <td>16-03-2020</td>\n",
              "      <td>Me, ready to go at supermarket during the #COVID19 outbreak.\\r\\r\\n\\r\\r\\nNot because I'm paranoid...</td>\n",
              "      <td>Extremely Negative</td>\n",
              "      <td>3.0</td>\n",
              "    </tr>\n",
              "  </tbody>\n",
              "</table>\n",
              "</div>"
            ],
            "text/plain": [
              "   UserName  ScreenName  ...           Sentiment label\n",
              "0      3799       48751  ...             Neutral   0.0\n",
              "1      3800       48752  ...            Positive   1.0\n",
              "2      3801       48753  ...            Positive   1.0\n",
              "3      3802       48754  ...            Positive   1.0\n",
              "4      3803       48755  ...  Extremely Negative   3.0\n",
              "\n",
              "[5 rows x 7 columns]"
            ]
          },
          "metadata": {
            "tags": []
          },
          "execution_count": 8
        }
      ]
    },
    {
      "cell_type": "code",
      "metadata": {
        "id": "vIpZX-8oS66d",
        "outputId": "214b097d-9150-4e7c-9de9-d45fcf05d5c5",
        "colab": {
          "base_uri": "https://localhost:8080/",
          "height": 105
        }
      },
      "source": [
        "class_count = tweet_df['label'].value_counts()\n",
        "class_count"
      ],
      "execution_count": 10,
      "outputs": [
        {
          "output_type": "execute_result",
          "data": {
            "text/plain": [
              "1.0    11422\n",
              "0.0     7713\n",
              "2.0     6624\n",
              "3.0     5481\n",
              "Name: label, dtype: int64"
            ]
          },
          "metadata": {
            "tags": []
          },
          "execution_count": 10
        }
      ]
    },
    {
      "cell_type": "code",
      "metadata": {
        "id": "AxdSwBaMTTDF",
        "outputId": "3de738ff-d99f-4533-89fa-69afa0ebc70b",
        "colab": {
          "base_uri": "https://localhost:8080/",
          "height": 352
        }
      },
      "source": [
        "import warnings\n",
        "warnings.simplefilter(\"ignore\")\n",
        "x = np.array(class_count.index)\n",
        "y = np.array(class_count.values)\n",
        "plt.figure(figsize=(8,5))\n",
        "sns.barplot(x,y)\n",
        "plt.xlabel('Sentiment ')\n",
        "plt.ylabel('Number of reviews ')"
      ],
      "execution_count": 11,
      "outputs": [
        {
          "output_type": "execute_result",
          "data": {
            "text/plain": [
              "Text(0, 0.5, 'Number of reviews ')"
            ]
          },
          "metadata": {
            "tags": []
          },
          "execution_count": 11
        },
        {
          "output_type": "display_data",
          "data": {
            "image/png": "[encoded data removed]",
            "text/plain": [
              "<Figure size 576x360 with 1 Axes>"
            ]
          },
          "metadata": {
            "tags": [],
            "needs_background": "light"
          }
        }
      ]
    },
    {
      "cell_type": "markdown",
      "metadata": {
        "id": "sbXKiccO23T1"
      },
      "source": [
        "**Text Processing**"
      ]
    },
    {
      "cell_type": "markdown",
      "metadata": {
        "id": "T-bfb3et3SUI"
      },
      "source": [
        "*   Remove punctuations\n",
        "*   Tokenization - Converting a sentence into list of words\n",
        "*   Remove stopwords\n",
        "*   Lammetization/stemming - Tranforming any form of a word to its root word"
      ]
    },
    {
      "cell_type": "markdown",
      "metadata": {
        "id": "RsS8ykYW3zxJ"
      },
      "source": [
        "**Remove punctuations**"
      ]
    },
    {
      "cell_type": "code",
      "metadata": {
        "id": "fiImNAWs3qlk",
        "outputId": "9957d8b2-ec4d-46e1-8f2b-f5894583703e",
        "colab": {
          "base_uri": "https://localhost:8080/",
          "height": 35
        }
      },
      "source": [
        "string.punctuation"
      ],
      "execution_count": 14,
      "outputs": [
        {
          "output_type": "execute_result",
          "data": {
            "application/vnd.google.colaboratory.intrinsic+json": {
              "type": "string"
            },
            "text/plain": [
              "'!\"#$%&\\'()*+,-./:;<=>?@[\\\\]^_`{|}~'"
            ]
          },
          "metadata": {
            "tags": []
          },
          "execution_count": 14
        }
      ]
    },
    {
      "cell_type": "code",
      "metadata": {
        "id": "lKmF_8ZZ26bt",
        "outputId": "7df3fc52-1a0d-4c9c-fa30-1220789e5a68",
        "colab": {
          "base_uri": "https://localhost:8080/",
          "height": 514
        }
      },
      "source": [
        "def remove_punct(text):\n",
        "    text  = \"\".join([char for char in text if char not in string.punctuation])\n",
        "    text = re.sub('[0-9]+', '', text)\n",
        "    return text\n",
        "\n",
        "tweet_df['Tweet_punct'] = tweet_df['OriginalTweet'].apply(lambda x: remove_punct(x))\n",
        "tweet_df.head(10)"
      ],
      "execution_count": 13,
      "outputs": [
        {
          "output_type": "execute_result",
          "data": {
            "text/html": [
              "<div>\n",
              "<style scoped>\n",
              "    .dataframe tbody tr th:only-of-type {\n",
              "        vertical-align: middle;\n",
              "    }\n",
              "\n",
              "    .dataframe tbody tr th {\n",
              "        vertical-align: top;\n",
              "    }\n",
              "\n",
              "    .dataframe thead th {\n",
              "        text-align: right;\n",
              "    }\n",
              "</style>\n",
              "<table border=\"1\" class=\"dataframe\">\n",
              "  <thead>\n",
              "    <tr style=\"text-align: right;\">\n",
              "      <th></th>\n",
              "      <th>UserName</th>\n",
              "      <th>ScreenName</th>\n",
              "      <th>Location</th>\n",
              "      <th>TweetAt</th>\n",
              "      <th>OriginalTweet</th>\n",
              "      <th>Sentiment</th>\n",
              "      <th>label</th>\n",
              "      <th>Tweet_punct</th>\n",
              "    </tr>\n",
              "  </thead>\n",
              "  <tbody>\n",
              "    <tr>\n",
              "      <th>0</th>\n",
              "      <td>3799</td>\n",
              "      <td>48751</td>\n",
              "      <td>London</td>\n",
              "      <td>16-03-2020</td>\n",
              "      <td>@MeNyrbie @Phil_Gahan @Chrisitv https://t.co/iFz9FAn2Pa and https://t.co/xX6ghGFzCC and https://...</td>\n",
              "      <td>Neutral</td>\n",
              "      <td>0.0</td>\n",
              "      <td>MeNyrbie PhilGahan Chrisitv httpstcoiFzFAnPa and httpstcoxXghGFzCC and httpstcoINlzdxNo</td>\n",
              "    </tr>\n",
              "    <tr>\n",
              "      <th>1</th>\n",
              "      <td>3800</td>\n",
              "      <td>48752</td>\n",
              "      <td>UK</td>\n",
              "      <td>16-03-2020</td>\n",
              "      <td>advice Talk to your neighbours family to exchange phone numbers create contact list with phone n...</td>\n",
              "      <td>Positive</td>\n",
              "      <td>1.0</td>\n",
              "      <td>advice Talk to your neighbours family to exchange phone numbers create contact list with phone n...</td>\n",
              "    </tr>\n",
              "    <tr>\n",
              "      <th>2</th>\n",
              "      <td>3801</td>\n",
              "      <td>48753</td>\n",
              "      <td>Vagabonds</td>\n",
              "      <td>16-03-2020</td>\n",
              "      <td>Coronavirus Australia: Woolworths to give elderly, disabled dedicated shopping hours amid COVID-...</td>\n",
              "      <td>Positive</td>\n",
              "      <td>1.0</td>\n",
              "      <td>Coronavirus Australia Woolworths to give elderly disabled dedicated shopping hours amid COVID ou...</td>\n",
              "    </tr>\n",
              "    <tr>\n",
              "      <th>3</th>\n",
              "      <td>3802</td>\n",
              "      <td>48754</td>\n",
              "      <td>NaN</td>\n",
              "      <td>16-03-2020</td>\n",
              "      <td>My food stock is not the only one which is empty...\\r\\r\\n\\r\\r\\nPLEASE, don't panic, THERE WILL B...</td>\n",
              "      <td>Positive</td>\n",
              "      <td>1.0</td>\n",
              "      <td>My food stock is not the only one which is empty\\r\\r\\n\\r\\r\\nPLEASE dont panic THERE WILL BE ENOU...</td>\n",
              "    </tr>\n",
              "    <tr>\n",
              "      <th>4</th>\n",
              "      <td>3803</td>\n",
              "      <td>48755</td>\n",
              "      <td>NaN</td>\n",
              "      <td>16-03-2020</td>\n",
              "      <td>Me, ready to go at supermarket during the #COVID19 outbreak.\\r\\r\\n\\r\\r\\nNot because I'm paranoid...</td>\n",
              "      <td>Extremely Negative</td>\n",
              "      <td>3.0</td>\n",
              "      <td>Me ready to go at supermarket during the COVID outbreak\\r\\r\\n\\r\\r\\nNot because Im paranoid but b...</td>\n",
              "    </tr>\n",
              "    <tr>\n",
              "      <th>5</th>\n",
              "      <td>3804</td>\n",
              "      <td>48756</td>\n",
              "      <td>ÜT: 36.319708,-82.363649</td>\n",
              "      <td>16-03-2020</td>\n",
              "      <td>As news of the regions first confirmed COVID-19 case came out of Sullivan County last week, peo...</td>\n",
              "      <td>Positive</td>\n",
              "      <td>1.0</td>\n",
              "      <td>As news of the regions first confirmed COVID case came out of Sullivan County last week people ...</td>\n",
              "    </tr>\n",
              "    <tr>\n",
              "      <th>6</th>\n",
              "      <td>3805</td>\n",
              "      <td>48757</td>\n",
              "      <td>35.926541,-78.753267</td>\n",
              "      <td>16-03-2020</td>\n",
              "      <td>Cashier at grocery store was sharing his insights on #Covid_19 To prove his credibility he comme...</td>\n",
              "      <td>Positive</td>\n",
              "      <td>1.0</td>\n",
              "      <td>Cashier at grocery store was sharing his insights on Covid To prove his credibility he commented...</td>\n",
              "    </tr>\n",
              "    <tr>\n",
              "      <th>7</th>\n",
              "      <td>3806</td>\n",
              "      <td>48758</td>\n",
              "      <td>Austria</td>\n",
              "      <td>16-03-2020</td>\n",
              "      <td>Was at the supermarket today. Didn't buy toilet paper. #Rebel\\r\\r\\n\\r\\r\\n#toiletpapercrisis #cov...</td>\n",
              "      <td>Neutral</td>\n",
              "      <td>0.0</td>\n",
              "      <td>Was at the supermarket today Didnt buy toilet paper Rebel\\r\\r\\n\\r\\r\\ntoiletpapercrisis covid htt...</td>\n",
              "    </tr>\n",
              "    <tr>\n",
              "      <th>8</th>\n",
              "      <td>3807</td>\n",
              "      <td>48759</td>\n",
              "      <td>Atlanta, GA USA</td>\n",
              "      <td>16-03-2020</td>\n",
              "      <td>Due to COVID-19 our retail store and classroom in Atlanta will not be open for walk-in business ...</td>\n",
              "      <td>Positive</td>\n",
              "      <td>1.0</td>\n",
              "      <td>Due to COVID our retail store and classroom in Atlanta will not be open for walkin business or c...</td>\n",
              "    </tr>\n",
              "    <tr>\n",
              "      <th>9</th>\n",
              "      <td>3808</td>\n",
              "      <td>48760</td>\n",
              "      <td>BHAVNAGAR,GUJRAT</td>\n",
              "      <td>16-03-2020</td>\n",
              "      <td>For corona prevention,we should stop to buy things with the cash and should use online payment m...</td>\n",
              "      <td>Negative</td>\n",
              "      <td>NaN</td>\n",
              "      <td>For corona preventionwe should stop to buy things with the cash and should use online payment me...</td>\n",
              "    </tr>\n",
              "  </tbody>\n",
              "</table>\n",
              "</div>"
            ],
            "text/plain": [
              "   UserName  ...                                                                                          Tweet_punct\n",
              "0      3799  ...              MeNyrbie PhilGahan Chrisitv httpstcoiFzFAnPa and httpstcoxXghGFzCC and httpstcoINlzdxNo\n",
              "1      3800  ...  advice Talk to your neighbours family to exchange phone numbers create contact list with phone n...\n",
              "2      3801  ...  Coronavirus Australia Woolworths to give elderly disabled dedicated shopping hours amid COVID ou...\n",
              "3      3802  ...  My food stock is not the only one which is empty\\r\\r\\n\\r\\r\\nPLEASE dont panic THERE WILL BE ENOU...\n",
              "4      3803  ...  Me ready to go at supermarket during the COVID outbreak\\r\\r\\n\\r\\r\\nNot because Im paranoid but b...\n",
              "5      3804  ...  As news of the regions first confirmed COVID case came out of Sullivan County last week people ...\n",
              "6      3805  ...  Cashier at grocery store was sharing his insights on Covid To prove his credibility he commented...\n",
              "7      3806  ...  Was at the supermarket today Didnt buy toilet paper Rebel\\r\\r\\n\\r\\r\\ntoiletpapercrisis covid htt...\n",
              "8      3807  ...  Due to COVID our retail store and classroom in Atlanta will not be open for walkin business or c...\n",
              "9      3808  ...  For corona preventionwe should stop to buy things with the cash and should use online payment me...\n",
              "\n",
              "[10 rows x 8 columns]"
            ]
          },
          "metadata": {
            "tags": []
          },
          "execution_count": 13
        }
      ]
    },
    {
      "cell_type": "markdown",
      "metadata": {
        "id": "6gNzRgwb33jo"
      },
      "source": [
        "**Tokenization**"
      ]
    },
    {
      "cell_type": "code",
      "metadata": {
        "id": "RwiIz5xD37X9",
        "outputId": "cc9b554b-060d-482c-e5e4-d5a007ce30f4",
        "colab": {
          "base_uri": "https://localhost:8080/",
          "height": 697
        }
      },
      "source": [
        "def tokenization(text):\n",
        "    text = re.split('\\W+', text)\n",
        "    return text\n",
        "\n",
        "tweet_df['Tweet_tokenized'] = tweet_df['Tweet_punct'].apply(lambda x: tokenization(x.lower()))\n",
        "tweet_df.head(10)"
      ],
      "execution_count": 15,
      "outputs": [
        {
          "output_type": "execute_result",
          "data": {
            "text/html": [
              "<div>\n",
              "<style scoped>\n",
              "    .dataframe tbody tr th:only-of-type {\n",
              "        vertical-align: middle;\n",
              "    }\n",
              "\n",
              "    .dataframe tbody tr th {\n",
              "        vertical-align: top;\n",
              "    }\n",
              "\n",
              "    .dataframe thead th {\n",
              "        text-align: right;\n",
              "    }\n",
              "</style>\n",
              "<table border=\"1\" class=\"dataframe\">\n",
              "  <thead>\n",
              "    <tr style=\"text-align: right;\">\n",
              "      <th></th>\n",
              "      <th>UserName</th>\n",
              "      <th>ScreenName</th>\n",
              "      <th>Location</th>\n",
              "      <th>TweetAt</th>\n",
              "      <th>OriginalTweet</th>\n",
              "      <th>Sentiment</th>\n",
              "      <th>label</th>\n",
              "      <th>Tweet_punct</th>\n",
              "      <th>Tweet_tokenized</th>\n",
              "    </tr>\n",
              "  </thead>\n",
              "  <tbody>\n",
              "    <tr>\n",
              "      <th>0</th>\n",
              "      <td>3799</td>\n",
              "      <td>48751</td>\n",
              "      <td>London</td>\n",
              "      <td>16-03-2020</td>\n",
              "      <td>@MeNyrbie @Phil_Gahan @Chrisitv https://t.co/iFz9FAn2Pa and https://t.co/xX6ghGFzCC and https://...</td>\n",
              "      <td>Neutral</td>\n",
              "      <td>0.0</td>\n",
              "      <td>MeNyrbie PhilGahan Chrisitv httpstcoiFzFAnPa and httpstcoxXghGFzCC and httpstcoINlzdxNo</td>\n",
              "      <td>[menyrbie, philgahan, chrisitv, httpstcoifzfanpa, and, httpstcoxxghgfzcc, and, httpstcoinlzdxno]</td>\n",
              "    </tr>\n",
              "    <tr>\n",
              "      <th>1</th>\n",
              "      <td>3800</td>\n",
              "      <td>48752</td>\n",
              "      <td>UK</td>\n",
              "      <td>16-03-2020</td>\n",
              "      <td>advice Talk to your neighbours family to exchange phone numbers create contact list with phone n...</td>\n",
              "      <td>Positive</td>\n",
              "      <td>1.0</td>\n",
              "      <td>advice Talk to your neighbours family to exchange phone numbers create contact list with phone n...</td>\n",
              "      <td>[advice, talk, to, your, neighbours, family, to, exchange, phone, numbers, create, contact, list...</td>\n",
              "    </tr>\n",
              "    <tr>\n",
              "      <th>2</th>\n",
              "      <td>3801</td>\n",
              "      <td>48753</td>\n",
              "      <td>Vagabonds</td>\n",
              "      <td>16-03-2020</td>\n",
              "      <td>Coronavirus Australia: Woolworths to give elderly, disabled dedicated shopping hours amid COVID-...</td>\n",
              "      <td>Positive</td>\n",
              "      <td>1.0</td>\n",
              "      <td>Coronavirus Australia Woolworths to give elderly disabled dedicated shopping hours amid COVID ou...</td>\n",
              "      <td>[coronavirus, australia, woolworths, to, give, elderly, disabled, dedicated, shopping, hours, am...</td>\n",
              "    </tr>\n",
              "    <tr>\n",
              "      <th>3</th>\n",
              "      <td>3802</td>\n",
              "      <td>48754</td>\n",
              "      <td>NaN</td>\n",
              "      <td>16-03-2020</td>\n",
              "      <td>My food stock is not the only one which is empty...\\r\\r\\n\\r\\r\\nPLEASE, don't panic, THERE WILL B...</td>\n",
              "      <td>Positive</td>\n",
              "      <td>1.0</td>\n",
              "      <td>My food stock is not the only one which is empty\\r\\r\\n\\r\\r\\nPLEASE dont panic THERE WILL BE ENOU...</td>\n",
              "      <td>[my, food, stock, is, not, the, only, one, which, is, empty, please, dont, panic, there, will, b...</td>\n",
              "    </tr>\n",
              "    <tr>\n",
              "      <th>4</th>\n",
              "      <td>3803</td>\n",
              "      <td>48755</td>\n",
              "      <td>NaN</td>\n",
              "      <td>16-03-2020</td>\n",
              "      <td>Me, ready to go at supermarket during the #COVID19 outbreak.\\r\\r\\n\\r\\r\\nNot because I'm paranoid...</td>\n",
              "      <td>Extremely Negative</td>\n",
              "      <td>3.0</td>\n",
              "      <td>Me ready to go at supermarket during the COVID outbreak\\r\\r\\n\\r\\r\\nNot because Im paranoid but b...</td>\n",
              "      <td>[me, ready, to, go, at, supermarket, during, the, covid, outbreak, not, because, im, paranoid, b...</td>\n",
              "    </tr>\n",
              "    <tr>\n",
              "      <th>5</th>\n",
              "      <td>3804</td>\n",
              "      <td>48756</td>\n",
              "      <td>ÜT: 36.319708,-82.363649</td>\n",
              "      <td>16-03-2020</td>\n",
              "      <td>As news of the regions first confirmed COVID-19 case came out of Sullivan County last week, peo...</td>\n",
              "      <td>Positive</td>\n",
              "      <td>1.0</td>\n",
              "      <td>As news of the regions first confirmed COVID case came out of Sullivan County last week people ...</td>\n",
              "      <td>[as, news, of, the, region, s, first, confirmed, covid, case, came, out, of, sullivan, county, l...</td>\n",
              "    </tr>\n",
              "    <tr>\n",
              "      <th>6</th>\n",
              "      <td>3805</td>\n",
              "      <td>48757</td>\n",
              "      <td>35.926541,-78.753267</td>\n",
              "      <td>16-03-2020</td>\n",
              "      <td>Cashier at grocery store was sharing his insights on #Covid_19 To prove his credibility he comme...</td>\n",
              "      <td>Positive</td>\n",
              "      <td>1.0</td>\n",
              "      <td>Cashier at grocery store was sharing his insights on Covid To prove his credibility he commented...</td>\n",
              "      <td>[cashier, at, grocery, store, was, sharing, his, insights, on, covid, to, prove, his, credibilit...</td>\n",
              "    </tr>\n",
              "    <tr>\n",
              "      <th>7</th>\n",
              "      <td>3806</td>\n",
              "      <td>48758</td>\n",
              "      <td>Austria</td>\n",
              "      <td>16-03-2020</td>\n",
              "      <td>Was at the supermarket today. Didn't buy toilet paper. #Rebel\\r\\r\\n\\r\\r\\n#toiletpapercrisis #cov...</td>\n",
              "      <td>Neutral</td>\n",
              "      <td>0.0</td>\n",
              "      <td>Was at the supermarket today Didnt buy toilet paper Rebel\\r\\r\\n\\r\\r\\ntoiletpapercrisis covid htt...</td>\n",
              "      <td>[was, at, the, supermarket, today, didnt, buy, toilet, paper, rebel, toiletpapercrisis, covid, h...</td>\n",
              "    </tr>\n",
              "    <tr>\n",
              "      <th>8</th>\n",
              "      <td>3807</td>\n",
              "      <td>48759</td>\n",
              "      <td>Atlanta, GA USA</td>\n",
              "      <td>16-03-2020</td>\n",
              "      <td>Due to COVID-19 our retail store and classroom in Atlanta will not be open for walk-in business ...</td>\n",
              "      <td>Positive</td>\n",
              "      <td>1.0</td>\n",
              "      <td>Due to COVID our retail store and classroom in Atlanta will not be open for walkin business or c...</td>\n",
              "      <td>[due, to, covid, our, retail, store, and, classroom, in, atlanta, will, not, be, open, for, walk...</td>\n",
              "    </tr>\n",
              "    <tr>\n",
              "      <th>9</th>\n",
              "      <td>3808</td>\n",
              "      <td>48760</td>\n",
              "      <td>BHAVNAGAR,GUJRAT</td>\n",
              "      <td>16-03-2020</td>\n",
              "      <td>For corona prevention,we should stop to buy things with the cash and should use online payment m...</td>\n",
              "      <td>Negative</td>\n",
              "      <td>NaN</td>\n",
              "      <td>For corona preventionwe should stop to buy things with the cash and should use online payment me...</td>\n",
              "      <td>[for, corona, preventionwe, should, stop, to, buy, things, with, the, cash, and, should, use, on...</td>\n",
              "    </tr>\n",
              "  </tbody>\n",
              "</table>\n",
              "</div>"
            ],
            "text/plain": [
              "   UserName  ...                                                                                      Tweet_tokenized\n",
              "0      3799  ...     [menyrbie, philgahan, chrisitv, httpstcoifzfanpa, and, httpstcoxxghgfzcc, and, httpstcoinlzdxno]\n",
              "1      3800  ...  [advice, talk, to, your, neighbours, family, to, exchange, phone, numbers, create, contact, list...\n",
              "2      3801  ...  [coronavirus, australia, woolworths, to, give, elderly, disabled, dedicated, shopping, hours, am...\n",
              "3      3802  ...  [my, food, stock, is, not, the, only, one, which, is, empty, please, dont, panic, there, will, b...\n",
              "4      3803  ...  [me, ready, to, go, at, supermarket, during, the, covid, outbreak, not, because, im, paranoid, b...\n",
              "5      3804  ...  [as, news, of, the, region, s, first, confirmed, covid, case, came, out, of, sullivan, county, l...\n",
              "6      3805  ...  [cashier, at, grocery, store, was, sharing, his, insights, on, covid, to, prove, his, credibilit...\n",
              "7      3806  ...  [was, at, the, supermarket, today, didnt, buy, toilet, paper, rebel, toiletpapercrisis, covid, h...\n",
              "8      3807  ...  [due, to, covid, our, retail, store, and, classroom, in, atlanta, will, not, be, open, for, walk...\n",
              "9      3808  ...  [for, corona, preventionwe, should, stop, to, buy, things, with, the, cash, and, should, use, on...\n",
              "\n",
              "[10 rows x 9 columns]"
            ]
          },
          "metadata": {
            "tags": []
          },
          "execution_count": 15
        }
      ]
    },
    {
      "cell_type": "markdown",
      "metadata": {
        "id": "Qa970GZ14Qz1"
      },
      "source": [
        "**Remove stopwords**"
      ]
    },
    {
      "cell_type": "code",
      "metadata": {
        "id": "TrVWLNUQ4SLG",
        "outputId": "083606ec-8d8f-451b-fdda-39cd148d2e99",
        "colab": {
          "base_uri": "https://localhost:8080/",
          "height": 52
        }
      },
      "source": [
        "import nltk\n",
        "nltk.download('stopwords')\n",
        "stopword = nltk.corpus.stopwords.words('english')"
      ],
      "execution_count": 17,
      "outputs": [
        {
          "output_type": "stream",
          "text": [
            "[nltk_data] Downloading package stopwords to /root/nltk_data...\n",
            "[nltk_data]   Unzipping corpora/stopwords.zip.\n"
          ],
          "name": "stdout"
        }
      ]
    },
    {
      "cell_type": "code",
      "metadata": {
        "id": "ys5LNXjG4b35",
        "outputId": "1d5da54b-34a7-4043-b16c-f3531cb4d68d",
        "colab": {
          "base_uri": "https://localhost:8080/",
          "height": 864
        }
      },
      "source": [
        "def remove_stopwords(text):\n",
        "    text = [word for word in text if word not in stopword]\n",
        "    return text\n",
        "    \n",
        "tweet_df['Tweet_nonstop'] = tweet_df['Tweet_tokenized'].apply(lambda x: remove_stopwords(x))\n",
        "tweet_df.head(10)"
      ],
      "execution_count": 18,
      "outputs": [
        {
          "output_type": "execute_result",
          "data": {
            "text/html": [
              "<div>\n",
              "<style scoped>\n",
              "    .dataframe tbody tr th:only-of-type {\n",
              "        vertical-align: middle;\n",
              "    }\n",
              "\n",
              "    .dataframe tbody tr th {\n",
              "        vertical-align: top;\n",
              "    }\n",
              "\n",
              "    .dataframe thead th {\n",
              "        text-align: right;\n",
              "    }\n",
              "</style>\n",
              "<table border=\"1\" class=\"dataframe\">\n",
              "  <thead>\n",
              "    <tr style=\"text-align: right;\">\n",
              "      <th></th>\n",
              "      <th>UserName</th>\n",
              "      <th>ScreenName</th>\n",
              "      <th>Location</th>\n",
              "      <th>TweetAt</th>\n",
              "      <th>OriginalTweet</th>\n",
              "      <th>Sentiment</th>\n",
              "      <th>label</th>\n",
              "      <th>Tweet_punct</th>\n",
              "      <th>Tweet_tokenized</th>\n",
              "      <th>Tweet_nonstop</th>\n",
              "    </tr>\n",
              "  </thead>\n",
              "  <tbody>\n",
              "    <tr>\n",
              "      <th>0</th>\n",
              "      <td>3799</td>\n",
              "      <td>48751</td>\n",
              "      <td>London</td>\n",
              "      <td>16-03-2020</td>\n",
              "      <td>@MeNyrbie @Phil_Gahan @Chrisitv https://t.co/iFz9FAn2Pa and https://t.co/xX6ghGFzCC and https://...</td>\n",
              "      <td>Neutral</td>\n",
              "      <td>0.0</td>\n",
              "      <td>MeNyrbie PhilGahan Chrisitv httpstcoiFzFAnPa and httpstcoxXghGFzCC and httpstcoINlzdxNo</td>\n",
              "      <td>[menyrbie, philgahan, chrisitv, httpstcoifzfanpa, and, httpstcoxxghgfzcc, and, httpstcoinlzdxno]</td>\n",
              "      <td>[menyrbie, philgahan, chrisitv, httpstcoifzfanpa, httpstcoxxghgfzcc, httpstcoinlzdxno]</td>\n",
              "    </tr>\n",
              "    <tr>\n",
              "      <th>1</th>\n",
              "      <td>3800</td>\n",
              "      <td>48752</td>\n",
              "      <td>UK</td>\n",
              "      <td>16-03-2020</td>\n",
              "      <td>advice Talk to your neighbours family to exchange phone numbers create contact list with phone n...</td>\n",
              "      <td>Positive</td>\n",
              "      <td>1.0</td>\n",
              "      <td>advice Talk to your neighbours family to exchange phone numbers create contact list with phone n...</td>\n",
              "      <td>[advice, talk, to, your, neighbours, family, to, exchange, phone, numbers, create, contact, list...</td>\n",
              "      <td>[advice, talk, neighbours, family, exchange, phone, numbers, create, contact, list, phone, numbe...</td>\n",
              "    </tr>\n",
              "    <tr>\n",
              "      <th>2</th>\n",
              "      <td>3801</td>\n",
              "      <td>48753</td>\n",
              "      <td>Vagabonds</td>\n",
              "      <td>16-03-2020</td>\n",
              "      <td>Coronavirus Australia: Woolworths to give elderly, disabled dedicated shopping hours amid COVID-...</td>\n",
              "      <td>Positive</td>\n",
              "      <td>1.0</td>\n",
              "      <td>Coronavirus Australia Woolworths to give elderly disabled dedicated shopping hours amid COVID ou...</td>\n",
              "      <td>[coronavirus, australia, woolworths, to, give, elderly, disabled, dedicated, shopping, hours, am...</td>\n",
              "      <td>[coronavirus, australia, woolworths, give, elderly, disabled, dedicated, shopping, hours, amid, ...</td>\n",
              "    </tr>\n",
              "    <tr>\n",
              "      <th>3</th>\n",
              "      <td>3802</td>\n",
              "      <td>48754</td>\n",
              "      <td>NaN</td>\n",
              "      <td>16-03-2020</td>\n",
              "      <td>My food stock is not the only one which is empty...\\r\\r\\n\\r\\r\\nPLEASE, don't panic, THERE WILL B...</td>\n",
              "      <td>Positive</td>\n",
              "      <td>1.0</td>\n",
              "      <td>My food stock is not the only one which is empty\\r\\r\\n\\r\\r\\nPLEASE dont panic THERE WILL BE ENOU...</td>\n",
              "      <td>[my, food, stock, is, not, the, only, one, which, is, empty, please, dont, panic, there, will, b...</td>\n",
              "      <td>[food, stock, one, empty, please, dont, panic, enough, food, everyone, take, need, stay, calm, s...</td>\n",
              "    </tr>\n",
              "    <tr>\n",
              "      <th>4</th>\n",
              "      <td>3803</td>\n",
              "      <td>48755</td>\n",
              "      <td>NaN</td>\n",
              "      <td>16-03-2020</td>\n",
              "      <td>Me, ready to go at supermarket during the #COVID19 outbreak.\\r\\r\\n\\r\\r\\nNot because I'm paranoid...</td>\n",
              "      <td>Extremely Negative</td>\n",
              "      <td>3.0</td>\n",
              "      <td>Me ready to go at supermarket during the COVID outbreak\\r\\r\\n\\r\\r\\nNot because Im paranoid but b...</td>\n",
              "      <td>[me, ready, to, go, at, supermarket, during, the, covid, outbreak, not, because, im, paranoid, b...</td>\n",
              "      <td>[ready, go, supermarket, covid, outbreak, im, paranoid, food, stock, litteraly, empty, coronavir...</td>\n",
              "    </tr>\n",
              "    <tr>\n",
              "      <th>5</th>\n",
              "      <td>3804</td>\n",
              "      <td>48756</td>\n",
              "      <td>ÜT: 36.319708,-82.363649</td>\n",
              "      <td>16-03-2020</td>\n",
              "      <td>As news of the regions first confirmed COVID-19 case came out of Sullivan County last week, peo...</td>\n",
              "      <td>Positive</td>\n",
              "      <td>1.0</td>\n",
              "      <td>As news of the regions first confirmed COVID case came out of Sullivan County last week people ...</td>\n",
              "      <td>[as, news, of, the, region, s, first, confirmed, covid, case, came, out, of, sullivan, county, l...</td>\n",
              "      <td>[news, region, first, confirmed, covid, case, came, sullivan, county, last, week, people, flocke...</td>\n",
              "    </tr>\n",
              "    <tr>\n",
              "      <th>6</th>\n",
              "      <td>3805</td>\n",
              "      <td>48757</td>\n",
              "      <td>35.926541,-78.753267</td>\n",
              "      <td>16-03-2020</td>\n",
              "      <td>Cashier at grocery store was sharing his insights on #Covid_19 To prove his credibility he comme...</td>\n",
              "      <td>Positive</td>\n",
              "      <td>1.0</td>\n",
              "      <td>Cashier at grocery store was sharing his insights on Covid To prove his credibility he commented...</td>\n",
              "      <td>[cashier, at, grocery, store, was, sharing, his, insights, on, covid, to, prove, his, credibilit...</td>\n",
              "      <td>[cashier, grocery, store, sharing, insights, covid, prove, credibility, commented, im, civics, c...</td>\n",
              "    </tr>\n",
              "    <tr>\n",
              "      <th>7</th>\n",
              "      <td>3806</td>\n",
              "      <td>48758</td>\n",
              "      <td>Austria</td>\n",
              "      <td>16-03-2020</td>\n",
              "      <td>Was at the supermarket today. Didn't buy toilet paper. #Rebel\\r\\r\\n\\r\\r\\n#toiletpapercrisis #cov...</td>\n",
              "      <td>Neutral</td>\n",
              "      <td>0.0</td>\n",
              "      <td>Was at the supermarket today Didnt buy toilet paper Rebel\\r\\r\\n\\r\\r\\ntoiletpapercrisis covid htt...</td>\n",
              "      <td>[was, at, the, supermarket, today, didnt, buy, toilet, paper, rebel, toiletpapercrisis, covid, h...</td>\n",
              "      <td>[supermarket, today, didnt, buy, toilet, paper, rebel, toiletpapercrisis, covid, httpstcoevxkqli...</td>\n",
              "    </tr>\n",
              "    <tr>\n",
              "      <th>8</th>\n",
              "      <td>3807</td>\n",
              "      <td>48759</td>\n",
              "      <td>Atlanta, GA USA</td>\n",
              "      <td>16-03-2020</td>\n",
              "      <td>Due to COVID-19 our retail store and classroom in Atlanta will not be open for walk-in business ...</td>\n",
              "      <td>Positive</td>\n",
              "      <td>1.0</td>\n",
              "      <td>Due to COVID our retail store and classroom in Atlanta will not be open for walkin business or c...</td>\n",
              "      <td>[due, to, covid, our, retail, store, and, classroom, in, atlanta, will, not, be, open, for, walk...</td>\n",
              "      <td>[due, covid, retail, store, classroom, atlanta, open, walkin, business, classes, next, two, week...</td>\n",
              "    </tr>\n",
              "    <tr>\n",
              "      <th>9</th>\n",
              "      <td>3808</td>\n",
              "      <td>48760</td>\n",
              "      <td>BHAVNAGAR,GUJRAT</td>\n",
              "      <td>16-03-2020</td>\n",
              "      <td>For corona prevention,we should stop to buy things with the cash and should use online payment m...</td>\n",
              "      <td>Negative</td>\n",
              "      <td>NaN</td>\n",
              "      <td>For corona preventionwe should stop to buy things with the cash and should use online payment me...</td>\n",
              "      <td>[for, corona, preventionwe, should, stop, to, buy, things, with, the, cash, and, should, use, on...</td>\n",
              "      <td>[corona, preventionwe, stop, buy, things, cash, use, online, payment, methods, corona, spread, n...</td>\n",
              "    </tr>\n",
              "  </tbody>\n",
              "</table>\n",
              "</div>"
            ],
            "text/plain": [
              "   UserName  ...                                                                                        Tweet_nonstop\n",
              "0      3799  ...               [menyrbie, philgahan, chrisitv, httpstcoifzfanpa, httpstcoxxghgfzcc, httpstcoinlzdxno]\n",
              "1      3800  ...  [advice, talk, neighbours, family, exchange, phone, numbers, create, contact, list, phone, numbe...\n",
              "2      3801  ...  [coronavirus, australia, woolworths, give, elderly, disabled, dedicated, shopping, hours, amid, ...\n",
              "3      3802  ...  [food, stock, one, empty, please, dont, panic, enough, food, everyone, take, need, stay, calm, s...\n",
              "4      3803  ...  [ready, go, supermarket, covid, outbreak, im, paranoid, food, stock, litteraly, empty, coronavir...\n",
              "5      3804  ...  [news, region, first, confirmed, covid, case, came, sullivan, county, last, week, people, flocke...\n",
              "6      3805  ...  [cashier, grocery, store, sharing, insights, covid, prove, credibility, commented, im, civics, c...\n",
              "7      3806  ...  [supermarket, today, didnt, buy, toilet, paper, rebel, toiletpapercrisis, covid, httpstcoevxkqli...\n",
              "8      3807  ...  [due, covid, retail, store, classroom, atlanta, open, walkin, business, classes, next, two, week...\n",
              "9      3808  ...  [corona, preventionwe, stop, buy, things, cash, use, online, payment, methods, corona, spread, n...\n",
              "\n",
              "[10 rows x 10 columns]"
            ]
          },
          "metadata": {
            "tags": []
          },
          "execution_count": 18
        }
      ]
    },
    {
      "cell_type": "markdown",
      "metadata": {
        "id": "rkY-gHHB5AND"
      },
      "source": [
        "**Stemming and Lammitization**"
      ]
    },
    {
      "cell_type": "code",
      "metadata": {
        "id": "eugOXUFm5Bv6",
        "outputId": "fcb8e108-f76c-48a6-ce91-37d053bf1381",
        "colab": {
          "base_uri": "https://localhost:8080/",
          "height": 1000
        }
      },
      "source": [
        "ps = nltk.PorterStemmer()\n",
        "\n",
        "def stemming(text):\n",
        "    text = [ps.stem(word) for word in text]\n",
        "    return text\n",
        "\n",
        "tweet_df['Tweet_stemmed'] = tweet_df['Tweet_nonstop'].apply(lambda x: stemming(x))\n",
        "tweet_df.head(10)"
      ],
      "execution_count": 19,
      "outputs": [
        {
          "output_type": "execute_result",
          "data": {
            "text/html": [
              "<div>\n",
              "<style scoped>\n",
              "    .dataframe tbody tr th:only-of-type {\n",
              "        vertical-align: middle;\n",
              "    }\n",
              "\n",
              "    .dataframe tbody tr th {\n",
              "        vertical-align: top;\n",
              "    }\n",
              "\n",
              "    .dataframe thead th {\n",
              "        text-align: right;\n",
              "    }\n",
              "</style>\n",
              "<table border=\"1\" class=\"dataframe\">\n",
              "  <thead>\n",
              "    <tr style=\"text-align: right;\">\n",
              "      <th></th>\n",
              "      <th>UserName</th>\n",
              "      <th>ScreenName</th>\n",
              "      <th>Location</th>\n",
              "      <th>TweetAt</th>\n",
              "      <th>OriginalTweet</th>\n",
              "      <th>Sentiment</th>\n",
              "      <th>label</th>\n",
              "      <th>Tweet_punct</th>\n",
              "      <th>Tweet_tokenized</th>\n",
              "      <th>Tweet_nonstop</th>\n",
              "      <th>Tweet_stemmed</th>\n",
              "    </tr>\n",
              "  </thead>\n",
              "  <tbody>\n",
              "    <tr>\n",
              "      <th>0</th>\n",
              "      <td>3799</td>\n",
              "      <td>48751</td>\n",
              "      <td>London</td>\n",
              "      <td>16-03-2020</td>\n",
              "      <td>@MeNyrbie @Phil_Gahan @Chrisitv https://t.co/iFz9FAn2Pa and https://t.co/xX6ghGFzCC and https://...</td>\n",
              "      <td>Neutral</td>\n",
              "      <td>0.0</td>\n",
              "      <td>MeNyrbie PhilGahan Chrisitv httpstcoiFzFAnPa and httpstcoxXghGFzCC and httpstcoINlzdxNo</td>\n",
              "      <td>[menyrbie, philgahan, chrisitv, httpstcoifzfanpa, and, httpstcoxxghgfzcc, and, httpstcoinlzdxno]</td>\n",
              "      <td>[menyrbie, philgahan, chrisitv, httpstcoifzfanpa, httpstcoxxghgfzcc, httpstcoinlzdxno]</td>\n",
              "      <td>[menyrbi, philgahan, chrisitv, httpstcoifzfanpa, httpstcoxxghgfzcc, httpstcoinlzdxno]</td>\n",
              "    </tr>\n",
              "    <tr>\n",
              "      <th>1</th>\n",
              "      <td>3800</td>\n",
              "      <td>48752</td>\n",
              "      <td>UK</td>\n",
              "      <td>16-03-2020</td>\n",
              "      <td>advice Talk to your neighbours family to exchange phone numbers create contact list with phone n...</td>\n",
              "      <td>Positive</td>\n",
              "      <td>1.0</td>\n",
              "      <td>advice Talk to your neighbours family to exchange phone numbers create contact list with phone n...</td>\n",
              "      <td>[advice, talk, to, your, neighbours, family, to, exchange, phone, numbers, create, contact, list...</td>\n",
              "      <td>[advice, talk, neighbours, family, exchange, phone, numbers, create, contact, list, phone, numbe...</td>\n",
              "      <td>[advic, talk, neighbour, famili, exchang, phone, number, creat, contact, list, phone, number, ne...</td>\n",
              "    </tr>\n",
              "    <tr>\n",
              "      <th>2</th>\n",
              "      <td>3801</td>\n",
              "      <td>48753</td>\n",
              "      <td>Vagabonds</td>\n",
              "      <td>16-03-2020</td>\n",
              "      <td>Coronavirus Australia: Woolworths to give elderly, disabled dedicated shopping hours amid COVID-...</td>\n",
              "      <td>Positive</td>\n",
              "      <td>1.0</td>\n",
              "      <td>Coronavirus Australia Woolworths to give elderly disabled dedicated shopping hours amid COVID ou...</td>\n",
              "      <td>[coronavirus, australia, woolworths, to, give, elderly, disabled, dedicated, shopping, hours, am...</td>\n",
              "      <td>[coronavirus, australia, woolworths, give, elderly, disabled, dedicated, shopping, hours, amid, ...</td>\n",
              "      <td>[coronaviru, australia, woolworth, give, elderli, disabl, dedic, shop, hour, amid, covid, outbre...</td>\n",
              "    </tr>\n",
              "    <tr>\n",
              "      <th>3</th>\n",
              "      <td>3802</td>\n",
              "      <td>48754</td>\n",
              "      <td>NaN</td>\n",
              "      <td>16-03-2020</td>\n",
              "      <td>My food stock is not the only one which is empty...\\r\\r\\n\\r\\r\\nPLEASE, don't panic, THERE WILL B...</td>\n",
              "      <td>Positive</td>\n",
              "      <td>1.0</td>\n",
              "      <td>My food stock is not the only one which is empty\\r\\r\\n\\r\\r\\nPLEASE dont panic THERE WILL BE ENOU...</td>\n",
              "      <td>[my, food, stock, is, not, the, only, one, which, is, empty, please, dont, panic, there, will, b...</td>\n",
              "      <td>[food, stock, one, empty, please, dont, panic, enough, food, everyone, take, need, stay, calm, s...</td>\n",
              "      <td>[food, stock, one, empti, pleas, dont, panic, enough, food, everyon, take, need, stay, calm, sta...</td>\n",
              "    </tr>\n",
              "    <tr>\n",
              "      <th>4</th>\n",
              "      <td>3803</td>\n",
              "      <td>48755</td>\n",
              "      <td>NaN</td>\n",
              "      <td>16-03-2020</td>\n",
              "      <td>Me, ready to go at supermarket during the #COVID19 outbreak.\\r\\r\\n\\r\\r\\nNot because I'm paranoid...</td>\n",
              "      <td>Extremely Negative</td>\n",
              "      <td>3.0</td>\n",
              "      <td>Me ready to go at supermarket during the COVID outbreak\\r\\r\\n\\r\\r\\nNot because Im paranoid but b...</td>\n",
              "      <td>[me, ready, to, go, at, supermarket, during, the, covid, outbreak, not, because, im, paranoid, b...</td>\n",
              "      <td>[ready, go, supermarket, covid, outbreak, im, paranoid, food, stock, litteraly, empty, coronavir...</td>\n",
              "      <td>[readi, go, supermarket, covid, outbreak, im, paranoid, food, stock, litterali, empti, coronavir...</td>\n",
              "    </tr>\n",
              "    <tr>\n",
              "      <th>5</th>\n",
              "      <td>3804</td>\n",
              "      <td>48756</td>\n",
              "      <td>ÜT: 36.319708,-82.363649</td>\n",
              "      <td>16-03-2020</td>\n",
              "      <td>As news of the regions first confirmed COVID-19 case came out of Sullivan County last week, peo...</td>\n",
              "      <td>Positive</td>\n",
              "      <td>1.0</td>\n",
              "      <td>As news of the regions first confirmed COVID case came out of Sullivan County last week people ...</td>\n",
              "      <td>[as, news, of, the, region, s, first, confirmed, covid, case, came, out, of, sullivan, county, l...</td>\n",
              "      <td>[news, region, first, confirmed, covid, case, came, sullivan, county, last, week, people, flocke...</td>\n",
              "      <td>[news, region, first, confirm, covid, case, came, sullivan, counti, last, week, peopl, flock, ar...</td>\n",
              "    </tr>\n",
              "    <tr>\n",
              "      <th>6</th>\n",
              "      <td>3805</td>\n",
              "      <td>48757</td>\n",
              "      <td>35.926541,-78.753267</td>\n",
              "      <td>16-03-2020</td>\n",
              "      <td>Cashier at grocery store was sharing his insights on #Covid_19 To prove his credibility he comme...</td>\n",
              "      <td>Positive</td>\n",
              "      <td>1.0</td>\n",
              "      <td>Cashier at grocery store was sharing his insights on Covid To prove his credibility he commented...</td>\n",
              "      <td>[cashier, at, grocery, store, was, sharing, his, insights, on, covid, to, prove, his, credibilit...</td>\n",
              "      <td>[cashier, grocery, store, sharing, insights, covid, prove, credibility, commented, im, civics, c...</td>\n",
              "      <td>[cashier, groceri, store, share, insight, covid, prove, credibl, comment, im, civic, class, know...</td>\n",
              "    </tr>\n",
              "    <tr>\n",
              "      <th>7</th>\n",
              "      <td>3806</td>\n",
              "      <td>48758</td>\n",
              "      <td>Austria</td>\n",
              "      <td>16-03-2020</td>\n",
              "      <td>Was at the supermarket today. Didn't buy toilet paper. #Rebel\\r\\r\\n\\r\\r\\n#toiletpapercrisis #cov...</td>\n",
              "      <td>Neutral</td>\n",
              "      <td>0.0</td>\n",
              "      <td>Was at the supermarket today Didnt buy toilet paper Rebel\\r\\r\\n\\r\\r\\ntoiletpapercrisis covid htt...</td>\n",
              "      <td>[was, at, the, supermarket, today, didnt, buy, toilet, paper, rebel, toiletpapercrisis, covid, h...</td>\n",
              "      <td>[supermarket, today, didnt, buy, toilet, paper, rebel, toiletpapercrisis, covid, httpstcoevxkqli...</td>\n",
              "      <td>[supermarket, today, didnt, buy, toilet, paper, rebel, toiletpapercrisi, covid, httpstcoevxkqlidaz]</td>\n",
              "    </tr>\n",
              "    <tr>\n",
              "      <th>8</th>\n",
              "      <td>3807</td>\n",
              "      <td>48759</td>\n",
              "      <td>Atlanta, GA USA</td>\n",
              "      <td>16-03-2020</td>\n",
              "      <td>Due to COVID-19 our retail store and classroom in Atlanta will not be open for walk-in business ...</td>\n",
              "      <td>Positive</td>\n",
              "      <td>1.0</td>\n",
              "      <td>Due to COVID our retail store and classroom in Atlanta will not be open for walkin business or c...</td>\n",
              "      <td>[due, to, covid, our, retail, store, and, classroom, in, atlanta, will, not, be, open, for, walk...</td>\n",
              "      <td>[due, covid, retail, store, classroom, atlanta, open, walkin, business, classes, next, two, week...</td>\n",
              "      <td>[due, covid, retail, store, classroom, atlanta, open, walkin, busi, class, next, two, week, begi...</td>\n",
              "    </tr>\n",
              "    <tr>\n",
              "      <th>9</th>\n",
              "      <td>3808</td>\n",
              "      <td>48760</td>\n",
              "      <td>BHAVNAGAR,GUJRAT</td>\n",
              "      <td>16-03-2020</td>\n",
              "      <td>For corona prevention,we should stop to buy things with the cash and should use online payment m...</td>\n",
              "      <td>Negative</td>\n",
              "      <td>NaN</td>\n",
              "      <td>For corona preventionwe should stop to buy things with the cash and should use online payment me...</td>\n",
              "      <td>[for, corona, preventionwe, should, stop, to, buy, things, with, the, cash, and, should, use, on...</td>\n",
              "      <td>[corona, preventionwe, stop, buy, things, cash, use, online, payment, methods, corona, spread, n...</td>\n",
              "      <td>[corona, preventionw, stop, buy, thing, cash, use, onlin, payment, method, corona, spread, note,...</td>\n",
              "    </tr>\n",
              "  </tbody>\n",
              "</table>\n",
              "</div>"
            ],
            "text/plain": [
              "   UserName  ...                                                                                        Tweet_stemmed\n",
              "0      3799  ...                [menyrbi, philgahan, chrisitv, httpstcoifzfanpa, httpstcoxxghgfzcc, httpstcoinlzdxno]\n",
              "1      3800  ...  [advic, talk, neighbour, famili, exchang, phone, number, creat, contact, list, phone, number, ne...\n",
              "2      3801  ...  [coronaviru, australia, woolworth, give, elderli, disabl, dedic, shop, hour, amid, covid, outbre...\n",
              "3      3802  ...  [food, stock, one, empti, pleas, dont, panic, enough, food, everyon, take, need, stay, calm, sta...\n",
              "4      3803  ...  [readi, go, supermarket, covid, outbreak, im, paranoid, food, stock, litterali, empti, coronavir...\n",
              "5      3804  ...  [news, region, first, confirm, covid, case, came, sullivan, counti, last, week, peopl, flock, ar...\n",
              "6      3805  ...  [cashier, groceri, store, share, insight, covid, prove, credibl, comment, im, civic, class, know...\n",
              "7      3806  ...  [supermarket, today, didnt, buy, toilet, paper, rebel, toiletpapercrisi, covid, httpstcoevxkqlidaz]\n",
              "8      3807  ...  [due, covid, retail, store, classroom, atlanta, open, walkin, busi, class, next, two, week, begi...\n",
              "9      3808  ...  [corona, preventionw, stop, buy, thing, cash, use, onlin, payment, method, corona, spread, note,...\n",
              "\n",
              "[10 rows x 11 columns]"
            ]
          },
          "metadata": {
            "tags": []
          },
          "execution_count": 19
        }
      ]
    },
    {
      "cell_type": "code",
      "metadata": {
        "id": "M90jt1sr5vAR",
        "outputId": "e320c7e6-1e3e-47a6-a81e-c7920f64b4c3",
        "colab": {
          "base_uri": "https://localhost:8080/",
          "height": 1000
        }
      },
      "source": [
        "import nltk\n",
        "nltk.download('wordnet')\n",
        "wn = nltk.WordNetLemmatizer()\n",
        "\n",
        "def lemmatizer(text):\n",
        "    text = [wn.lemmatize(word) for word in text]\n",
        "    return text\n",
        "\n",
        "tweet_df['Tweet_lemmatized'] = tweet_df['Tweet_nonstop'].apply(lambda x: lemmatizer(x))\n",
        "tweet_df.head(10)"
      ],
      "execution_count": 21,
      "outputs": [
        {
          "output_type": "stream",
          "text": [
            "[nltk_data] Downloading package wordnet to /root/nltk_data...\n",
            "[nltk_data]   Unzipping corpora/wordnet.zip.\n"
          ],
          "name": "stdout"
        },
        {
          "output_type": "execute_result",
          "data": {
            "text/html": [
              "<div>\n",
              "<style scoped>\n",
              "    .dataframe tbody tr th:only-of-type {\n",
              "        vertical-align: middle;\n",
              "    }\n",
              "\n",
              "    .dataframe tbody tr th {\n",
              "        vertical-align: top;\n",
              "    }\n",
              "\n",
              "    .dataframe thead th {\n",
              "        text-align: right;\n",
              "    }\n",
              "</style>\n",
              "<table border=\"1\" class=\"dataframe\">\n",
              "  <thead>\n",
              "    <tr style=\"text-align: right;\">\n",
              "      <th></th>\n",
              "      <th>UserName</th>\n",
              "      <th>ScreenName</th>\n",
              "      <th>Location</th>\n",
              "      <th>TweetAt</th>\n",
              "      <th>OriginalTweet</th>\n",
              "      <th>Sentiment</th>\n",
              "      <th>label</th>\n",
              "      <th>Tweet_punct</th>\n",
              "      <th>Tweet_tokenized</th>\n",
              "      <th>Tweet_nonstop</th>\n",
              "      <th>Tweet_stemmed</th>\n",
              "      <th>Tweet_lemmatized</th>\n",
              "    </tr>\n",
              "  </thead>\n",
              "  <tbody>\n",
              "    <tr>\n",
              "      <th>0</th>\n",
              "      <td>3799</td>\n",
              "      <td>48751</td>\n",
              "      <td>London</td>\n",
              "      <td>16-03-2020</td>\n",
              "      <td>@MeNyrbie @Phil_Gahan @Chrisitv https://t.co/iFz9FAn2Pa and https://t.co/xX6ghGFzCC and https://...</td>\n",
              "      <td>Neutral</td>\n",
              "      <td>0.0</td>\n",
              "      <td>MeNyrbie PhilGahan Chrisitv httpstcoiFzFAnPa and httpstcoxXghGFzCC and httpstcoINlzdxNo</td>\n",
              "      <td>[menyrbie, philgahan, chrisitv, httpstcoifzfanpa, and, httpstcoxxghgfzcc, and, httpstcoinlzdxno]</td>\n",
              "      <td>[menyrbie, philgahan, chrisitv, httpstcoifzfanpa, httpstcoxxghgfzcc, httpstcoinlzdxno]</td>\n",
              "      <td>[menyrbi, philgahan, chrisitv, httpstcoifzfanpa, httpstcoxxghgfzcc, httpstcoinlzdxno]</td>\n",
              "      <td>[menyrbie, philgahan, chrisitv, httpstcoifzfanpa, httpstcoxxghgfzcc, httpstcoinlzdxno]</td>\n",
              "    </tr>\n",
              "    <tr>\n",
              "      <th>1</th>\n",
              "      <td>3800</td>\n",
              "      <td>48752</td>\n",
              "      <td>UK</td>\n",
              "      <td>16-03-2020</td>\n",
              "      <td>advice Talk to your neighbours family to exchange phone numbers create contact list with phone n...</td>\n",
              "      <td>Positive</td>\n",
              "      <td>1.0</td>\n",
              "      <td>advice Talk to your neighbours family to exchange phone numbers create contact list with phone n...</td>\n",
              "      <td>[advice, talk, to, your, neighbours, family, to, exchange, phone, numbers, create, contact, list...</td>\n",
              "      <td>[advice, talk, neighbours, family, exchange, phone, numbers, create, contact, list, phone, numbe...</td>\n",
              "      <td>[advic, talk, neighbour, famili, exchang, phone, number, creat, contact, list, phone, number, ne...</td>\n",
              "      <td>[advice, talk, neighbour, family, exchange, phone, number, create, contact, list, phone, number,...</td>\n",
              "    </tr>\n",
              "    <tr>\n",
              "      <th>2</th>\n",
              "      <td>3801</td>\n",
              "      <td>48753</td>\n",
              "      <td>Vagabonds</td>\n",
              "      <td>16-03-2020</td>\n",
              "      <td>Coronavirus Australia: Woolworths to give elderly, disabled dedicated shopping hours amid COVID-...</td>\n",
              "      <td>Positive</td>\n",
              "      <td>1.0</td>\n",
              "      <td>Coronavirus Australia Woolworths to give elderly disabled dedicated shopping hours amid COVID ou...</td>\n",
              "      <td>[coronavirus, australia, woolworths, to, give, elderly, disabled, dedicated, shopping, hours, am...</td>\n",
              "      <td>[coronavirus, australia, woolworths, give, elderly, disabled, dedicated, shopping, hours, amid, ...</td>\n",
              "      <td>[coronaviru, australia, woolworth, give, elderli, disabl, dedic, shop, hour, amid, covid, outbre...</td>\n",
              "      <td>[coronavirus, australia, woolworth, give, elderly, disabled, dedicated, shopping, hour, amid, co...</td>\n",
              "    </tr>\n",
              "    <tr>\n",
              "      <th>3</th>\n",
              "      <td>3802</td>\n",
              "      <td>48754</td>\n",
              "      <td>NaN</td>\n",
              "      <td>16-03-2020</td>\n",
              "      <td>My food stock is not the only one which is empty...\\r\\r\\n\\r\\r\\nPLEASE, don't panic, THERE WILL B...</td>\n",
              "      <td>Positive</td>\n",
              "      <td>1.0</td>\n",
              "      <td>My food stock is not the only one which is empty\\r\\r\\n\\r\\r\\nPLEASE dont panic THERE WILL BE ENOU...</td>\n",
              "      <td>[my, food, stock, is, not, the, only, one, which, is, empty, please, dont, panic, there, will, b...</td>\n",
              "      <td>[food, stock, one, empty, please, dont, panic, enough, food, everyone, take, need, stay, calm, s...</td>\n",
              "      <td>[food, stock, one, empti, pleas, dont, panic, enough, food, everyon, take, need, stay, calm, sta...</td>\n",
              "      <td>[food, stock, one, empty, please, dont, panic, enough, food, everyone, take, need, stay, calm, s...</td>\n",
              "    </tr>\n",
              "    <tr>\n",
              "      <th>4</th>\n",
              "      <td>3803</td>\n",
              "      <td>48755</td>\n",
              "      <td>NaN</td>\n",
              "      <td>16-03-2020</td>\n",
              "      <td>Me, ready to go at supermarket during the #COVID19 outbreak.\\r\\r\\n\\r\\r\\nNot because I'm paranoid...</td>\n",
              "      <td>Extremely Negative</td>\n",
              "      <td>3.0</td>\n",
              "      <td>Me ready to go at supermarket during the COVID outbreak\\r\\r\\n\\r\\r\\nNot because Im paranoid but b...</td>\n",
              "      <td>[me, ready, to, go, at, supermarket, during, the, covid, outbreak, not, because, im, paranoid, b...</td>\n",
              "      <td>[ready, go, supermarket, covid, outbreak, im, paranoid, food, stock, litteraly, empty, coronavir...</td>\n",
              "      <td>[readi, go, supermarket, covid, outbreak, im, paranoid, food, stock, litterali, empti, coronavir...</td>\n",
              "      <td>[ready, go, supermarket, covid, outbreak, im, paranoid, food, stock, litteraly, empty, coronavir...</td>\n",
              "    </tr>\n",
              "    <tr>\n",
              "      <th>5</th>\n",
              "      <td>3804</td>\n",
              "      <td>48756</td>\n",
              "      <td>ÜT: 36.319708,-82.363649</td>\n",
              "      <td>16-03-2020</td>\n",
              "      <td>As news of the regions first confirmed COVID-19 case came out of Sullivan County last week, peo...</td>\n",
              "      <td>Positive</td>\n",
              "      <td>1.0</td>\n",
              "      <td>As news of the regions first confirmed COVID case came out of Sullivan County last week people ...</td>\n",
              "      <td>[as, news, of, the, region, s, first, confirmed, covid, case, came, out, of, sullivan, county, l...</td>\n",
              "      <td>[news, region, first, confirmed, covid, case, came, sullivan, county, last, week, people, flocke...</td>\n",
              "      <td>[news, region, first, confirm, covid, case, came, sullivan, counti, last, week, peopl, flock, ar...</td>\n",
              "      <td>[news, region, first, confirmed, covid, case, came, sullivan, county, last, week, people, flocke...</td>\n",
              "    </tr>\n",
              "    <tr>\n",
              "      <th>6</th>\n",
              "      <td>3805</td>\n",
              "      <td>48757</td>\n",
              "      <td>35.926541,-78.753267</td>\n",
              "      <td>16-03-2020</td>\n",
              "      <td>Cashier at grocery store was sharing his insights on #Covid_19 To prove his credibility he comme...</td>\n",
              "      <td>Positive</td>\n",
              "      <td>1.0</td>\n",
              "      <td>Cashier at grocery store was sharing his insights on Covid To prove his credibility he commented...</td>\n",
              "      <td>[cashier, at, grocery, store, was, sharing, his, insights, on, covid, to, prove, his, credibilit...</td>\n",
              "      <td>[cashier, grocery, store, sharing, insights, covid, prove, credibility, commented, im, civics, c...</td>\n",
              "      <td>[cashier, groceri, store, share, insight, covid, prove, credibl, comment, im, civic, class, know...</td>\n",
              "      <td>[cashier, grocery, store, sharing, insight, covid, prove, credibility, commented, im, civics, cl...</td>\n",
              "    </tr>\n",
              "    <tr>\n",
              "      <th>7</th>\n",
              "      <td>3806</td>\n",
              "      <td>48758</td>\n",
              "      <td>Austria</td>\n",
              "      <td>16-03-2020</td>\n",
              "      <td>Was at the supermarket today. Didn't buy toilet paper. #Rebel\\r\\r\\n\\r\\r\\n#toiletpapercrisis #cov...</td>\n",
              "      <td>Neutral</td>\n",
              "      <td>0.0</td>\n",
              "      <td>Was at the supermarket today Didnt buy toilet paper Rebel\\r\\r\\n\\r\\r\\ntoiletpapercrisis covid htt...</td>\n",
              "      <td>[was, at, the, supermarket, today, didnt, buy, toilet, paper, rebel, toiletpapercrisis, covid, h...</td>\n",
              "      <td>[supermarket, today, didnt, buy, toilet, paper, rebel, toiletpapercrisis, covid, httpstcoevxkqli...</td>\n",
              "      <td>[supermarket, today, didnt, buy, toilet, paper, rebel, toiletpapercrisi, covid, httpstcoevxkqlidaz]</td>\n",
              "      <td>[supermarket, today, didnt, buy, toilet, paper, rebel, toiletpapercrisis, covid, httpstcoevxkqli...</td>\n",
              "    </tr>\n",
              "    <tr>\n",
              "      <th>8</th>\n",
              "      <td>3807</td>\n",
              "      <td>48759</td>\n",
              "      <td>Atlanta, GA USA</td>\n",
              "      <td>16-03-2020</td>\n",
              "      <td>Due to COVID-19 our retail store and classroom in Atlanta will not be open for walk-in business ...</td>\n",
              "      <td>Positive</td>\n",
              "      <td>1.0</td>\n",
              "      <td>Due to COVID our retail store and classroom in Atlanta will not be open for walkin business or c...</td>\n",
              "      <td>[due, to, covid, our, retail, store, and, classroom, in, atlanta, will, not, be, open, for, walk...</td>\n",
              "      <td>[due, covid, retail, store, classroom, atlanta, open, walkin, business, classes, next, two, week...</td>\n",
              "      <td>[due, covid, retail, store, classroom, atlanta, open, walkin, busi, class, next, two, week, begi...</td>\n",
              "      <td>[due, covid, retail, store, classroom, atlanta, open, walkin, business, class, next, two, week, ...</td>\n",
              "    </tr>\n",
              "    <tr>\n",
              "      <th>9</th>\n",
              "      <td>3808</td>\n",
              "      <td>48760</td>\n",
              "      <td>BHAVNAGAR,GUJRAT</td>\n",
              "      <td>16-03-2020</td>\n",
              "      <td>For corona prevention,we should stop to buy things with the cash and should use online payment m...</td>\n",
              "      <td>Negative</td>\n",
              "      <td>NaN</td>\n",
              "      <td>For corona preventionwe should stop to buy things with the cash and should use online payment me...</td>\n",
              "      <td>[for, corona, preventionwe, should, stop, to, buy, things, with, the, cash, and, should, use, on...</td>\n",
              "      <td>[corona, preventionwe, stop, buy, things, cash, use, online, payment, methods, corona, spread, n...</td>\n",
              "      <td>[corona, preventionw, stop, buy, thing, cash, use, onlin, payment, method, corona, spread, note,...</td>\n",
              "      <td>[corona, preventionwe, stop, buy, thing, cash, use, online, payment, method, corona, spread, not...</td>\n",
              "    </tr>\n",
              "  </tbody>\n",
              "</table>\n",
              "</div>"
            ],
            "text/plain": [
              "   UserName  ...                                                                                     Tweet_lemmatized\n",
              "0      3799  ...               [menyrbie, philgahan, chrisitv, httpstcoifzfanpa, httpstcoxxghgfzcc, httpstcoinlzdxno]\n",
              "1      3800  ...  [advice, talk, neighbour, family, exchange, phone, number, create, contact, list, phone, number,...\n",
              "2      3801  ...  [coronavirus, australia, woolworth, give, elderly, disabled, dedicated, shopping, hour, amid, co...\n",
              "3      3802  ...  [food, stock, one, empty, please, dont, panic, enough, food, everyone, take, need, stay, calm, s...\n",
              "4      3803  ...  [ready, go, supermarket, covid, outbreak, im, paranoid, food, stock, litteraly, empty, coronavir...\n",
              "5      3804  ...  [news, region, first, confirmed, covid, case, came, sullivan, county, last, week, people, flocke...\n",
              "6      3805  ...  [cashier, grocery, store, sharing, insight, covid, prove, credibility, commented, im, civics, cl...\n",
              "7      3806  ...  [supermarket, today, didnt, buy, toilet, paper, rebel, toiletpapercrisis, covid, httpstcoevxkqli...\n",
              "8      3807  ...  [due, covid, retail, store, classroom, atlanta, open, walkin, business, class, next, two, week, ...\n",
              "9      3808  ...  [corona, preventionwe, stop, buy, thing, cash, use, online, payment, method, corona, spread, not...\n",
              "\n",
              "[10 rows x 12 columns]"
            ]
          },
          "metadata": {
            "tags": []
          },
          "execution_count": 21
        }
      ]
    },
    {
      "cell_type": "code",
      "metadata": {
        "id": "vyrOdVEo6UTE"
      },
      "source": [
        "def clean_text(text):\n",
        "    text_lc = \"\".join([word.lower() for word in text if word not in string.punctuation]) # remove puntuation\n",
        "    text_rc = re.sub('[0-9]+', '', text_lc)\n",
        "    tokens = re.split('\\W+', text_rc)    # tokenization\n",
        "    text = [ps.stem(word) for word in tokens if word not in stopword]  # remove stopwords and stemming\n",
        "    return text"
      ],
      "execution_count": 22,
      "outputs": []
    },
    {
      "cell_type": "code",
      "metadata": {
        "id": "w3dIYEsg774d"
      },
      "source": [
        "# saving the dataframe \n",
        "#tweet_df.to_csv('D:/Fake news/TWETTS NLP/processing_file.csv') \n",
        "#tweet_df.to_csv('D:/Fake news/TWETTS NLP/processing_file.csv)\n",
        "tweet_df.to_csv('/content/drive/My Drive/Colab Notebooks/Data/processing_file.csv')"
      ],
      "execution_count": 29,
      "outputs": []
    }
  ]
}